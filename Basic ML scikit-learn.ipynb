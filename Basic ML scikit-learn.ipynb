{
 "cells": [
  {
   "cell_type": "markdown",
   "id": "4804eee0",
   "metadata": {},
   "source": [
    "## Import packages and set working directory"
   ]
  },
  {
   "cell_type": "code",
   "execution_count": 1,
   "id": "86d39010",
   "metadata": {},
   "outputs": [],
   "source": [
    "import os\n",
    "import pandas as pd\n",
    "import numpy as np"
   ]
  },
  {
   "cell_type": "code",
   "execution_count": 2,
   "id": "9ad196cb",
   "metadata": {},
   "outputs": [
    {
     "data": {
      "text/plain": [
       "'c:\\\\Users\\\\marcu\\\\Documents\\\\git repository\\\\game_prediction_with_FPL_data'"
      ]
     },
     "execution_count": 2,
     "metadata": {},
     "output_type": "execute_result"
    }
   ],
   "source": [
    "# Get the current working directory\n",
    "os.getcwd()"
   ]
  },
  {
   "cell_type": "markdown",
   "id": "b9f5dfb9",
   "metadata": {},
   "source": [
    "## Importing and checking data"
   ]
  },
  {
   "cell_type": "code",
   "execution_count": 18,
   "id": "6aec8862",
   "metadata": {},
   "outputs": [],
   "source": [
    "df = pd.read_csv(\"train_score.csv\", sep = \";\", decimal=\",\")"
   ]
  },
  {
   "cell_type": "code",
   "execution_count": 19,
   "id": "9db72f77",
   "metadata": {},
   "outputs": [],
   "source": [
    "#pd.set_option('display.max_rows', None)\n",
    "pd.set_option('display.max_rows', 10)"
   ]
  },
  {
   "cell_type": "markdown",
   "id": "6c1eace6",
   "metadata": {},
   "source": [
    "Checking columns data types"
   ]
  },
  {
   "cell_type": "code",
   "execution_count": 20,
   "id": "20f89f80",
   "metadata": {},
   "outputs": [
    {
     "data": {
      "text/plain": [
       "Unnamed: 0                                 int64\n",
       "id                                         int64\n",
       "team_h                                     int64\n",
       "team_a                                     int64\n",
       "result                                    object\n",
       "                                           ...  \n",
       "best_assists_m_player_playing_player_a     int64\n",
       "best_assists_f_player_playing_player_a     int64\n",
       "team_name_home                            object\n",
       "team_name_away                            object\n",
       "season                                    object\n",
       "Length: 103, dtype: object"
      ]
     },
     "execution_count": 20,
     "metadata": {},
     "output_type": "execute_result"
    }
   ],
   "source": [
    "df.dtypes #.to_dict()"
   ]
  },
  {
   "cell_type": "markdown",
   "id": "3294f0ea",
   "metadata": {},
   "source": [
    "Checking number of NA is each column"
   ]
  },
  {
   "cell_type": "code",
   "execution_count": 21,
   "id": "0651b5e2",
   "metadata": {},
   "outputs": [
    {
     "name": "stdout",
     "output_type": "stream",
     "text": [
      "Unnamed: 0                                0\n",
      "id                                        0\n",
      "team_h                                    0\n",
      "team_a                                    0\n",
      "result                                    9\n",
      "                                         ..\n",
      "best_assists_m_player_playing_player_a    0\n",
      "best_assists_f_player_playing_player_a    0\n",
      "team_name_home                            0\n",
      "team_name_away                            0\n",
      "season                                    0\n",
      "Length: 103, dtype: int64\n"
     ]
    }
   ],
   "source": [
    "print(df.isnull().sum())"
   ]
  },
  {
   "cell_type": "markdown",
   "id": "f25794d0",
   "metadata": {},
   "source": [
    "Following features has NA:\n",
    "- win_rate_h_team_h\n",
    "- win_rate_h_last_5_team_h\n",
    "- draw_rate_h_team_h\n",
    "- draw_rate_h_last_5_team_h\n",
    "- loss_rate_h_team_h\n",
    "- loss_rate_h_last_5_team_h\n",
    "- avg_scored_goals_h_team_h\n",
    "- avg_scored_goals_h_last_5_team_h\n",
    "- avg_conceded_goals_h_team_h\n",
    "- avg_conceded_goals_h_last_5_team_h\n",
    "- win_rate_a_team_a\n",
    "- win_rate_a_last_5_team_a\n",
    "- draw_rate_a_team_a\n",
    "- draw_rate_a_last_5_team_a\n",
    "- loss_rate_a_team_a\n",
    "- loss_rate_a_last_5_team_a\n",
    "- avg_scored_goals_a_team_a\n",
    "- avg_scored_goals_a_last_5_team_a\n",
    "- avg_conceded_goals_a_team_a\n",
    "- avg_conceded_goals_a_last_5_team_a\n"
   ]
  },
  {
   "cell_type": "code",
   "execution_count": 22,
   "id": "e83a00ef",
   "metadata": {},
   "outputs": [],
   "source": [
    "pd.set_option('display.max_rows', 10)"
   ]
  },
  {
   "cell_type": "code",
   "execution_count": 23,
   "id": "20494339",
   "metadata": {},
   "outputs": [],
   "source": [
    "# pd.set_option('display.max_columns', 101)"
   ]
  },
  {
   "cell_type": "markdown",
   "id": "b197d0a2",
   "metadata": {},
   "source": [
    "## Fixing targets and creating train- and score-datasets"
   ]
  },
  {
   "cell_type": "code",
   "execution_count": 24,
   "id": "5f3689ed",
   "metadata": {},
   "outputs": [],
   "source": [
    "X = df.loc[df.result.notna()].copy()\n",
    "score = df.loc[df.result.isna()].copy()"
   ]
  },
  {
   "cell_type": "code",
   "execution_count": 25,
   "id": "fee37322",
   "metadata": {},
   "outputs": [],
   "source": [
    "X[\"result_home_win\"] = np.where(X.result == \"1\", 1, 0)\n",
    "X[\"result_draw\"] = np.where(X.result == \"X\", 1, 0)\n",
    "X[\"result_away_win\"] = np.where(X.result == \"2\", 1, 0)"
   ]
  },
  {
   "cell_type": "markdown",
   "id": "c7f063e3",
   "metadata": {},
   "source": [
    "## ML"
   ]
  },
  {
   "cell_type": "code",
   "execution_count": 26,
   "id": "6de5a86e",
   "metadata": {},
   "outputs": [],
   "source": [
    "# pd.options.display.precision = 4\n",
    "# pd.options.mode.chained_assignment = None  \n",
    "\n",
    "# Machine learning pipeline\n",
    "from sklearn.model_selection import train_test_split\n",
    "from sklearn.base import BaseEstimator, TransformerMixin\n",
    "from sklearn.impute import SimpleImputer\n",
    "from sklearn.preprocessing import OneHotEncoder, MinMaxScaler\n",
    "from sklearn.compose import ColumnTransformer\n",
    "from sklearn.pipeline import Pipeline\n",
    "from sklearn.linear_model import LogisticRegression\n",
    "from sklearn.ensemble import GradientBoostingClassifier, RandomForestClassifier\n",
    "from sklearn.tree import DecisionTreeClassifier\n",
    "from sklearn.metrics import roc_auc_score\n",
    "from sklearn import set_config\n",
    "from sklearn.model_selection import KFold, cross_val_score, GridSearchCV\n",
    "\n",
    "set_config(display = \"diagram\")\n",
    "\n",
    "seed = 134680"
   ]
  },
  {
   "cell_type": "code",
   "execution_count": 27,
   "id": "8cef2420",
   "metadata": {},
   "outputs": [],
   "source": [
    "features = X.columns.drop(['team_h', 'team_a', 'result', 'match_day', 'result_draw', 'result_away_win', 'result_home_win', 'team_name_home', 'team_name_away'])"
   ]
  },
  {
   "cell_type": "code",
   "execution_count": 28,
   "id": "f4107030",
   "metadata": {},
   "outputs": [
    {
     "name": "stdout",
     "output_type": "stream",
     "text": [
      "Numerical features: Unnamed: 0, id, scored_goals_team_h, conceded_goals_team_h, win_team_h, draw_team_h, loss_team_h, win_rate_team_h, win_rate_last_5_team_h, win_rate_h_team_h, win_rate_h_last_5_team_h, draw_rate_team_h, draw_rate_last_5_team_h, draw_rate_h_team_h, draw_rate_h_last_5_team_h, loss_rate_team_h, loss_rate_last_5_team_h, loss_rate_h_team_h, loss_rate_h_last_5_team_h, avg_scored_goals_team_h, avg_scored_goals_last_5_team_h, avg_scored_goals_h_team_h, avg_scored_goals_h_last_5_team_h, avg_conceded_goals_team_h, avg_conceded_goals_last_5_team_h, avg_conceded_goals_h_team_h, avg_conceded_goals_h_last_5_team_h, scored_goals_team_a, conceded_goals_team_a, win_team_a, draw_team_a, loss_team_a, win_rate_team_a, win_rate_last_5_team_a, win_rate_a_team_a, win_rate_a_last_5_team_a, draw_rate_team_a, draw_rate_last_5_team_a, draw_rate_a_team_a, draw_rate_a_last_5_team_a, loss_rate_team_a, loss_rate_last_5_team_a, loss_rate_a_team_a, loss_rate_a_last_5_team_a, avg_scored_goals_team_a, avg_scored_goals_last_5_team_a, avg_scored_goals_a_team_a, avg_scored_goals_a_last_5_team_a, avg_conceded_goals_team_a, avg_conceded_goals_last_5_team_a, avg_conceded_goals_a_team_a, avg_conceded_goals_a_last_5_team_a, max_value_player_h, max_value_position_g_player_h, max_value_position_d_player_h, max_value_position_m_player_h, max_value_position_f_player_h, avg_goals_per_hour_5_player_h, avg_goals_per_hour_10_player_h, avg_assists_per_hour_5_player_h, avg_assists_per_hour_10_player_h, avg_goals_conceded_per_hour_5_player_h, avg_goals_conceded_per_hour_10_player_h, most_valuable_player_playing_player_h, most_valuable_g_player_playing_player_h, most_valuable_f_player_playing_player_h, most_valuable_m_player_playing_player_h, best_goal_scorer_playing_player_h, best_m_goal_scorer_playing_player_h, best_f_goal_scorer_playing_player_h, best_assists_player_playing_player_h, best_assists_d_player_playing_player_h, best_assists_m_player_playing_player_h, best_assists_f_player_playing_player_h, max_value_player_a, max_value_position_g_player_a, max_value_position_d_player_a, max_value_position_m_player_a, max_value_position_f_player_a, avg_goals_per_hour_5_player_a, avg_goals_per_hour_10_player_a, avg_assists_per_hour_5_player_a, avg_assists_per_hour_10_player_a, avg_goals_conceded_per_hour_5_player_a, avg_goals_conceded_per_hour_10_player_a, most_valuable_player_playing_player_a, most_valuable_g_player_playing_player_a, most_valuable_f_player_playing_player_a, most_valuable_m_player_playing_player_a, best_goal_scorer_playing_player_a, best_m_goal_scorer_playing_player_a, best_f_goal_scorer_playing_player_a, best_assists_player_playing_player_a, best_assists_d_player_playing_player_a, best_assists_m_player_playing_player_a, best_assists_f_player_playing_player_a\n"
     ]
    }
   ],
   "source": [
    "numerical = X[features].select_dtypes('number').columns\n",
    "print(f\"Numerical features: {', '.join(numerical)}\")"
   ]
  },
  {
   "cell_type": "code",
   "execution_count": 29,
   "id": "954e3342",
   "metadata": {},
   "outputs": [
    {
     "name": "stdout",
     "output_type": "stream",
     "text": [
      "Categorical features: season\n"
     ]
    }
   ],
   "source": [
    "categorical = pd.Index(np.setdiff1d(features, numerical))\n",
    "print(f\"Categorical features: {', '.join(categorical)}\")"
   ]
  },
  {
   "cell_type": "code",
   "execution_count": 30,
   "id": "035819c4",
   "metadata": {},
   "outputs": [],
   "source": [
    "numerical_pipe = Pipeline([\n",
    "    ('imputer', SimpleImputer(strategy = 'mean')),\n",
    "    ('scaler', MinMaxScaler())\n",
    "])\n",
    "\n",
    "categorical_pipe = Pipeline([\n",
    "    ('imputer', SimpleImputer(strategy = 'constant', fill_value = 'missing')),\n",
    "    ('encoder', OneHotEncoder(drop = 'first', handle_unknown = 'error', sparse = False))\n",
    "])\n",
    "\n",
    "preprocessors = ColumnTransformer(transformers = [\n",
    "    ('num', numerical_pipe, numerical),\n",
    "    ('cat', categorical_pipe, categorical)\n",
    "])\n",
    "\n",
    "pipe_to_cv = Pipeline([\n",
    "    ('preprocessors', preprocessors)\n",
    "])"
   ]
  },
  {
   "cell_type": "code",
   "execution_count": null,
   "id": "5b2f88a3",
   "metadata": {},
   "outputs": [],
   "source": [
    "def calculate_roc_auc(model_pipe, X, y):\n",
    "    \"\"\"Calculate roc auc score. \n",
    "    \n",
    "    Parameters:\n",
    "    ===========\n",
    "    model_pipe: sklearn model or pipeline\n",
    "    X: features\n",
    "    y: true target\n",
    "    \"\"\"\n",
    "    y_proba = model_pipe.predict_proba(X)[:,1]\n",
    "    return roc_auc_score(y, y_proba)"
   ]
  },
  {
   "cell_type": "markdown",
   "id": "affb8a50",
   "metadata": {},
   "source": [
    "### Predicting home-win"
   ]
  },
  {
   "cell_type": "code",
   "execution_count": 31,
   "id": "5cbf8348",
   "metadata": {},
   "outputs": [],
   "source": [
    "target = 'result_home_win'"
   ]
  },
  {
   "cell_type": "markdown",
   "id": "8d19d5c1",
   "metadata": {},
   "source": [
    "#### CV"
   ]
  },
  {
   "cell_type": "code",
   "execution_count": 32,
   "id": "0700ed03",
   "metadata": {},
   "outputs": [],
   "source": [
    "fit_to_csv = pipe_to_cv.fit(X[features])"
   ]
  },
  {
   "cell_type": "code",
   "execution_count": 33,
   "id": "5fdac7ec",
   "metadata": {},
   "outputs": [],
   "source": [
    "X_to_csv = pipe_to_cv.transform(X[features])"
   ]
  },
  {
   "cell_type": "code",
   "execution_count": 34,
   "id": "5ff695f7",
   "metadata": {},
   "outputs": [],
   "source": [
    "# Create the parameter grid based on the results of random search \n",
    "param_grid = {\n",
    "    'bootstrap': [True],\n",
    "    'max_depth': [20, 40, 60],\n",
    "    'max_features': [2, 3, 5, 10, 20],\n",
    "    'min_samples_leaf': [3, 4, 5, 10, 20],\n",
    "    'n_estimators': [10, 50, 100]\n",
    "}\n",
    "\n",
    "# Create a based model\n",
    "rf = RandomForestClassifier()\n",
    "\n",
    "# Instantiate the grid search model\n",
    "grid_search = GridSearchCV(estimator = rf, param_grid = param_grid, \n",
    "                          cv = 3, n_jobs = -1, verbose = 2)"
   ]
  },
  {
   "cell_type": "code",
   "execution_count": 35,
   "id": "1bf58656",
   "metadata": {},
   "outputs": [
    {
     "name": "stdout",
     "output_type": "stream",
     "text": [
      "Fitting 3 folds for each of 225 candidates, totalling 675 fits\n"
     ]
    },
    {
     "data": {
      "text/html": [
       "<style>#sk-container-id-1 {color: black;background-color: white;}#sk-container-id-1 pre{padding: 0;}#sk-container-id-1 div.sk-toggleable {background-color: white;}#sk-container-id-1 label.sk-toggleable__label {cursor: pointer;display: block;width: 100%;margin-bottom: 0;padding: 0.3em;box-sizing: border-box;text-align: center;}#sk-container-id-1 label.sk-toggleable__label-arrow:before {content: \"▸\";float: left;margin-right: 0.25em;color: #696969;}#sk-container-id-1 label.sk-toggleable__label-arrow:hover:before {color: black;}#sk-container-id-1 div.sk-estimator:hover label.sk-toggleable__label-arrow:before {color: black;}#sk-container-id-1 div.sk-toggleable__content {max-height: 0;max-width: 0;overflow: hidden;text-align: left;background-color: #f0f8ff;}#sk-container-id-1 div.sk-toggleable__content pre {margin: 0.2em;color: black;border-radius: 0.25em;background-color: #f0f8ff;}#sk-container-id-1 input.sk-toggleable__control:checked~div.sk-toggleable__content {max-height: 200px;max-width: 100%;overflow: auto;}#sk-container-id-1 input.sk-toggleable__control:checked~label.sk-toggleable__label-arrow:before {content: \"▾\";}#sk-container-id-1 div.sk-estimator input.sk-toggleable__control:checked~label.sk-toggleable__label {background-color: #d4ebff;}#sk-container-id-1 div.sk-label input.sk-toggleable__control:checked~label.sk-toggleable__label {background-color: #d4ebff;}#sk-container-id-1 input.sk-hidden--visually {border: 0;clip: rect(1px 1px 1px 1px);clip: rect(1px, 1px, 1px, 1px);height: 1px;margin: -1px;overflow: hidden;padding: 0;position: absolute;width: 1px;}#sk-container-id-1 div.sk-estimator {font-family: monospace;background-color: #f0f8ff;border: 1px dotted black;border-radius: 0.25em;box-sizing: border-box;margin-bottom: 0.5em;}#sk-container-id-1 div.sk-estimator:hover {background-color: #d4ebff;}#sk-container-id-1 div.sk-parallel-item::after {content: \"\";width: 100%;border-bottom: 1px solid gray;flex-grow: 1;}#sk-container-id-1 div.sk-label:hover label.sk-toggleable__label {background-color: #d4ebff;}#sk-container-id-1 div.sk-serial::before {content: \"\";position: absolute;border-left: 1px solid gray;box-sizing: border-box;top: 0;bottom: 0;left: 50%;z-index: 0;}#sk-container-id-1 div.sk-serial {display: flex;flex-direction: column;align-items: center;background-color: white;padding-right: 0.2em;padding-left: 0.2em;position: relative;}#sk-container-id-1 div.sk-item {position: relative;z-index: 1;}#sk-container-id-1 div.sk-parallel {display: flex;align-items: stretch;justify-content: center;background-color: white;position: relative;}#sk-container-id-1 div.sk-item::before, #sk-container-id-1 div.sk-parallel-item::before {content: \"\";position: absolute;border-left: 1px solid gray;box-sizing: border-box;top: 0;bottom: 0;left: 50%;z-index: -1;}#sk-container-id-1 div.sk-parallel-item {display: flex;flex-direction: column;z-index: 1;position: relative;background-color: white;}#sk-container-id-1 div.sk-parallel-item:first-child::after {align-self: flex-end;width: 50%;}#sk-container-id-1 div.sk-parallel-item:last-child::after {align-self: flex-start;width: 50%;}#sk-container-id-1 div.sk-parallel-item:only-child::after {width: 0;}#sk-container-id-1 div.sk-dashed-wrapped {border: 1px dashed gray;margin: 0 0.4em 0.5em 0.4em;box-sizing: border-box;padding-bottom: 0.4em;background-color: white;}#sk-container-id-1 div.sk-label label {font-family: monospace;font-weight: bold;display: inline-block;line-height: 1.2em;}#sk-container-id-1 div.sk-label-container {text-align: center;}#sk-container-id-1 div.sk-container {/* jupyter's `normalize.less` sets `[hidden] { display: none; }` but bootstrap.min.css set `[hidden] { display: none !important; }` so we also need the `!important` here to be able to override the default hidden behavior on the sphinx rendered scikit-learn.org. See: https://github.com/scikit-learn/scikit-learn/issues/21755 */display: inline-block !important;position: relative;}#sk-container-id-1 div.sk-text-repr-fallback {display: none;}</style><div id=\"sk-container-id-1\" class=\"sk-top-container\"><div class=\"sk-text-repr-fallback\"><pre>GridSearchCV(cv=3, estimator=RandomForestClassifier(), n_jobs=-1,\n",
       "             param_grid={&#x27;bootstrap&#x27;: [True], &#x27;max_depth&#x27;: [20, 40, 60],\n",
       "                         &#x27;max_features&#x27;: [2, 3, 5, 10, 20],\n",
       "                         &#x27;min_samples_leaf&#x27;: [3, 4, 5, 10, 20],\n",
       "                         &#x27;n_estimators&#x27;: [10, 50, 100]},\n",
       "             verbose=2)</pre><b>In a Jupyter environment, please rerun this cell to show the HTML representation or trust the notebook. <br />On GitHub, the HTML representation is unable to render, please try loading this page with nbviewer.org.</b></div><div class=\"sk-container\" hidden><div class=\"sk-item sk-dashed-wrapped\"><div class=\"sk-label-container\"><div class=\"sk-label sk-toggleable\"><input class=\"sk-toggleable__control sk-hidden--visually\" id=\"sk-estimator-id-1\" type=\"checkbox\" ><label for=\"sk-estimator-id-1\" class=\"sk-toggleable__label sk-toggleable__label-arrow\">GridSearchCV</label><div class=\"sk-toggleable__content\"><pre>GridSearchCV(cv=3, estimator=RandomForestClassifier(), n_jobs=-1,\n",
       "             param_grid={&#x27;bootstrap&#x27;: [True], &#x27;max_depth&#x27;: [20, 40, 60],\n",
       "                         &#x27;max_features&#x27;: [2, 3, 5, 10, 20],\n",
       "                         &#x27;min_samples_leaf&#x27;: [3, 4, 5, 10, 20],\n",
       "                         &#x27;n_estimators&#x27;: [10, 50, 100]},\n",
       "             verbose=2)</pre></div></div></div><div class=\"sk-parallel\"><div class=\"sk-parallel-item\"><div class=\"sk-item\"><div class=\"sk-label-container\"><div class=\"sk-label sk-toggleable\"><input class=\"sk-toggleable__control sk-hidden--visually\" id=\"sk-estimator-id-2\" type=\"checkbox\" ><label for=\"sk-estimator-id-2\" class=\"sk-toggleable__label sk-toggleable__label-arrow\">estimator: RandomForestClassifier</label><div class=\"sk-toggleable__content\"><pre>RandomForestClassifier()</pre></div></div></div><div class=\"sk-serial\"><div class=\"sk-item\"><div class=\"sk-estimator sk-toggleable\"><input class=\"sk-toggleable__control sk-hidden--visually\" id=\"sk-estimator-id-3\" type=\"checkbox\" ><label for=\"sk-estimator-id-3\" class=\"sk-toggleable__label sk-toggleable__label-arrow\">RandomForestClassifier</label><div class=\"sk-toggleable__content\"><pre>RandomForestClassifier()</pre></div></div></div></div></div></div></div></div></div></div>"
      ],
      "text/plain": [
       "GridSearchCV(cv=3, estimator=RandomForestClassifier(), n_jobs=-1,\n",
       "             param_grid={'bootstrap': [True], 'max_depth': [20, 40, 60],\n",
       "                         'max_features': [2, 3, 5, 10, 20],\n",
       "                         'min_samples_leaf': [3, 4, 5, 10, 20],\n",
       "                         'n_estimators': [10, 50, 100]},\n",
       "             verbose=2)"
      ]
     },
     "execution_count": 35,
     "metadata": {},
     "output_type": "execute_result"
    }
   ],
   "source": [
    "grid_search.fit(X_to_csv, X[target])"
   ]
  },
  {
   "cell_type": "code",
   "execution_count": 36,
   "id": "45d14114",
   "metadata": {},
   "outputs": [
    {
     "data": {
      "text/plain": [
       "{'bootstrap': True,\n",
       " 'max_depth': 60,\n",
       " 'max_features': 20,\n",
       " 'min_samples_leaf': 20,\n",
       " 'n_estimators': 50}"
      ]
     },
     "execution_count": 36,
     "metadata": {},
     "output_type": "execute_result"
    }
   ],
   "source": [
    "grid_search.best_params_"
   ]
  },
  {
   "cell_type": "markdown",
   "id": "f80e53a2",
   "metadata": {},
   "source": [
    "#### Final model"
   ]
  },
  {
   "cell_type": "code",
   "execution_count": 37,
   "id": "76594671",
   "metadata": {},
   "outputs": [],
   "source": [
    "pipe_rf = Pipeline([\n",
    "    ('preprocessors', preprocessors),\n",
    "    #('model', RandomForestClassifier(bootstrap = True, max_depth = 40, max_features = 5, min_samples_leaf = 5, n_estimators = 100))\n",
    "    ('model', RandomForestClassifier(**grid_search.best_params_))\n",
    "])"
   ]
  },
  {
   "cell_type": "code",
   "execution_count": 38,
   "id": "2052b44b",
   "metadata": {},
   "outputs": [],
   "source": [
    "X_train, X_test, y_train, y_test = train_test_split(X[features], \n",
    "                                                    X[target], \n",
    "                                                    test_size = .2, \n",
    "                                                    random_state = seed, \n",
    "                                                    stratify = X[target])"
   ]
  },
  {
   "cell_type": "code",
   "execution_count": 39,
   "id": "a0c1c018",
   "metadata": {},
   "outputs": [
    {
     "data": {
      "text/html": [
       "<style>#sk-container-id-2 {color: black;background-color: white;}#sk-container-id-2 pre{padding: 0;}#sk-container-id-2 div.sk-toggleable {background-color: white;}#sk-container-id-2 label.sk-toggleable__label {cursor: pointer;display: block;width: 100%;margin-bottom: 0;padding: 0.3em;box-sizing: border-box;text-align: center;}#sk-container-id-2 label.sk-toggleable__label-arrow:before {content: \"▸\";float: left;margin-right: 0.25em;color: #696969;}#sk-container-id-2 label.sk-toggleable__label-arrow:hover:before {color: black;}#sk-container-id-2 div.sk-estimator:hover label.sk-toggleable__label-arrow:before {color: black;}#sk-container-id-2 div.sk-toggleable__content {max-height: 0;max-width: 0;overflow: hidden;text-align: left;background-color: #f0f8ff;}#sk-container-id-2 div.sk-toggleable__content pre {margin: 0.2em;color: black;border-radius: 0.25em;background-color: #f0f8ff;}#sk-container-id-2 input.sk-toggleable__control:checked~div.sk-toggleable__content {max-height: 200px;max-width: 100%;overflow: auto;}#sk-container-id-2 input.sk-toggleable__control:checked~label.sk-toggleable__label-arrow:before {content: \"▾\";}#sk-container-id-2 div.sk-estimator input.sk-toggleable__control:checked~label.sk-toggleable__label {background-color: #d4ebff;}#sk-container-id-2 div.sk-label input.sk-toggleable__control:checked~label.sk-toggleable__label {background-color: #d4ebff;}#sk-container-id-2 input.sk-hidden--visually {border: 0;clip: rect(1px 1px 1px 1px);clip: rect(1px, 1px, 1px, 1px);height: 1px;margin: -1px;overflow: hidden;padding: 0;position: absolute;width: 1px;}#sk-container-id-2 div.sk-estimator {font-family: monospace;background-color: #f0f8ff;border: 1px dotted black;border-radius: 0.25em;box-sizing: border-box;margin-bottom: 0.5em;}#sk-container-id-2 div.sk-estimator:hover {background-color: #d4ebff;}#sk-container-id-2 div.sk-parallel-item::after {content: \"\";width: 100%;border-bottom: 1px solid gray;flex-grow: 1;}#sk-container-id-2 div.sk-label:hover label.sk-toggleable__label {background-color: #d4ebff;}#sk-container-id-2 div.sk-serial::before {content: \"\";position: absolute;border-left: 1px solid gray;box-sizing: border-box;top: 0;bottom: 0;left: 50%;z-index: 0;}#sk-container-id-2 div.sk-serial {display: flex;flex-direction: column;align-items: center;background-color: white;padding-right: 0.2em;padding-left: 0.2em;position: relative;}#sk-container-id-2 div.sk-item {position: relative;z-index: 1;}#sk-container-id-2 div.sk-parallel {display: flex;align-items: stretch;justify-content: center;background-color: white;position: relative;}#sk-container-id-2 div.sk-item::before, #sk-container-id-2 div.sk-parallel-item::before {content: \"\";position: absolute;border-left: 1px solid gray;box-sizing: border-box;top: 0;bottom: 0;left: 50%;z-index: -1;}#sk-container-id-2 div.sk-parallel-item {display: flex;flex-direction: column;z-index: 1;position: relative;background-color: white;}#sk-container-id-2 div.sk-parallel-item:first-child::after {align-self: flex-end;width: 50%;}#sk-container-id-2 div.sk-parallel-item:last-child::after {align-self: flex-start;width: 50%;}#sk-container-id-2 div.sk-parallel-item:only-child::after {width: 0;}#sk-container-id-2 div.sk-dashed-wrapped {border: 1px dashed gray;margin: 0 0.4em 0.5em 0.4em;box-sizing: border-box;padding-bottom: 0.4em;background-color: white;}#sk-container-id-2 div.sk-label label {font-family: monospace;font-weight: bold;display: inline-block;line-height: 1.2em;}#sk-container-id-2 div.sk-label-container {text-align: center;}#sk-container-id-2 div.sk-container {/* jupyter's `normalize.less` sets `[hidden] { display: none; }` but bootstrap.min.css set `[hidden] { display: none !important; }` so we also need the `!important` here to be able to override the default hidden behavior on the sphinx rendered scikit-learn.org. See: https://github.com/scikit-learn/scikit-learn/issues/21755 */display: inline-block !important;position: relative;}#sk-container-id-2 div.sk-text-repr-fallback {display: none;}</style><div id=\"sk-container-id-2\" class=\"sk-top-container\"><div class=\"sk-text-repr-fallback\"><pre>Pipeline(steps=[(&#x27;preprocessors&#x27;,\n",
       "                 ColumnTransformer(transformers=[(&#x27;num&#x27;,\n",
       "                                                  Pipeline(steps=[(&#x27;imputer&#x27;,\n",
       "                                                                   SimpleImputer()),\n",
       "                                                                  (&#x27;scaler&#x27;,\n",
       "                                                                   MinMaxScaler())]),\n",
       "                                                  Index([&#x27;Unnamed: 0&#x27;, &#x27;id&#x27;, &#x27;scored_goals_team_h&#x27;, &#x27;conceded_goals_team_h&#x27;,\n",
       "       &#x27;win_team_h&#x27;, &#x27;draw_team_h&#x27;, &#x27;loss_team_h&#x27;, &#x27;win_rate_team_h&#x27;,\n",
       "       &#x27;win_rate_last_5_team_h&#x27;, &#x27;win_rate_h_team_h&#x27;,\n",
       "       &#x27;win_rate_h_last_5_team_h&#x27;, &#x27;draw...\n",
       "       &#x27;best_assists_m_player_playing_player_a&#x27;,\n",
       "       &#x27;best_assists_f_player_playing_player_a&#x27;],\n",
       "      dtype=&#x27;object&#x27;)),\n",
       "                                                 (&#x27;cat&#x27;,\n",
       "                                                  Pipeline(steps=[(&#x27;imputer&#x27;,\n",
       "                                                                   SimpleImputer(fill_value=&#x27;missing&#x27;,\n",
       "                                                                                 strategy=&#x27;constant&#x27;)),\n",
       "                                                                  (&#x27;encoder&#x27;,\n",
       "                                                                   OneHotEncoder(drop=&#x27;first&#x27;,\n",
       "                                                                                 sparse=False))]),\n",
       "                                                  Index([&#x27;season&#x27;], dtype=&#x27;object&#x27;))])),\n",
       "                (&#x27;model&#x27;,\n",
       "                 RandomForestClassifier(max_depth=60, max_features=20,\n",
       "                                        min_samples_leaf=20,\n",
       "                                        n_estimators=50))])</pre><b>In a Jupyter environment, please rerun this cell to show the HTML representation or trust the notebook. <br />On GitHub, the HTML representation is unable to render, please try loading this page with nbviewer.org.</b></div><div class=\"sk-container\" hidden><div class=\"sk-item sk-dashed-wrapped\"><div class=\"sk-label-container\"><div class=\"sk-label sk-toggleable\"><input class=\"sk-toggleable__control sk-hidden--visually\" id=\"sk-estimator-id-4\" type=\"checkbox\" ><label for=\"sk-estimator-id-4\" class=\"sk-toggleable__label sk-toggleable__label-arrow\">Pipeline</label><div class=\"sk-toggleable__content\"><pre>Pipeline(steps=[(&#x27;preprocessors&#x27;,\n",
       "                 ColumnTransformer(transformers=[(&#x27;num&#x27;,\n",
       "                                                  Pipeline(steps=[(&#x27;imputer&#x27;,\n",
       "                                                                   SimpleImputer()),\n",
       "                                                                  (&#x27;scaler&#x27;,\n",
       "                                                                   MinMaxScaler())]),\n",
       "                                                  Index([&#x27;Unnamed: 0&#x27;, &#x27;id&#x27;, &#x27;scored_goals_team_h&#x27;, &#x27;conceded_goals_team_h&#x27;,\n",
       "       &#x27;win_team_h&#x27;, &#x27;draw_team_h&#x27;, &#x27;loss_team_h&#x27;, &#x27;win_rate_team_h&#x27;,\n",
       "       &#x27;win_rate_last_5_team_h&#x27;, &#x27;win_rate_h_team_h&#x27;,\n",
       "       &#x27;win_rate_h_last_5_team_h&#x27;, &#x27;draw...\n",
       "       &#x27;best_assists_m_player_playing_player_a&#x27;,\n",
       "       &#x27;best_assists_f_player_playing_player_a&#x27;],\n",
       "      dtype=&#x27;object&#x27;)),\n",
       "                                                 (&#x27;cat&#x27;,\n",
       "                                                  Pipeline(steps=[(&#x27;imputer&#x27;,\n",
       "                                                                   SimpleImputer(fill_value=&#x27;missing&#x27;,\n",
       "                                                                                 strategy=&#x27;constant&#x27;)),\n",
       "                                                                  (&#x27;encoder&#x27;,\n",
       "                                                                   OneHotEncoder(drop=&#x27;first&#x27;,\n",
       "                                                                                 sparse=False))]),\n",
       "                                                  Index([&#x27;season&#x27;], dtype=&#x27;object&#x27;))])),\n",
       "                (&#x27;model&#x27;,\n",
       "                 RandomForestClassifier(max_depth=60, max_features=20,\n",
       "                                        min_samples_leaf=20,\n",
       "                                        n_estimators=50))])</pre></div></div></div><div class=\"sk-serial\"><div class=\"sk-item sk-dashed-wrapped\"><div class=\"sk-label-container\"><div class=\"sk-label sk-toggleable\"><input class=\"sk-toggleable__control sk-hidden--visually\" id=\"sk-estimator-id-5\" type=\"checkbox\" ><label for=\"sk-estimator-id-5\" class=\"sk-toggleable__label sk-toggleable__label-arrow\">preprocessors: ColumnTransformer</label><div class=\"sk-toggleable__content\"><pre>ColumnTransformer(transformers=[(&#x27;num&#x27;,\n",
       "                                 Pipeline(steps=[(&#x27;imputer&#x27;, SimpleImputer()),\n",
       "                                                 (&#x27;scaler&#x27;, MinMaxScaler())]),\n",
       "                                 Index([&#x27;Unnamed: 0&#x27;, &#x27;id&#x27;, &#x27;scored_goals_team_h&#x27;, &#x27;conceded_goals_team_h&#x27;,\n",
       "       &#x27;win_team_h&#x27;, &#x27;draw_team_h&#x27;, &#x27;loss_team_h&#x27;, &#x27;win_rate_team_h&#x27;,\n",
       "       &#x27;win_rate_last_5_team_h&#x27;, &#x27;win_rate_h_team_h&#x27;,\n",
       "       &#x27;win_rate_h_last_5_team_h&#x27;, &#x27;draw_rate_team_h&#x27;,\n",
       "       &#x27;draw_rate_last_5_t...\n",
       "       &#x27;best_assists_player_playing_player_a&#x27;,\n",
       "       &#x27;best_assists_d_player_playing_player_a&#x27;,\n",
       "       &#x27;best_assists_m_player_playing_player_a&#x27;,\n",
       "       &#x27;best_assists_f_player_playing_player_a&#x27;],\n",
       "      dtype=&#x27;object&#x27;)),\n",
       "                                (&#x27;cat&#x27;,\n",
       "                                 Pipeline(steps=[(&#x27;imputer&#x27;,\n",
       "                                                  SimpleImputer(fill_value=&#x27;missing&#x27;,\n",
       "                                                                strategy=&#x27;constant&#x27;)),\n",
       "                                                 (&#x27;encoder&#x27;,\n",
       "                                                  OneHotEncoder(drop=&#x27;first&#x27;,\n",
       "                                                                sparse=False))]),\n",
       "                                 Index([&#x27;season&#x27;], dtype=&#x27;object&#x27;))])</pre></div></div></div><div class=\"sk-parallel\"><div class=\"sk-parallel-item\"><div class=\"sk-item\"><div class=\"sk-label-container\"><div class=\"sk-label sk-toggleable\"><input class=\"sk-toggleable__control sk-hidden--visually\" id=\"sk-estimator-id-6\" type=\"checkbox\" ><label for=\"sk-estimator-id-6\" class=\"sk-toggleable__label sk-toggleable__label-arrow\">num</label><div class=\"sk-toggleable__content\"><pre>Index([&#x27;Unnamed: 0&#x27;, &#x27;id&#x27;, &#x27;scored_goals_team_h&#x27;, &#x27;conceded_goals_team_h&#x27;,\n",
       "       &#x27;win_team_h&#x27;, &#x27;draw_team_h&#x27;, &#x27;loss_team_h&#x27;, &#x27;win_rate_team_h&#x27;,\n",
       "       &#x27;win_rate_last_5_team_h&#x27;, &#x27;win_rate_h_team_h&#x27;,\n",
       "       &#x27;win_rate_h_last_5_team_h&#x27;, &#x27;draw_rate_team_h&#x27;,\n",
       "       &#x27;draw_rate_last_5_team_h&#x27;, &#x27;draw_rate_h_team_h&#x27;,\n",
       "       &#x27;draw_rate_h_last_5_team_h&#x27;, &#x27;loss_rate_team_h&#x27;,\n",
       "       &#x27;loss_rate_last_5_team_h&#x27;, &#x27;loss_rate_h_team_h&#x27;,\n",
       "       &#x27;loss_rate_h_last_5_team_h&#x27;, &#x27;avg_scored_goals_team_h&#x27;,\n",
       "       &#x27;avg_scored_goals_last_5_team_h&#x27;, &#x27;avg_scored_goals_h_team_h&#x27;,\n",
       "       &#x27;avg_scored_goals_h_last_5_team_h&#x27;, &#x27;avg_conceded_goals_team_h&#x27;,\n",
       "       &#x27;avg_conceded_goals_last_5_team_h&#x27;, &#x27;avg_conceded_goals_h_team_h&#x27;,\n",
       "       &#x27;avg_conceded_goals_h_last_5_team_h&#x27;, &#x27;scored_goals_team_a&#x27;,\n",
       "       &#x27;conceded_goals_team_a&#x27;, &#x27;win_team_a&#x27;, &#x27;draw_team_a&#x27;, &#x27;loss_team_a&#x27;,\n",
       "       &#x27;win_rate_team_a&#x27;, &#x27;win_rate_last_5_team_a&#x27;, &#x27;win_rate_a_team_a&#x27;,\n",
       "       &#x27;win_rate_a_last_5_team_a&#x27;, &#x27;draw_rate_team_a&#x27;,\n",
       "       &#x27;draw_rate_last_5_team_a&#x27;, &#x27;draw_rate_a_team_a&#x27;,\n",
       "       &#x27;draw_rate_a_last_5_team_a&#x27;, &#x27;loss_rate_team_a&#x27;,\n",
       "       &#x27;loss_rate_last_5_team_a&#x27;, &#x27;loss_rate_a_team_a&#x27;,\n",
       "       &#x27;loss_rate_a_last_5_team_a&#x27;, &#x27;avg_scored_goals_team_a&#x27;,\n",
       "       &#x27;avg_scored_goals_last_5_team_a&#x27;, &#x27;avg_scored_goals_a_team_a&#x27;,\n",
       "       &#x27;avg_scored_goals_a_last_5_team_a&#x27;, &#x27;avg_conceded_goals_team_a&#x27;,\n",
       "       &#x27;avg_conceded_goals_last_5_team_a&#x27;, &#x27;avg_conceded_goals_a_team_a&#x27;,\n",
       "       &#x27;avg_conceded_goals_a_last_5_team_a&#x27;, &#x27;max_value_player_h&#x27;,\n",
       "       &#x27;max_value_position_g_player_h&#x27;, &#x27;max_value_position_d_player_h&#x27;,\n",
       "       &#x27;max_value_position_m_player_h&#x27;, &#x27;max_value_position_f_player_h&#x27;,\n",
       "       &#x27;avg_goals_per_hour_5_player_h&#x27;, &#x27;avg_goals_per_hour_10_player_h&#x27;,\n",
       "       &#x27;avg_assists_per_hour_5_player_h&#x27;, &#x27;avg_assists_per_hour_10_player_h&#x27;,\n",
       "       &#x27;avg_goals_conceded_per_hour_5_player_h&#x27;,\n",
       "       &#x27;avg_goals_conceded_per_hour_10_player_h&#x27;,\n",
       "       &#x27;most_valuable_player_playing_player_h&#x27;,\n",
       "       &#x27;most_valuable_g_player_playing_player_h&#x27;,\n",
       "       &#x27;most_valuable_f_player_playing_player_h&#x27;,\n",
       "       &#x27;most_valuable_m_player_playing_player_h&#x27;,\n",
       "       &#x27;best_goal_scorer_playing_player_h&#x27;,\n",
       "       &#x27;best_m_goal_scorer_playing_player_h&#x27;,\n",
       "       &#x27;best_f_goal_scorer_playing_player_h&#x27;,\n",
       "       &#x27;best_assists_player_playing_player_h&#x27;,\n",
       "       &#x27;best_assists_d_player_playing_player_h&#x27;,\n",
       "       &#x27;best_assists_m_player_playing_player_h&#x27;,\n",
       "       &#x27;best_assists_f_player_playing_player_h&#x27;, &#x27;max_value_player_a&#x27;,\n",
       "       &#x27;max_value_position_g_player_a&#x27;, &#x27;max_value_position_d_player_a&#x27;,\n",
       "       &#x27;max_value_position_m_player_a&#x27;, &#x27;max_value_position_f_player_a&#x27;,\n",
       "       &#x27;avg_goals_per_hour_5_player_a&#x27;, &#x27;avg_goals_per_hour_10_player_a&#x27;,\n",
       "       &#x27;avg_assists_per_hour_5_player_a&#x27;, &#x27;avg_assists_per_hour_10_player_a&#x27;,\n",
       "       &#x27;avg_goals_conceded_per_hour_5_player_a&#x27;,\n",
       "       &#x27;avg_goals_conceded_per_hour_10_player_a&#x27;,\n",
       "       &#x27;most_valuable_player_playing_player_a&#x27;,\n",
       "       &#x27;most_valuable_g_player_playing_player_a&#x27;,\n",
       "       &#x27;most_valuable_f_player_playing_player_a&#x27;,\n",
       "       &#x27;most_valuable_m_player_playing_player_a&#x27;,\n",
       "       &#x27;best_goal_scorer_playing_player_a&#x27;,\n",
       "       &#x27;best_m_goal_scorer_playing_player_a&#x27;,\n",
       "       &#x27;best_f_goal_scorer_playing_player_a&#x27;,\n",
       "       &#x27;best_assists_player_playing_player_a&#x27;,\n",
       "       &#x27;best_assists_d_player_playing_player_a&#x27;,\n",
       "       &#x27;best_assists_m_player_playing_player_a&#x27;,\n",
       "       &#x27;best_assists_f_player_playing_player_a&#x27;],\n",
       "      dtype=&#x27;object&#x27;)</pre></div></div></div><div class=\"sk-serial\"><div class=\"sk-item\"><div class=\"sk-serial\"><div class=\"sk-item\"><div class=\"sk-estimator sk-toggleable\"><input class=\"sk-toggleable__control sk-hidden--visually\" id=\"sk-estimator-id-7\" type=\"checkbox\" ><label for=\"sk-estimator-id-7\" class=\"sk-toggleable__label sk-toggleable__label-arrow\">SimpleImputer</label><div class=\"sk-toggleable__content\"><pre>SimpleImputer()</pre></div></div></div><div class=\"sk-item\"><div class=\"sk-estimator sk-toggleable\"><input class=\"sk-toggleable__control sk-hidden--visually\" id=\"sk-estimator-id-8\" type=\"checkbox\" ><label for=\"sk-estimator-id-8\" class=\"sk-toggleable__label sk-toggleable__label-arrow\">MinMaxScaler</label><div class=\"sk-toggleable__content\"><pre>MinMaxScaler()</pre></div></div></div></div></div></div></div></div><div class=\"sk-parallel-item\"><div class=\"sk-item\"><div class=\"sk-label-container\"><div class=\"sk-label sk-toggleable\"><input class=\"sk-toggleable__control sk-hidden--visually\" id=\"sk-estimator-id-9\" type=\"checkbox\" ><label for=\"sk-estimator-id-9\" class=\"sk-toggleable__label sk-toggleable__label-arrow\">cat</label><div class=\"sk-toggleable__content\"><pre>Index([&#x27;season&#x27;], dtype=&#x27;object&#x27;)</pre></div></div></div><div class=\"sk-serial\"><div class=\"sk-item\"><div class=\"sk-serial\"><div class=\"sk-item\"><div class=\"sk-estimator sk-toggleable\"><input class=\"sk-toggleable__control sk-hidden--visually\" id=\"sk-estimator-id-10\" type=\"checkbox\" ><label for=\"sk-estimator-id-10\" class=\"sk-toggleable__label sk-toggleable__label-arrow\">SimpleImputer</label><div class=\"sk-toggleable__content\"><pre>SimpleImputer(fill_value=&#x27;missing&#x27;, strategy=&#x27;constant&#x27;)</pre></div></div></div><div class=\"sk-item\"><div class=\"sk-estimator sk-toggleable\"><input class=\"sk-toggleable__control sk-hidden--visually\" id=\"sk-estimator-id-11\" type=\"checkbox\" ><label for=\"sk-estimator-id-11\" class=\"sk-toggleable__label sk-toggleable__label-arrow\">OneHotEncoder</label><div class=\"sk-toggleable__content\"><pre>OneHotEncoder(drop=&#x27;first&#x27;, sparse=False)</pre></div></div></div></div></div></div></div></div></div></div><div class=\"sk-item\"><div class=\"sk-estimator sk-toggleable\"><input class=\"sk-toggleable__control sk-hidden--visually\" id=\"sk-estimator-id-12\" type=\"checkbox\" ><label for=\"sk-estimator-id-12\" class=\"sk-toggleable__label sk-toggleable__label-arrow\">RandomForestClassifier</label><div class=\"sk-toggleable__content\"><pre>RandomForestClassifier(max_depth=60, max_features=20, min_samples_leaf=20,\n",
       "                       n_estimators=50)</pre></div></div></div></div></div></div></div>"
      ],
      "text/plain": [
       "Pipeline(steps=[('preprocessors',\n",
       "                 ColumnTransformer(transformers=[('num',\n",
       "                                                  Pipeline(steps=[('imputer',\n",
       "                                                                   SimpleImputer()),\n",
       "                                                                  ('scaler',\n",
       "                                                                   MinMaxScaler())]),\n",
       "                                                  Index(['Unnamed: 0', 'id', 'scored_goals_team_h', 'conceded_goals_team_h',\n",
       "       'win_team_h', 'draw_team_h', 'loss_team_h', 'win_rate_team_h',\n",
       "       'win_rate_last_5_team_h', 'win_rate_h_team_h',\n",
       "       'win_rate_h_last_5_team_h', 'draw...\n",
       "       'best_assists_m_player_playing_player_a',\n",
       "       'best_assists_f_player_playing_player_a'],\n",
       "      dtype='object')),\n",
       "                                                 ('cat',\n",
       "                                                  Pipeline(steps=[('imputer',\n",
       "                                                                   SimpleImputer(fill_value='missing',\n",
       "                                                                                 strategy='constant')),\n",
       "                                                                  ('encoder',\n",
       "                                                                   OneHotEncoder(drop='first',\n",
       "                                                                                 sparse=False))]),\n",
       "                                                  Index(['season'], dtype='object'))])),\n",
       "                ('model',\n",
       "                 RandomForestClassifier(max_depth=60, max_features=20,\n",
       "                                        min_samples_leaf=20,\n",
       "                                        n_estimators=50))])"
      ]
     },
     "execution_count": 39,
     "metadata": {},
     "output_type": "execute_result"
    }
   ],
   "source": [
    "pipe_rf.fit(X_train, y_train)"
   ]
  },
  {
   "cell_type": "code",
   "execution_count": 40,
   "id": "0bd13607",
   "metadata": {},
   "outputs": [
    {
     "name": "stdout",
     "output_type": "stream",
     "text": [
      "Train ROC-AUC: 0.8666\n",
      "Test ROC-AUC: 0.7076\n"
     ]
    }
   ],
   "source": [
    "print(f\"Train ROC-AUC: {calculate_roc_auc(pipe_rf, X_train, y_train):.4f}\")\n",
    "print(f\"Test ROC-AUC: {calculate_roc_auc(pipe_rf, X_test, y_test):.4f}\")"
   ]
  },
  {
   "cell_type": "code",
   "execution_count": 41,
   "id": "3a9742b0",
   "metadata": {},
   "outputs": [
    {
     "data": {
      "text/plain": [
       "array([0.42556502, 0.33452922, 0.13201417, 0.44875921, 0.62579495,\n",
       "       0.4089446 , 0.37026545, 0.66412683, 0.30840728])"
      ]
     },
     "execution_count": 41,
     "metadata": {},
     "output_type": "execute_result"
    }
   ],
   "source": [
    "pipe_rf.predict_proba(score[features])[:, 1]"
   ]
  },
  {
   "cell_type": "code",
   "execution_count": 42,
   "id": "1e4abd02",
   "metadata": {},
   "outputs": [],
   "source": [
    "result = score[[\"id\", \"team_h\", \"team_name_home\", \"team_a\", \"team_name_away\", \"match_day\"]].copy()\n",
    "result[\"home_win_probability\"] = pipe_rf.predict_proba(score[features])[:, 1]"
   ]
  },
  {
   "cell_type": "code",
   "execution_count": 43,
   "id": "5d901a9a",
   "metadata": {},
   "outputs": [
    {
     "data": {
      "text/html": [
       "<div>\n",
       "<style scoped>\n",
       "    .dataframe tbody tr th:only-of-type {\n",
       "        vertical-align: middle;\n",
       "    }\n",
       "\n",
       "    .dataframe tbody tr th {\n",
       "        vertical-align: top;\n",
       "    }\n",
       "\n",
       "    .dataframe thead th {\n",
       "        text-align: right;\n",
       "    }\n",
       "</style>\n",
       "<table border=\"1\" class=\"dataframe\">\n",
       "  <thead>\n",
       "    <tr style=\"text-align: right;\">\n",
       "      <th></th>\n",
       "      <th>id</th>\n",
       "      <th>team_h</th>\n",
       "      <th>team_name_home</th>\n",
       "      <th>team_a</th>\n",
       "      <th>team_name_away</th>\n",
       "      <th>match_day</th>\n",
       "      <th>home_win_probability</th>\n",
       "    </tr>\n",
       "  </thead>\n",
       "  <tbody>\n",
       "    <tr>\n",
       "      <th>787</th>\n",
       "      <td>71</td>\n",
       "      <td>2</td>\n",
       "      <td>AVL</td>\n",
       "      <td>17</td>\n",
       "      <td>SOU</td>\n",
       "      <td>2022-09-16</td>\n",
       "      <td>0.425565</td>\n",
       "    </tr>\n",
       "    <tr>\n",
       "      <th>788</th>\n",
       "      <td>78</td>\n",
       "      <td>16</td>\n",
       "      <td>NFO</td>\n",
       "      <td>9</td>\n",
       "      <td>FUL</td>\n",
       "      <td>2022-09-16</td>\n",
       "      <td>0.334529</td>\n",
       "    </tr>\n",
       "    <tr>\n",
       "      <th>789</th>\n",
       "      <td>80</td>\n",
       "      <td>20</td>\n",
       "      <td>WOL</td>\n",
       "      <td>13</td>\n",
       "      <td>MCI</td>\n",
       "      <td>2022-09-17</td>\n",
       "      <td>0.132014</td>\n",
       "    </tr>\n",
       "    <tr>\n",
       "      <th>790</th>\n",
       "      <td>77</td>\n",
       "      <td>15</td>\n",
       "      <td>NEW</td>\n",
       "      <td>3</td>\n",
       "      <td>BOU</td>\n",
       "      <td>2022-09-17</td>\n",
       "      <td>0.448759</td>\n",
       "    </tr>\n",
       "    <tr>\n",
       "      <th>791</th>\n",
       "      <td>79</td>\n",
       "      <td>18</td>\n",
       "      <td>TOT</td>\n",
       "      <td>10</td>\n",
       "      <td>LEI</td>\n",
       "      <td>2022-09-17</td>\n",
       "      <td>0.625795</td>\n",
       "    </tr>\n",
       "    <tr>\n",
       "      <th>792</th>\n",
       "      <td>72</td>\n",
       "      <td>4</td>\n",
       "      <td>BRE</td>\n",
       "      <td>1</td>\n",
       "      <td>ARS</td>\n",
       "      <td>2022-09-18</td>\n",
       "      <td>0.408945</td>\n",
       "    </tr>\n",
       "    <tr>\n",
       "      <th>793</th>\n",
       "      <td>75</td>\n",
       "      <td>8</td>\n",
       "      <td>EVE</td>\n",
       "      <td>19</td>\n",
       "      <td>WHU</td>\n",
       "      <td>2022-09-18</td>\n",
       "      <td>0.370265</td>\n",
       "    </tr>\n",
       "    <tr>\n",
       "      <th>794</th>\n",
       "      <td>76</td>\n",
       "      <td>14</td>\n",
       "      <td>MUN</td>\n",
       "      <td>11</td>\n",
       "      <td>LEE</td>\n",
       "      <td>2022-09-18</td>\n",
       "      <td>0.664127</td>\n",
       "    </tr>\n",
       "    <tr>\n",
       "      <th>795</th>\n",
       "      <td>74</td>\n",
       "      <td>6</td>\n",
       "      <td>CHE</td>\n",
       "      <td>12</td>\n",
       "      <td>LIV</td>\n",
       "      <td>2022-09-18</td>\n",
       "      <td>0.308407</td>\n",
       "    </tr>\n",
       "  </tbody>\n",
       "</table>\n",
       "</div>"
      ],
      "text/plain": [
       "     id  team_h team_name_home  team_a team_name_away   match_day  \\\n",
       "787  71       2            AVL      17            SOU  2022-09-16   \n",
       "788  78      16            NFO       9            FUL  2022-09-16   \n",
       "789  80      20            WOL      13            MCI  2022-09-17   \n",
       "790  77      15            NEW       3            BOU  2022-09-17   \n",
       "791  79      18            TOT      10            LEI  2022-09-17   \n",
       "792  72       4            BRE       1            ARS  2022-09-18   \n",
       "793  75       8            EVE      19            WHU  2022-09-18   \n",
       "794  76      14            MUN      11            LEE  2022-09-18   \n",
       "795  74       6            CHE      12            LIV  2022-09-18   \n",
       "\n",
       "     home_win_probability  \n",
       "787              0.425565  \n",
       "788              0.334529  \n",
       "789              0.132014  \n",
       "790              0.448759  \n",
       "791              0.625795  \n",
       "792              0.408945  \n",
       "793              0.370265  \n",
       "794              0.664127  \n",
       "795              0.308407  "
      ]
     },
     "execution_count": 43,
     "metadata": {},
     "output_type": "execute_result"
    }
   ],
   "source": [
    "result"
   ]
  },
  {
   "cell_type": "markdown",
   "id": "8d6b0c35",
   "metadata": {},
   "source": [
    "### Predicting draw\n"
   ]
  },
  {
   "cell_type": "code",
   "execution_count": 44,
   "id": "2e25b40f",
   "metadata": {},
   "outputs": [],
   "source": [
    "target = 'result_draw'"
   ]
  },
  {
   "cell_type": "markdown",
   "id": "cba444a4",
   "metadata": {},
   "source": [
    "#### CV"
   ]
  },
  {
   "cell_type": "code",
   "execution_count": 45,
   "id": "34769ece",
   "metadata": {},
   "outputs": [],
   "source": [
    "fit_to_csv = pipe_to_cv.fit(X[features])"
   ]
  },
  {
   "cell_type": "code",
   "execution_count": 46,
   "id": "e636967e",
   "metadata": {},
   "outputs": [],
   "source": [
    "X_to_csv = pipe_to_cv.transform(X[features])"
   ]
  },
  {
   "cell_type": "code",
   "execution_count": 47,
   "id": "fc580b23",
   "metadata": {},
   "outputs": [],
   "source": [
    "# Create the parameter grid based on the results of random search \n",
    "param_grid = {\n",
    "    'bootstrap': [True],\n",
    "    'max_depth': [20, 40, 60],\n",
    "    'max_features': [2, 3, 5, 10, 20],\n",
    "    'min_samples_leaf': [3, 4, 5, 10, 20],\n",
    "    'n_estimators': [10, 50, 100]\n",
    "}\n",
    "\n",
    "# Create a based model\n",
    "rf = RandomForestClassifier()\n",
    "\n",
    "# Instantiate the grid search model\n",
    "grid_search = GridSearchCV(estimator = rf, param_grid = param_grid, \n",
    "                          cv = 3, n_jobs = -1, verbose = 2)"
   ]
  },
  {
   "cell_type": "code",
   "execution_count": 48,
   "id": "0ba3b063",
   "metadata": {},
   "outputs": [
    {
     "name": "stdout",
     "output_type": "stream",
     "text": [
      "Fitting 3 folds for each of 225 candidates, totalling 675 fits\n"
     ]
    },
    {
     "data": {
      "text/html": [
       "<style>#sk-container-id-3 {color: black;background-color: white;}#sk-container-id-3 pre{padding: 0;}#sk-container-id-3 div.sk-toggleable {background-color: white;}#sk-container-id-3 label.sk-toggleable__label {cursor: pointer;display: block;width: 100%;margin-bottom: 0;padding: 0.3em;box-sizing: border-box;text-align: center;}#sk-container-id-3 label.sk-toggleable__label-arrow:before {content: \"▸\";float: left;margin-right: 0.25em;color: #696969;}#sk-container-id-3 label.sk-toggleable__label-arrow:hover:before {color: black;}#sk-container-id-3 div.sk-estimator:hover label.sk-toggleable__label-arrow:before {color: black;}#sk-container-id-3 div.sk-toggleable__content {max-height: 0;max-width: 0;overflow: hidden;text-align: left;background-color: #f0f8ff;}#sk-container-id-3 div.sk-toggleable__content pre {margin: 0.2em;color: black;border-radius: 0.25em;background-color: #f0f8ff;}#sk-container-id-3 input.sk-toggleable__control:checked~div.sk-toggleable__content {max-height: 200px;max-width: 100%;overflow: auto;}#sk-container-id-3 input.sk-toggleable__control:checked~label.sk-toggleable__label-arrow:before {content: \"▾\";}#sk-container-id-3 div.sk-estimator input.sk-toggleable__control:checked~label.sk-toggleable__label {background-color: #d4ebff;}#sk-container-id-3 div.sk-label input.sk-toggleable__control:checked~label.sk-toggleable__label {background-color: #d4ebff;}#sk-container-id-3 input.sk-hidden--visually {border: 0;clip: rect(1px 1px 1px 1px);clip: rect(1px, 1px, 1px, 1px);height: 1px;margin: -1px;overflow: hidden;padding: 0;position: absolute;width: 1px;}#sk-container-id-3 div.sk-estimator {font-family: monospace;background-color: #f0f8ff;border: 1px dotted black;border-radius: 0.25em;box-sizing: border-box;margin-bottom: 0.5em;}#sk-container-id-3 div.sk-estimator:hover {background-color: #d4ebff;}#sk-container-id-3 div.sk-parallel-item::after {content: \"\";width: 100%;border-bottom: 1px solid gray;flex-grow: 1;}#sk-container-id-3 div.sk-label:hover label.sk-toggleable__label {background-color: #d4ebff;}#sk-container-id-3 div.sk-serial::before {content: \"\";position: absolute;border-left: 1px solid gray;box-sizing: border-box;top: 0;bottom: 0;left: 50%;z-index: 0;}#sk-container-id-3 div.sk-serial {display: flex;flex-direction: column;align-items: center;background-color: white;padding-right: 0.2em;padding-left: 0.2em;position: relative;}#sk-container-id-3 div.sk-item {position: relative;z-index: 1;}#sk-container-id-3 div.sk-parallel {display: flex;align-items: stretch;justify-content: center;background-color: white;position: relative;}#sk-container-id-3 div.sk-item::before, #sk-container-id-3 div.sk-parallel-item::before {content: \"\";position: absolute;border-left: 1px solid gray;box-sizing: border-box;top: 0;bottom: 0;left: 50%;z-index: -1;}#sk-container-id-3 div.sk-parallel-item {display: flex;flex-direction: column;z-index: 1;position: relative;background-color: white;}#sk-container-id-3 div.sk-parallel-item:first-child::after {align-self: flex-end;width: 50%;}#sk-container-id-3 div.sk-parallel-item:last-child::after {align-self: flex-start;width: 50%;}#sk-container-id-3 div.sk-parallel-item:only-child::after {width: 0;}#sk-container-id-3 div.sk-dashed-wrapped {border: 1px dashed gray;margin: 0 0.4em 0.5em 0.4em;box-sizing: border-box;padding-bottom: 0.4em;background-color: white;}#sk-container-id-3 div.sk-label label {font-family: monospace;font-weight: bold;display: inline-block;line-height: 1.2em;}#sk-container-id-3 div.sk-label-container {text-align: center;}#sk-container-id-3 div.sk-container {/* jupyter's `normalize.less` sets `[hidden] { display: none; }` but bootstrap.min.css set `[hidden] { display: none !important; }` so we also need the `!important` here to be able to override the default hidden behavior on the sphinx rendered scikit-learn.org. See: https://github.com/scikit-learn/scikit-learn/issues/21755 */display: inline-block !important;position: relative;}#sk-container-id-3 div.sk-text-repr-fallback {display: none;}</style><div id=\"sk-container-id-3\" class=\"sk-top-container\"><div class=\"sk-text-repr-fallback\"><pre>GridSearchCV(cv=3, estimator=RandomForestClassifier(), n_jobs=-1,\n",
       "             param_grid={&#x27;bootstrap&#x27;: [True], &#x27;max_depth&#x27;: [20, 40, 60],\n",
       "                         &#x27;max_features&#x27;: [2, 3, 5, 10, 20],\n",
       "                         &#x27;min_samples_leaf&#x27;: [3, 4, 5, 10, 20],\n",
       "                         &#x27;n_estimators&#x27;: [10, 50, 100]},\n",
       "             verbose=2)</pre><b>In a Jupyter environment, please rerun this cell to show the HTML representation or trust the notebook. <br />On GitHub, the HTML representation is unable to render, please try loading this page with nbviewer.org.</b></div><div class=\"sk-container\" hidden><div class=\"sk-item sk-dashed-wrapped\"><div class=\"sk-label-container\"><div class=\"sk-label sk-toggleable\"><input class=\"sk-toggleable__control sk-hidden--visually\" id=\"sk-estimator-id-13\" type=\"checkbox\" ><label for=\"sk-estimator-id-13\" class=\"sk-toggleable__label sk-toggleable__label-arrow\">GridSearchCV</label><div class=\"sk-toggleable__content\"><pre>GridSearchCV(cv=3, estimator=RandomForestClassifier(), n_jobs=-1,\n",
       "             param_grid={&#x27;bootstrap&#x27;: [True], &#x27;max_depth&#x27;: [20, 40, 60],\n",
       "                         &#x27;max_features&#x27;: [2, 3, 5, 10, 20],\n",
       "                         &#x27;min_samples_leaf&#x27;: [3, 4, 5, 10, 20],\n",
       "                         &#x27;n_estimators&#x27;: [10, 50, 100]},\n",
       "             verbose=2)</pre></div></div></div><div class=\"sk-parallel\"><div class=\"sk-parallel-item\"><div class=\"sk-item\"><div class=\"sk-label-container\"><div class=\"sk-label sk-toggleable\"><input class=\"sk-toggleable__control sk-hidden--visually\" id=\"sk-estimator-id-14\" type=\"checkbox\" ><label for=\"sk-estimator-id-14\" class=\"sk-toggleable__label sk-toggleable__label-arrow\">estimator: RandomForestClassifier</label><div class=\"sk-toggleable__content\"><pre>RandomForestClassifier()</pre></div></div></div><div class=\"sk-serial\"><div class=\"sk-item\"><div class=\"sk-estimator sk-toggleable\"><input class=\"sk-toggleable__control sk-hidden--visually\" id=\"sk-estimator-id-15\" type=\"checkbox\" ><label for=\"sk-estimator-id-15\" class=\"sk-toggleable__label sk-toggleable__label-arrow\">RandomForestClassifier</label><div class=\"sk-toggleable__content\"><pre>RandomForestClassifier()</pre></div></div></div></div></div></div></div></div></div></div>"
      ],
      "text/plain": [
       "GridSearchCV(cv=3, estimator=RandomForestClassifier(), n_jobs=-1,\n",
       "             param_grid={'bootstrap': [True], 'max_depth': [20, 40, 60],\n",
       "                         'max_features': [2, 3, 5, 10, 20],\n",
       "                         'min_samples_leaf': [3, 4, 5, 10, 20],\n",
       "                         'n_estimators': [10, 50, 100]},\n",
       "             verbose=2)"
      ]
     },
     "execution_count": 48,
     "metadata": {},
     "output_type": "execute_result"
    }
   ],
   "source": [
    "grid_search.fit(X_to_csv, X[target])"
   ]
  },
  {
   "cell_type": "code",
   "execution_count": 49,
   "id": "00571ab5",
   "metadata": {},
   "outputs": [
    {
     "data": {
      "text/plain": [
       "{'bootstrap': True,\n",
       " 'max_depth': 60,\n",
       " 'max_features': 10,\n",
       " 'min_samples_leaf': 4,\n",
       " 'n_estimators': 50}"
      ]
     },
     "execution_count": 49,
     "metadata": {},
     "output_type": "execute_result"
    }
   ],
   "source": [
    "grid_search.best_params_"
   ]
  },
  {
   "cell_type": "markdown",
   "id": "c7393b26",
   "metadata": {},
   "source": [
    "#### Final model"
   ]
  },
  {
   "cell_type": "code",
   "execution_count": 50,
   "id": "75d56b70",
   "metadata": {},
   "outputs": [],
   "source": [
    "pipe_rf = Pipeline([\n",
    "    ('preprocessors', preprocessors),\n",
    "    #('model', RandomForestClassifier(bootstrap = True, max_depth = 40, max_features = 5, min_samples_leaf = 5, n_estimators = 100))\n",
    "    ('model', RandomForestClassifier(**grid_search.best_params_))])"
   ]
  },
  {
   "cell_type": "code",
   "execution_count": 51,
   "id": "31ad1a19",
   "metadata": {},
   "outputs": [],
   "source": [
    "X_train, X_test, y_train, y_test = train_test_split(X[features], \n",
    "                                                    X[target], \n",
    "                                                    test_size = .2, \n",
    "                                                    random_state = seed, \n",
    "                                                    stratify = X[target])"
   ]
  },
  {
   "cell_type": "code",
   "execution_count": 52,
   "id": "4ce8c366",
   "metadata": {},
   "outputs": [
    {
     "data": {
      "text/html": [
       "<style>#sk-container-id-4 {color: black;background-color: white;}#sk-container-id-4 pre{padding: 0;}#sk-container-id-4 div.sk-toggleable {background-color: white;}#sk-container-id-4 label.sk-toggleable__label {cursor: pointer;display: block;width: 100%;margin-bottom: 0;padding: 0.3em;box-sizing: border-box;text-align: center;}#sk-container-id-4 label.sk-toggleable__label-arrow:before {content: \"▸\";float: left;margin-right: 0.25em;color: #696969;}#sk-container-id-4 label.sk-toggleable__label-arrow:hover:before {color: black;}#sk-container-id-4 div.sk-estimator:hover label.sk-toggleable__label-arrow:before {color: black;}#sk-container-id-4 div.sk-toggleable__content {max-height: 0;max-width: 0;overflow: hidden;text-align: left;background-color: #f0f8ff;}#sk-container-id-4 div.sk-toggleable__content pre {margin: 0.2em;color: black;border-radius: 0.25em;background-color: #f0f8ff;}#sk-container-id-4 input.sk-toggleable__control:checked~div.sk-toggleable__content {max-height: 200px;max-width: 100%;overflow: auto;}#sk-container-id-4 input.sk-toggleable__control:checked~label.sk-toggleable__label-arrow:before {content: \"▾\";}#sk-container-id-4 div.sk-estimator input.sk-toggleable__control:checked~label.sk-toggleable__label {background-color: #d4ebff;}#sk-container-id-4 div.sk-label input.sk-toggleable__control:checked~label.sk-toggleable__label {background-color: #d4ebff;}#sk-container-id-4 input.sk-hidden--visually {border: 0;clip: rect(1px 1px 1px 1px);clip: rect(1px, 1px, 1px, 1px);height: 1px;margin: -1px;overflow: hidden;padding: 0;position: absolute;width: 1px;}#sk-container-id-4 div.sk-estimator {font-family: monospace;background-color: #f0f8ff;border: 1px dotted black;border-radius: 0.25em;box-sizing: border-box;margin-bottom: 0.5em;}#sk-container-id-4 div.sk-estimator:hover {background-color: #d4ebff;}#sk-container-id-4 div.sk-parallel-item::after {content: \"\";width: 100%;border-bottom: 1px solid gray;flex-grow: 1;}#sk-container-id-4 div.sk-label:hover label.sk-toggleable__label {background-color: #d4ebff;}#sk-container-id-4 div.sk-serial::before {content: \"\";position: absolute;border-left: 1px solid gray;box-sizing: border-box;top: 0;bottom: 0;left: 50%;z-index: 0;}#sk-container-id-4 div.sk-serial {display: flex;flex-direction: column;align-items: center;background-color: white;padding-right: 0.2em;padding-left: 0.2em;position: relative;}#sk-container-id-4 div.sk-item {position: relative;z-index: 1;}#sk-container-id-4 div.sk-parallel {display: flex;align-items: stretch;justify-content: center;background-color: white;position: relative;}#sk-container-id-4 div.sk-item::before, #sk-container-id-4 div.sk-parallel-item::before {content: \"\";position: absolute;border-left: 1px solid gray;box-sizing: border-box;top: 0;bottom: 0;left: 50%;z-index: -1;}#sk-container-id-4 div.sk-parallel-item {display: flex;flex-direction: column;z-index: 1;position: relative;background-color: white;}#sk-container-id-4 div.sk-parallel-item:first-child::after {align-self: flex-end;width: 50%;}#sk-container-id-4 div.sk-parallel-item:last-child::after {align-self: flex-start;width: 50%;}#sk-container-id-4 div.sk-parallel-item:only-child::after {width: 0;}#sk-container-id-4 div.sk-dashed-wrapped {border: 1px dashed gray;margin: 0 0.4em 0.5em 0.4em;box-sizing: border-box;padding-bottom: 0.4em;background-color: white;}#sk-container-id-4 div.sk-label label {font-family: monospace;font-weight: bold;display: inline-block;line-height: 1.2em;}#sk-container-id-4 div.sk-label-container {text-align: center;}#sk-container-id-4 div.sk-container {/* jupyter's `normalize.less` sets `[hidden] { display: none; }` but bootstrap.min.css set `[hidden] { display: none !important; }` so we also need the `!important` here to be able to override the default hidden behavior on the sphinx rendered scikit-learn.org. See: https://github.com/scikit-learn/scikit-learn/issues/21755 */display: inline-block !important;position: relative;}#sk-container-id-4 div.sk-text-repr-fallback {display: none;}</style><div id=\"sk-container-id-4\" class=\"sk-top-container\"><div class=\"sk-text-repr-fallback\"><pre>Pipeline(steps=[(&#x27;preprocessors&#x27;,\n",
       "                 ColumnTransformer(transformers=[(&#x27;num&#x27;,\n",
       "                                                  Pipeline(steps=[(&#x27;imputer&#x27;,\n",
       "                                                                   SimpleImputer()),\n",
       "                                                                  (&#x27;scaler&#x27;,\n",
       "                                                                   MinMaxScaler())]),\n",
       "                                                  Index([&#x27;Unnamed: 0&#x27;, &#x27;id&#x27;, &#x27;scored_goals_team_h&#x27;, &#x27;conceded_goals_team_h&#x27;,\n",
       "       &#x27;win_team_h&#x27;, &#x27;draw_team_h&#x27;, &#x27;loss_team_h&#x27;, &#x27;win_rate_team_h&#x27;,\n",
       "       &#x27;win_rate_last_5_team_h&#x27;, &#x27;win_rate_h_team_h&#x27;,\n",
       "       &#x27;win_rate_h_last_5_team_h&#x27;, &#x27;draw...\n",
       "       &#x27;best_assists_m_player_playing_player_a&#x27;,\n",
       "       &#x27;best_assists_f_player_playing_player_a&#x27;],\n",
       "      dtype=&#x27;object&#x27;)),\n",
       "                                                 (&#x27;cat&#x27;,\n",
       "                                                  Pipeline(steps=[(&#x27;imputer&#x27;,\n",
       "                                                                   SimpleImputer(fill_value=&#x27;missing&#x27;,\n",
       "                                                                                 strategy=&#x27;constant&#x27;)),\n",
       "                                                                  (&#x27;encoder&#x27;,\n",
       "                                                                   OneHotEncoder(drop=&#x27;first&#x27;,\n",
       "                                                                                 sparse=False))]),\n",
       "                                                  Index([&#x27;season&#x27;], dtype=&#x27;object&#x27;))])),\n",
       "                (&#x27;model&#x27;,\n",
       "                 RandomForestClassifier(max_depth=60, max_features=10,\n",
       "                                        min_samples_leaf=4, n_estimators=50))])</pre><b>In a Jupyter environment, please rerun this cell to show the HTML representation or trust the notebook. <br />On GitHub, the HTML representation is unable to render, please try loading this page with nbviewer.org.</b></div><div class=\"sk-container\" hidden><div class=\"sk-item sk-dashed-wrapped\"><div class=\"sk-label-container\"><div class=\"sk-label sk-toggleable\"><input class=\"sk-toggleable__control sk-hidden--visually\" id=\"sk-estimator-id-16\" type=\"checkbox\" ><label for=\"sk-estimator-id-16\" class=\"sk-toggleable__label sk-toggleable__label-arrow\">Pipeline</label><div class=\"sk-toggleable__content\"><pre>Pipeline(steps=[(&#x27;preprocessors&#x27;,\n",
       "                 ColumnTransformer(transformers=[(&#x27;num&#x27;,\n",
       "                                                  Pipeline(steps=[(&#x27;imputer&#x27;,\n",
       "                                                                   SimpleImputer()),\n",
       "                                                                  (&#x27;scaler&#x27;,\n",
       "                                                                   MinMaxScaler())]),\n",
       "                                                  Index([&#x27;Unnamed: 0&#x27;, &#x27;id&#x27;, &#x27;scored_goals_team_h&#x27;, &#x27;conceded_goals_team_h&#x27;,\n",
       "       &#x27;win_team_h&#x27;, &#x27;draw_team_h&#x27;, &#x27;loss_team_h&#x27;, &#x27;win_rate_team_h&#x27;,\n",
       "       &#x27;win_rate_last_5_team_h&#x27;, &#x27;win_rate_h_team_h&#x27;,\n",
       "       &#x27;win_rate_h_last_5_team_h&#x27;, &#x27;draw...\n",
       "       &#x27;best_assists_m_player_playing_player_a&#x27;,\n",
       "       &#x27;best_assists_f_player_playing_player_a&#x27;],\n",
       "      dtype=&#x27;object&#x27;)),\n",
       "                                                 (&#x27;cat&#x27;,\n",
       "                                                  Pipeline(steps=[(&#x27;imputer&#x27;,\n",
       "                                                                   SimpleImputer(fill_value=&#x27;missing&#x27;,\n",
       "                                                                                 strategy=&#x27;constant&#x27;)),\n",
       "                                                                  (&#x27;encoder&#x27;,\n",
       "                                                                   OneHotEncoder(drop=&#x27;first&#x27;,\n",
       "                                                                                 sparse=False))]),\n",
       "                                                  Index([&#x27;season&#x27;], dtype=&#x27;object&#x27;))])),\n",
       "                (&#x27;model&#x27;,\n",
       "                 RandomForestClassifier(max_depth=60, max_features=10,\n",
       "                                        min_samples_leaf=4, n_estimators=50))])</pre></div></div></div><div class=\"sk-serial\"><div class=\"sk-item sk-dashed-wrapped\"><div class=\"sk-label-container\"><div class=\"sk-label sk-toggleable\"><input class=\"sk-toggleable__control sk-hidden--visually\" id=\"sk-estimator-id-17\" type=\"checkbox\" ><label for=\"sk-estimator-id-17\" class=\"sk-toggleable__label sk-toggleable__label-arrow\">preprocessors: ColumnTransformer</label><div class=\"sk-toggleable__content\"><pre>ColumnTransformer(transformers=[(&#x27;num&#x27;,\n",
       "                                 Pipeline(steps=[(&#x27;imputer&#x27;, SimpleImputer()),\n",
       "                                                 (&#x27;scaler&#x27;, MinMaxScaler())]),\n",
       "                                 Index([&#x27;Unnamed: 0&#x27;, &#x27;id&#x27;, &#x27;scored_goals_team_h&#x27;, &#x27;conceded_goals_team_h&#x27;,\n",
       "       &#x27;win_team_h&#x27;, &#x27;draw_team_h&#x27;, &#x27;loss_team_h&#x27;, &#x27;win_rate_team_h&#x27;,\n",
       "       &#x27;win_rate_last_5_team_h&#x27;, &#x27;win_rate_h_team_h&#x27;,\n",
       "       &#x27;win_rate_h_last_5_team_h&#x27;, &#x27;draw_rate_team_h&#x27;,\n",
       "       &#x27;draw_rate_last_5_t...\n",
       "       &#x27;best_assists_player_playing_player_a&#x27;,\n",
       "       &#x27;best_assists_d_player_playing_player_a&#x27;,\n",
       "       &#x27;best_assists_m_player_playing_player_a&#x27;,\n",
       "       &#x27;best_assists_f_player_playing_player_a&#x27;],\n",
       "      dtype=&#x27;object&#x27;)),\n",
       "                                (&#x27;cat&#x27;,\n",
       "                                 Pipeline(steps=[(&#x27;imputer&#x27;,\n",
       "                                                  SimpleImputer(fill_value=&#x27;missing&#x27;,\n",
       "                                                                strategy=&#x27;constant&#x27;)),\n",
       "                                                 (&#x27;encoder&#x27;,\n",
       "                                                  OneHotEncoder(drop=&#x27;first&#x27;,\n",
       "                                                                sparse=False))]),\n",
       "                                 Index([&#x27;season&#x27;], dtype=&#x27;object&#x27;))])</pre></div></div></div><div class=\"sk-parallel\"><div class=\"sk-parallel-item\"><div class=\"sk-item\"><div class=\"sk-label-container\"><div class=\"sk-label sk-toggleable\"><input class=\"sk-toggleable__control sk-hidden--visually\" id=\"sk-estimator-id-18\" type=\"checkbox\" ><label for=\"sk-estimator-id-18\" class=\"sk-toggleable__label sk-toggleable__label-arrow\">num</label><div class=\"sk-toggleable__content\"><pre>Index([&#x27;Unnamed: 0&#x27;, &#x27;id&#x27;, &#x27;scored_goals_team_h&#x27;, &#x27;conceded_goals_team_h&#x27;,\n",
       "       &#x27;win_team_h&#x27;, &#x27;draw_team_h&#x27;, &#x27;loss_team_h&#x27;, &#x27;win_rate_team_h&#x27;,\n",
       "       &#x27;win_rate_last_5_team_h&#x27;, &#x27;win_rate_h_team_h&#x27;,\n",
       "       &#x27;win_rate_h_last_5_team_h&#x27;, &#x27;draw_rate_team_h&#x27;,\n",
       "       &#x27;draw_rate_last_5_team_h&#x27;, &#x27;draw_rate_h_team_h&#x27;,\n",
       "       &#x27;draw_rate_h_last_5_team_h&#x27;, &#x27;loss_rate_team_h&#x27;,\n",
       "       &#x27;loss_rate_last_5_team_h&#x27;, &#x27;loss_rate_h_team_h&#x27;,\n",
       "       &#x27;loss_rate_h_last_5_team_h&#x27;, &#x27;avg_scored_goals_team_h&#x27;,\n",
       "       &#x27;avg_scored_goals_last_5_team_h&#x27;, &#x27;avg_scored_goals_h_team_h&#x27;,\n",
       "       &#x27;avg_scored_goals_h_last_5_team_h&#x27;, &#x27;avg_conceded_goals_team_h&#x27;,\n",
       "       &#x27;avg_conceded_goals_last_5_team_h&#x27;, &#x27;avg_conceded_goals_h_team_h&#x27;,\n",
       "       &#x27;avg_conceded_goals_h_last_5_team_h&#x27;, &#x27;scored_goals_team_a&#x27;,\n",
       "       &#x27;conceded_goals_team_a&#x27;, &#x27;win_team_a&#x27;, &#x27;draw_team_a&#x27;, &#x27;loss_team_a&#x27;,\n",
       "       &#x27;win_rate_team_a&#x27;, &#x27;win_rate_last_5_team_a&#x27;, &#x27;win_rate_a_team_a&#x27;,\n",
       "       &#x27;win_rate_a_last_5_team_a&#x27;, &#x27;draw_rate_team_a&#x27;,\n",
       "       &#x27;draw_rate_last_5_team_a&#x27;, &#x27;draw_rate_a_team_a&#x27;,\n",
       "       &#x27;draw_rate_a_last_5_team_a&#x27;, &#x27;loss_rate_team_a&#x27;,\n",
       "       &#x27;loss_rate_last_5_team_a&#x27;, &#x27;loss_rate_a_team_a&#x27;,\n",
       "       &#x27;loss_rate_a_last_5_team_a&#x27;, &#x27;avg_scored_goals_team_a&#x27;,\n",
       "       &#x27;avg_scored_goals_last_5_team_a&#x27;, &#x27;avg_scored_goals_a_team_a&#x27;,\n",
       "       &#x27;avg_scored_goals_a_last_5_team_a&#x27;, &#x27;avg_conceded_goals_team_a&#x27;,\n",
       "       &#x27;avg_conceded_goals_last_5_team_a&#x27;, &#x27;avg_conceded_goals_a_team_a&#x27;,\n",
       "       &#x27;avg_conceded_goals_a_last_5_team_a&#x27;, &#x27;max_value_player_h&#x27;,\n",
       "       &#x27;max_value_position_g_player_h&#x27;, &#x27;max_value_position_d_player_h&#x27;,\n",
       "       &#x27;max_value_position_m_player_h&#x27;, &#x27;max_value_position_f_player_h&#x27;,\n",
       "       &#x27;avg_goals_per_hour_5_player_h&#x27;, &#x27;avg_goals_per_hour_10_player_h&#x27;,\n",
       "       &#x27;avg_assists_per_hour_5_player_h&#x27;, &#x27;avg_assists_per_hour_10_player_h&#x27;,\n",
       "       &#x27;avg_goals_conceded_per_hour_5_player_h&#x27;,\n",
       "       &#x27;avg_goals_conceded_per_hour_10_player_h&#x27;,\n",
       "       &#x27;most_valuable_player_playing_player_h&#x27;,\n",
       "       &#x27;most_valuable_g_player_playing_player_h&#x27;,\n",
       "       &#x27;most_valuable_f_player_playing_player_h&#x27;,\n",
       "       &#x27;most_valuable_m_player_playing_player_h&#x27;,\n",
       "       &#x27;best_goal_scorer_playing_player_h&#x27;,\n",
       "       &#x27;best_m_goal_scorer_playing_player_h&#x27;,\n",
       "       &#x27;best_f_goal_scorer_playing_player_h&#x27;,\n",
       "       &#x27;best_assists_player_playing_player_h&#x27;,\n",
       "       &#x27;best_assists_d_player_playing_player_h&#x27;,\n",
       "       &#x27;best_assists_m_player_playing_player_h&#x27;,\n",
       "       &#x27;best_assists_f_player_playing_player_h&#x27;, &#x27;max_value_player_a&#x27;,\n",
       "       &#x27;max_value_position_g_player_a&#x27;, &#x27;max_value_position_d_player_a&#x27;,\n",
       "       &#x27;max_value_position_m_player_a&#x27;, &#x27;max_value_position_f_player_a&#x27;,\n",
       "       &#x27;avg_goals_per_hour_5_player_a&#x27;, &#x27;avg_goals_per_hour_10_player_a&#x27;,\n",
       "       &#x27;avg_assists_per_hour_5_player_a&#x27;, &#x27;avg_assists_per_hour_10_player_a&#x27;,\n",
       "       &#x27;avg_goals_conceded_per_hour_5_player_a&#x27;,\n",
       "       &#x27;avg_goals_conceded_per_hour_10_player_a&#x27;,\n",
       "       &#x27;most_valuable_player_playing_player_a&#x27;,\n",
       "       &#x27;most_valuable_g_player_playing_player_a&#x27;,\n",
       "       &#x27;most_valuable_f_player_playing_player_a&#x27;,\n",
       "       &#x27;most_valuable_m_player_playing_player_a&#x27;,\n",
       "       &#x27;best_goal_scorer_playing_player_a&#x27;,\n",
       "       &#x27;best_m_goal_scorer_playing_player_a&#x27;,\n",
       "       &#x27;best_f_goal_scorer_playing_player_a&#x27;,\n",
       "       &#x27;best_assists_player_playing_player_a&#x27;,\n",
       "       &#x27;best_assists_d_player_playing_player_a&#x27;,\n",
       "       &#x27;best_assists_m_player_playing_player_a&#x27;,\n",
       "       &#x27;best_assists_f_player_playing_player_a&#x27;],\n",
       "      dtype=&#x27;object&#x27;)</pre></div></div></div><div class=\"sk-serial\"><div class=\"sk-item\"><div class=\"sk-serial\"><div class=\"sk-item\"><div class=\"sk-estimator sk-toggleable\"><input class=\"sk-toggleable__control sk-hidden--visually\" id=\"sk-estimator-id-19\" type=\"checkbox\" ><label for=\"sk-estimator-id-19\" class=\"sk-toggleable__label sk-toggleable__label-arrow\">SimpleImputer</label><div class=\"sk-toggleable__content\"><pre>SimpleImputer()</pre></div></div></div><div class=\"sk-item\"><div class=\"sk-estimator sk-toggleable\"><input class=\"sk-toggleable__control sk-hidden--visually\" id=\"sk-estimator-id-20\" type=\"checkbox\" ><label for=\"sk-estimator-id-20\" class=\"sk-toggleable__label sk-toggleable__label-arrow\">MinMaxScaler</label><div class=\"sk-toggleable__content\"><pre>MinMaxScaler()</pre></div></div></div></div></div></div></div></div><div class=\"sk-parallel-item\"><div class=\"sk-item\"><div class=\"sk-label-container\"><div class=\"sk-label sk-toggleable\"><input class=\"sk-toggleable__control sk-hidden--visually\" id=\"sk-estimator-id-21\" type=\"checkbox\" ><label for=\"sk-estimator-id-21\" class=\"sk-toggleable__label sk-toggleable__label-arrow\">cat</label><div class=\"sk-toggleable__content\"><pre>Index([&#x27;season&#x27;], dtype=&#x27;object&#x27;)</pre></div></div></div><div class=\"sk-serial\"><div class=\"sk-item\"><div class=\"sk-serial\"><div class=\"sk-item\"><div class=\"sk-estimator sk-toggleable\"><input class=\"sk-toggleable__control sk-hidden--visually\" id=\"sk-estimator-id-22\" type=\"checkbox\" ><label for=\"sk-estimator-id-22\" class=\"sk-toggleable__label sk-toggleable__label-arrow\">SimpleImputer</label><div class=\"sk-toggleable__content\"><pre>SimpleImputer(fill_value=&#x27;missing&#x27;, strategy=&#x27;constant&#x27;)</pre></div></div></div><div class=\"sk-item\"><div class=\"sk-estimator sk-toggleable\"><input class=\"sk-toggleable__control sk-hidden--visually\" id=\"sk-estimator-id-23\" type=\"checkbox\" ><label for=\"sk-estimator-id-23\" class=\"sk-toggleable__label sk-toggleable__label-arrow\">OneHotEncoder</label><div class=\"sk-toggleable__content\"><pre>OneHotEncoder(drop=&#x27;first&#x27;, sparse=False)</pre></div></div></div></div></div></div></div></div></div></div><div class=\"sk-item\"><div class=\"sk-estimator sk-toggleable\"><input class=\"sk-toggleable__control sk-hidden--visually\" id=\"sk-estimator-id-24\" type=\"checkbox\" ><label for=\"sk-estimator-id-24\" class=\"sk-toggleable__label sk-toggleable__label-arrow\">RandomForestClassifier</label><div class=\"sk-toggleable__content\"><pre>RandomForestClassifier(max_depth=60, max_features=10, min_samples_leaf=4,\n",
       "                       n_estimators=50)</pre></div></div></div></div></div></div></div>"
      ],
      "text/plain": [
       "Pipeline(steps=[('preprocessors',\n",
       "                 ColumnTransformer(transformers=[('num',\n",
       "                                                  Pipeline(steps=[('imputer',\n",
       "                                                                   SimpleImputer()),\n",
       "                                                                  ('scaler',\n",
       "                                                                   MinMaxScaler())]),\n",
       "                                                  Index(['Unnamed: 0', 'id', 'scored_goals_team_h', 'conceded_goals_team_h',\n",
       "       'win_team_h', 'draw_team_h', 'loss_team_h', 'win_rate_team_h',\n",
       "       'win_rate_last_5_team_h', 'win_rate_h_team_h',\n",
       "       'win_rate_h_last_5_team_h', 'draw...\n",
       "       'best_assists_m_player_playing_player_a',\n",
       "       'best_assists_f_player_playing_player_a'],\n",
       "      dtype='object')),\n",
       "                                                 ('cat',\n",
       "                                                  Pipeline(steps=[('imputer',\n",
       "                                                                   SimpleImputer(fill_value='missing',\n",
       "                                                                                 strategy='constant')),\n",
       "                                                                  ('encoder',\n",
       "                                                                   OneHotEncoder(drop='first',\n",
       "                                                                                 sparse=False))]),\n",
       "                                                  Index(['season'], dtype='object'))])),\n",
       "                ('model',\n",
       "                 RandomForestClassifier(max_depth=60, max_features=10,\n",
       "                                        min_samples_leaf=4, n_estimators=50))])"
      ]
     },
     "execution_count": 52,
     "metadata": {},
     "output_type": "execute_result"
    }
   ],
   "source": [
    "pipe_rf.fit(X_train, y_train)"
   ]
  },
  {
   "cell_type": "code",
   "execution_count": 53,
   "id": "8fff5913",
   "metadata": {},
   "outputs": [
    {
     "name": "stdout",
     "output_type": "stream",
     "text": [
      "Train ROC-AUC: 1.0000\n",
      "Test ROC-AUC: 0.4993\n"
     ]
    }
   ],
   "source": [
    "print(f\"Train ROC-AUC: {calculate_roc_auc(pipe_rf, X_train, y_train):.4f}\")\n",
    "print(f\"Test ROC-AUC: {calculate_roc_auc(pipe_rf, X_test, y_test):.4f}\")"
   ]
  },
  {
   "cell_type": "code",
   "execution_count": 54,
   "id": "5f652b43",
   "metadata": {},
   "outputs": [
    {
     "data": {
      "text/plain": [
       "array([0.21095815, 0.32002115, 0.48749661, 0.35536991, 0.24518831,\n",
       "       0.32200505, 0.30042408, 0.31369264, 0.30606061])"
      ]
     },
     "execution_count": 54,
     "metadata": {},
     "output_type": "execute_result"
    }
   ],
   "source": [
    "pipe_rf.predict_proba(score[features])[:, 1]"
   ]
  },
  {
   "cell_type": "code",
   "execution_count": 55,
   "id": "4f3bf3c9",
   "metadata": {},
   "outputs": [],
   "source": [
    "result[\"draw_probability\"] = pipe_rf.predict_proba(score[features])[:, 1]"
   ]
  },
  {
   "cell_type": "code",
   "execution_count": 56,
   "id": "7cf3affd",
   "metadata": {},
   "outputs": [
    {
     "data": {
      "text/html": [
       "<div>\n",
       "<style scoped>\n",
       "    .dataframe tbody tr th:only-of-type {\n",
       "        vertical-align: middle;\n",
       "    }\n",
       "\n",
       "    .dataframe tbody tr th {\n",
       "        vertical-align: top;\n",
       "    }\n",
       "\n",
       "    .dataframe thead th {\n",
       "        text-align: right;\n",
       "    }\n",
       "</style>\n",
       "<table border=\"1\" class=\"dataframe\">\n",
       "  <thead>\n",
       "    <tr style=\"text-align: right;\">\n",
       "      <th></th>\n",
       "      <th>id</th>\n",
       "      <th>team_h</th>\n",
       "      <th>team_name_home</th>\n",
       "      <th>team_a</th>\n",
       "      <th>team_name_away</th>\n",
       "      <th>match_day</th>\n",
       "      <th>home_win_probability</th>\n",
       "      <th>draw_probability</th>\n",
       "    </tr>\n",
       "  </thead>\n",
       "  <tbody>\n",
       "    <tr>\n",
       "      <th>787</th>\n",
       "      <td>71</td>\n",
       "      <td>2</td>\n",
       "      <td>AVL</td>\n",
       "      <td>17</td>\n",
       "      <td>SOU</td>\n",
       "      <td>2022-09-16</td>\n",
       "      <td>0.425565</td>\n",
       "      <td>0.210958</td>\n",
       "    </tr>\n",
       "    <tr>\n",
       "      <th>788</th>\n",
       "      <td>78</td>\n",
       "      <td>16</td>\n",
       "      <td>NFO</td>\n",
       "      <td>9</td>\n",
       "      <td>FUL</td>\n",
       "      <td>2022-09-16</td>\n",
       "      <td>0.334529</td>\n",
       "      <td>0.320021</td>\n",
       "    </tr>\n",
       "    <tr>\n",
       "      <th>789</th>\n",
       "      <td>80</td>\n",
       "      <td>20</td>\n",
       "      <td>WOL</td>\n",
       "      <td>13</td>\n",
       "      <td>MCI</td>\n",
       "      <td>2022-09-17</td>\n",
       "      <td>0.132014</td>\n",
       "      <td>0.487497</td>\n",
       "    </tr>\n",
       "    <tr>\n",
       "      <th>790</th>\n",
       "      <td>77</td>\n",
       "      <td>15</td>\n",
       "      <td>NEW</td>\n",
       "      <td>3</td>\n",
       "      <td>BOU</td>\n",
       "      <td>2022-09-17</td>\n",
       "      <td>0.448759</td>\n",
       "      <td>0.355370</td>\n",
       "    </tr>\n",
       "    <tr>\n",
       "      <th>791</th>\n",
       "      <td>79</td>\n",
       "      <td>18</td>\n",
       "      <td>TOT</td>\n",
       "      <td>10</td>\n",
       "      <td>LEI</td>\n",
       "      <td>2022-09-17</td>\n",
       "      <td>0.625795</td>\n",
       "      <td>0.245188</td>\n",
       "    </tr>\n",
       "    <tr>\n",
       "      <th>792</th>\n",
       "      <td>72</td>\n",
       "      <td>4</td>\n",
       "      <td>BRE</td>\n",
       "      <td>1</td>\n",
       "      <td>ARS</td>\n",
       "      <td>2022-09-18</td>\n",
       "      <td>0.408945</td>\n",
       "      <td>0.322005</td>\n",
       "    </tr>\n",
       "    <tr>\n",
       "      <th>793</th>\n",
       "      <td>75</td>\n",
       "      <td>8</td>\n",
       "      <td>EVE</td>\n",
       "      <td>19</td>\n",
       "      <td>WHU</td>\n",
       "      <td>2022-09-18</td>\n",
       "      <td>0.370265</td>\n",
       "      <td>0.300424</td>\n",
       "    </tr>\n",
       "    <tr>\n",
       "      <th>794</th>\n",
       "      <td>76</td>\n",
       "      <td>14</td>\n",
       "      <td>MUN</td>\n",
       "      <td>11</td>\n",
       "      <td>LEE</td>\n",
       "      <td>2022-09-18</td>\n",
       "      <td>0.664127</td>\n",
       "      <td>0.313693</td>\n",
       "    </tr>\n",
       "    <tr>\n",
       "      <th>795</th>\n",
       "      <td>74</td>\n",
       "      <td>6</td>\n",
       "      <td>CHE</td>\n",
       "      <td>12</td>\n",
       "      <td>LIV</td>\n",
       "      <td>2022-09-18</td>\n",
       "      <td>0.308407</td>\n",
       "      <td>0.306061</td>\n",
       "    </tr>\n",
       "  </tbody>\n",
       "</table>\n",
       "</div>"
      ],
      "text/plain": [
       "     id  team_h team_name_home  team_a team_name_away   match_day  \\\n",
       "787  71       2            AVL      17            SOU  2022-09-16   \n",
       "788  78      16            NFO       9            FUL  2022-09-16   \n",
       "789  80      20            WOL      13            MCI  2022-09-17   \n",
       "790  77      15            NEW       3            BOU  2022-09-17   \n",
       "791  79      18            TOT      10            LEI  2022-09-17   \n",
       "792  72       4            BRE       1            ARS  2022-09-18   \n",
       "793  75       8            EVE      19            WHU  2022-09-18   \n",
       "794  76      14            MUN      11            LEE  2022-09-18   \n",
       "795  74       6            CHE      12            LIV  2022-09-18   \n",
       "\n",
       "     home_win_probability  draw_probability  \n",
       "787              0.425565          0.210958  \n",
       "788              0.334529          0.320021  \n",
       "789              0.132014          0.487497  \n",
       "790              0.448759          0.355370  \n",
       "791              0.625795          0.245188  \n",
       "792              0.408945          0.322005  \n",
       "793              0.370265          0.300424  \n",
       "794              0.664127          0.313693  \n",
       "795              0.308407          0.306061  "
      ]
     },
     "execution_count": 56,
     "metadata": {},
     "output_type": "execute_result"
    }
   ],
   "source": [
    "result"
   ]
  },
  {
   "cell_type": "markdown",
   "id": "bfbcfcc7",
   "metadata": {},
   "source": [
    "### Predicting away-win"
   ]
  },
  {
   "cell_type": "code",
   "execution_count": 57,
   "id": "a8853857",
   "metadata": {},
   "outputs": [],
   "source": [
    "target = 'result_away_win'"
   ]
  },
  {
   "cell_type": "markdown",
   "id": "86194bda",
   "metadata": {},
   "source": [
    "#### CV"
   ]
  },
  {
   "cell_type": "code",
   "execution_count": 58,
   "id": "ee6fc234",
   "metadata": {},
   "outputs": [],
   "source": [
    "fit_to_csv = pipe_to_cv.fit(X[features])"
   ]
  },
  {
   "cell_type": "code",
   "execution_count": 59,
   "id": "fd78bf77",
   "metadata": {},
   "outputs": [],
   "source": [
    "X_to_csv = pipe_to_cv.transform(X[features])"
   ]
  },
  {
   "cell_type": "code",
   "execution_count": 60,
   "id": "14cd04c8",
   "metadata": {},
   "outputs": [],
   "source": [
    "# Create the parameter grid based on the results of random search \n",
    "param_grid = {\n",
    "    'bootstrap': [True],\n",
    "    'max_depth': [20, 40, 60],\n",
    "    'max_features': [2, 3, 5, 10, 20],\n",
    "    'min_samples_leaf': [3, 4, 5, 10, 20],\n",
    "    'n_estimators': [10, 50, 100]\n",
    "}\n",
    "\n",
    "# Create a based model\n",
    "rf = RandomForestClassifier()\n",
    "\n",
    "# Instantiate the grid search model\n",
    "grid_search = GridSearchCV(estimator = rf, param_grid = param_grid, \n",
    "                          cv = 3, n_jobs = -1, verbose = 2)"
   ]
  },
  {
   "cell_type": "code",
   "execution_count": 61,
   "id": "a7c7a995",
   "metadata": {},
   "outputs": [
    {
     "name": "stdout",
     "output_type": "stream",
     "text": [
      "Fitting 3 folds for each of 225 candidates, totalling 675 fits\n"
     ]
    },
    {
     "data": {
      "text/html": [
       "<style>#sk-container-id-5 {color: black;background-color: white;}#sk-container-id-5 pre{padding: 0;}#sk-container-id-5 div.sk-toggleable {background-color: white;}#sk-container-id-5 label.sk-toggleable__label {cursor: pointer;display: block;width: 100%;margin-bottom: 0;padding: 0.3em;box-sizing: border-box;text-align: center;}#sk-container-id-5 label.sk-toggleable__label-arrow:before {content: \"▸\";float: left;margin-right: 0.25em;color: #696969;}#sk-container-id-5 label.sk-toggleable__label-arrow:hover:before {color: black;}#sk-container-id-5 div.sk-estimator:hover label.sk-toggleable__label-arrow:before {color: black;}#sk-container-id-5 div.sk-toggleable__content {max-height: 0;max-width: 0;overflow: hidden;text-align: left;background-color: #f0f8ff;}#sk-container-id-5 div.sk-toggleable__content pre {margin: 0.2em;color: black;border-radius: 0.25em;background-color: #f0f8ff;}#sk-container-id-5 input.sk-toggleable__control:checked~div.sk-toggleable__content {max-height: 200px;max-width: 100%;overflow: auto;}#sk-container-id-5 input.sk-toggleable__control:checked~label.sk-toggleable__label-arrow:before {content: \"▾\";}#sk-container-id-5 div.sk-estimator input.sk-toggleable__control:checked~label.sk-toggleable__label {background-color: #d4ebff;}#sk-container-id-5 div.sk-label input.sk-toggleable__control:checked~label.sk-toggleable__label {background-color: #d4ebff;}#sk-container-id-5 input.sk-hidden--visually {border: 0;clip: rect(1px 1px 1px 1px);clip: rect(1px, 1px, 1px, 1px);height: 1px;margin: -1px;overflow: hidden;padding: 0;position: absolute;width: 1px;}#sk-container-id-5 div.sk-estimator {font-family: monospace;background-color: #f0f8ff;border: 1px dotted black;border-radius: 0.25em;box-sizing: border-box;margin-bottom: 0.5em;}#sk-container-id-5 div.sk-estimator:hover {background-color: #d4ebff;}#sk-container-id-5 div.sk-parallel-item::after {content: \"\";width: 100%;border-bottom: 1px solid gray;flex-grow: 1;}#sk-container-id-5 div.sk-label:hover label.sk-toggleable__label {background-color: #d4ebff;}#sk-container-id-5 div.sk-serial::before {content: \"\";position: absolute;border-left: 1px solid gray;box-sizing: border-box;top: 0;bottom: 0;left: 50%;z-index: 0;}#sk-container-id-5 div.sk-serial {display: flex;flex-direction: column;align-items: center;background-color: white;padding-right: 0.2em;padding-left: 0.2em;position: relative;}#sk-container-id-5 div.sk-item {position: relative;z-index: 1;}#sk-container-id-5 div.sk-parallel {display: flex;align-items: stretch;justify-content: center;background-color: white;position: relative;}#sk-container-id-5 div.sk-item::before, #sk-container-id-5 div.sk-parallel-item::before {content: \"\";position: absolute;border-left: 1px solid gray;box-sizing: border-box;top: 0;bottom: 0;left: 50%;z-index: -1;}#sk-container-id-5 div.sk-parallel-item {display: flex;flex-direction: column;z-index: 1;position: relative;background-color: white;}#sk-container-id-5 div.sk-parallel-item:first-child::after {align-self: flex-end;width: 50%;}#sk-container-id-5 div.sk-parallel-item:last-child::after {align-self: flex-start;width: 50%;}#sk-container-id-5 div.sk-parallel-item:only-child::after {width: 0;}#sk-container-id-5 div.sk-dashed-wrapped {border: 1px dashed gray;margin: 0 0.4em 0.5em 0.4em;box-sizing: border-box;padding-bottom: 0.4em;background-color: white;}#sk-container-id-5 div.sk-label label {font-family: monospace;font-weight: bold;display: inline-block;line-height: 1.2em;}#sk-container-id-5 div.sk-label-container {text-align: center;}#sk-container-id-5 div.sk-container {/* jupyter's `normalize.less` sets `[hidden] { display: none; }` but bootstrap.min.css set `[hidden] { display: none !important; }` so we also need the `!important` here to be able to override the default hidden behavior on the sphinx rendered scikit-learn.org. See: https://github.com/scikit-learn/scikit-learn/issues/21755 */display: inline-block !important;position: relative;}#sk-container-id-5 div.sk-text-repr-fallback {display: none;}</style><div id=\"sk-container-id-5\" class=\"sk-top-container\"><div class=\"sk-text-repr-fallback\"><pre>GridSearchCV(cv=3, estimator=RandomForestClassifier(), n_jobs=-1,\n",
       "             param_grid={&#x27;bootstrap&#x27;: [True], &#x27;max_depth&#x27;: [20, 40, 60],\n",
       "                         &#x27;max_features&#x27;: [2, 3, 5, 10, 20],\n",
       "                         &#x27;min_samples_leaf&#x27;: [3, 4, 5, 10, 20],\n",
       "                         &#x27;n_estimators&#x27;: [10, 50, 100]},\n",
       "             verbose=2)</pre><b>In a Jupyter environment, please rerun this cell to show the HTML representation or trust the notebook. <br />On GitHub, the HTML representation is unable to render, please try loading this page with nbviewer.org.</b></div><div class=\"sk-container\" hidden><div class=\"sk-item sk-dashed-wrapped\"><div class=\"sk-label-container\"><div class=\"sk-label sk-toggleable\"><input class=\"sk-toggleable__control sk-hidden--visually\" id=\"sk-estimator-id-25\" type=\"checkbox\" ><label for=\"sk-estimator-id-25\" class=\"sk-toggleable__label sk-toggleable__label-arrow\">GridSearchCV</label><div class=\"sk-toggleable__content\"><pre>GridSearchCV(cv=3, estimator=RandomForestClassifier(), n_jobs=-1,\n",
       "             param_grid={&#x27;bootstrap&#x27;: [True], &#x27;max_depth&#x27;: [20, 40, 60],\n",
       "                         &#x27;max_features&#x27;: [2, 3, 5, 10, 20],\n",
       "                         &#x27;min_samples_leaf&#x27;: [3, 4, 5, 10, 20],\n",
       "                         &#x27;n_estimators&#x27;: [10, 50, 100]},\n",
       "             verbose=2)</pre></div></div></div><div class=\"sk-parallel\"><div class=\"sk-parallel-item\"><div class=\"sk-item\"><div class=\"sk-label-container\"><div class=\"sk-label sk-toggleable\"><input class=\"sk-toggleable__control sk-hidden--visually\" id=\"sk-estimator-id-26\" type=\"checkbox\" ><label for=\"sk-estimator-id-26\" class=\"sk-toggleable__label sk-toggleable__label-arrow\">estimator: RandomForestClassifier</label><div class=\"sk-toggleable__content\"><pre>RandomForestClassifier()</pre></div></div></div><div class=\"sk-serial\"><div class=\"sk-item\"><div class=\"sk-estimator sk-toggleable\"><input class=\"sk-toggleable__control sk-hidden--visually\" id=\"sk-estimator-id-27\" type=\"checkbox\" ><label for=\"sk-estimator-id-27\" class=\"sk-toggleable__label sk-toggleable__label-arrow\">RandomForestClassifier</label><div class=\"sk-toggleable__content\"><pre>RandomForestClassifier()</pre></div></div></div></div></div></div></div></div></div></div>"
      ],
      "text/plain": [
       "GridSearchCV(cv=3, estimator=RandomForestClassifier(), n_jobs=-1,\n",
       "             param_grid={'bootstrap': [True], 'max_depth': [20, 40, 60],\n",
       "                         'max_features': [2, 3, 5, 10, 20],\n",
       "                         'min_samples_leaf': [3, 4, 5, 10, 20],\n",
       "                         'n_estimators': [10, 50, 100]},\n",
       "             verbose=2)"
      ]
     },
     "execution_count": 61,
     "metadata": {},
     "output_type": "execute_result"
    }
   ],
   "source": [
    "grid_search.fit(X_to_csv, X[target])"
   ]
  },
  {
   "cell_type": "code",
   "execution_count": 62,
   "id": "524500d6",
   "metadata": {},
   "outputs": [
    {
     "data": {
      "text/plain": [
       "{'bootstrap': True,\n",
       " 'max_depth': 20,\n",
       " 'max_features': 10,\n",
       " 'min_samples_leaf': 20,\n",
       " 'n_estimators': 100}"
      ]
     },
     "execution_count": 62,
     "metadata": {},
     "output_type": "execute_result"
    }
   ],
   "source": [
    "grid_search.best_params_"
   ]
  },
  {
   "cell_type": "markdown",
   "id": "175e6f12",
   "metadata": {},
   "source": [
    "#### Final model"
   ]
  },
  {
   "cell_type": "code",
   "execution_count": 63,
   "id": "982116bb",
   "metadata": {},
   "outputs": [],
   "source": [
    "pipe_rf = Pipeline([\n",
    "    ('preprocessors', preprocessors),\n",
    "    #('model', RandomForestClassifier(bootstrap = True, max_depth = 40, max_features = 5, min_samples_leaf = 5, n_estimators = 100))\n",
    "    ('model', RandomForestClassifier(**grid_search.best_params_))])"
   ]
  },
  {
   "cell_type": "code",
   "execution_count": 64,
   "id": "fce22b4b",
   "metadata": {},
   "outputs": [],
   "source": [
    "X_train, X_test, y_train, y_test = train_test_split(X[features], \n",
    "                                                    X[target], \n",
    "                                                    test_size = .2, \n",
    "                                                    random_state = seed, \n",
    "                                                    stratify = X[target])"
   ]
  },
  {
   "cell_type": "code",
   "execution_count": 65,
   "id": "549743f1",
   "metadata": {},
   "outputs": [
    {
     "data": {
      "text/html": [
       "<style>#sk-container-id-6 {color: black;background-color: white;}#sk-container-id-6 pre{padding: 0;}#sk-container-id-6 div.sk-toggleable {background-color: white;}#sk-container-id-6 label.sk-toggleable__label {cursor: pointer;display: block;width: 100%;margin-bottom: 0;padding: 0.3em;box-sizing: border-box;text-align: center;}#sk-container-id-6 label.sk-toggleable__label-arrow:before {content: \"▸\";float: left;margin-right: 0.25em;color: #696969;}#sk-container-id-6 label.sk-toggleable__label-arrow:hover:before {color: black;}#sk-container-id-6 div.sk-estimator:hover label.sk-toggleable__label-arrow:before {color: black;}#sk-container-id-6 div.sk-toggleable__content {max-height: 0;max-width: 0;overflow: hidden;text-align: left;background-color: #f0f8ff;}#sk-container-id-6 div.sk-toggleable__content pre {margin: 0.2em;color: black;border-radius: 0.25em;background-color: #f0f8ff;}#sk-container-id-6 input.sk-toggleable__control:checked~div.sk-toggleable__content {max-height: 200px;max-width: 100%;overflow: auto;}#sk-container-id-6 input.sk-toggleable__control:checked~label.sk-toggleable__label-arrow:before {content: \"▾\";}#sk-container-id-6 div.sk-estimator input.sk-toggleable__control:checked~label.sk-toggleable__label {background-color: #d4ebff;}#sk-container-id-6 div.sk-label input.sk-toggleable__control:checked~label.sk-toggleable__label {background-color: #d4ebff;}#sk-container-id-6 input.sk-hidden--visually {border: 0;clip: rect(1px 1px 1px 1px);clip: rect(1px, 1px, 1px, 1px);height: 1px;margin: -1px;overflow: hidden;padding: 0;position: absolute;width: 1px;}#sk-container-id-6 div.sk-estimator {font-family: monospace;background-color: #f0f8ff;border: 1px dotted black;border-radius: 0.25em;box-sizing: border-box;margin-bottom: 0.5em;}#sk-container-id-6 div.sk-estimator:hover {background-color: #d4ebff;}#sk-container-id-6 div.sk-parallel-item::after {content: \"\";width: 100%;border-bottom: 1px solid gray;flex-grow: 1;}#sk-container-id-6 div.sk-label:hover label.sk-toggleable__label {background-color: #d4ebff;}#sk-container-id-6 div.sk-serial::before {content: \"\";position: absolute;border-left: 1px solid gray;box-sizing: border-box;top: 0;bottom: 0;left: 50%;z-index: 0;}#sk-container-id-6 div.sk-serial {display: flex;flex-direction: column;align-items: center;background-color: white;padding-right: 0.2em;padding-left: 0.2em;position: relative;}#sk-container-id-6 div.sk-item {position: relative;z-index: 1;}#sk-container-id-6 div.sk-parallel {display: flex;align-items: stretch;justify-content: center;background-color: white;position: relative;}#sk-container-id-6 div.sk-item::before, #sk-container-id-6 div.sk-parallel-item::before {content: \"\";position: absolute;border-left: 1px solid gray;box-sizing: border-box;top: 0;bottom: 0;left: 50%;z-index: -1;}#sk-container-id-6 div.sk-parallel-item {display: flex;flex-direction: column;z-index: 1;position: relative;background-color: white;}#sk-container-id-6 div.sk-parallel-item:first-child::after {align-self: flex-end;width: 50%;}#sk-container-id-6 div.sk-parallel-item:last-child::after {align-self: flex-start;width: 50%;}#sk-container-id-6 div.sk-parallel-item:only-child::after {width: 0;}#sk-container-id-6 div.sk-dashed-wrapped {border: 1px dashed gray;margin: 0 0.4em 0.5em 0.4em;box-sizing: border-box;padding-bottom: 0.4em;background-color: white;}#sk-container-id-6 div.sk-label label {font-family: monospace;font-weight: bold;display: inline-block;line-height: 1.2em;}#sk-container-id-6 div.sk-label-container {text-align: center;}#sk-container-id-6 div.sk-container {/* jupyter's `normalize.less` sets `[hidden] { display: none; }` but bootstrap.min.css set `[hidden] { display: none !important; }` so we also need the `!important` here to be able to override the default hidden behavior on the sphinx rendered scikit-learn.org. See: https://github.com/scikit-learn/scikit-learn/issues/21755 */display: inline-block !important;position: relative;}#sk-container-id-6 div.sk-text-repr-fallback {display: none;}</style><div id=\"sk-container-id-6\" class=\"sk-top-container\"><div class=\"sk-text-repr-fallback\"><pre>Pipeline(steps=[(&#x27;preprocessors&#x27;,\n",
       "                 ColumnTransformer(transformers=[(&#x27;num&#x27;,\n",
       "                                                  Pipeline(steps=[(&#x27;imputer&#x27;,\n",
       "                                                                   SimpleImputer()),\n",
       "                                                                  (&#x27;scaler&#x27;,\n",
       "                                                                   MinMaxScaler())]),\n",
       "                                                  Index([&#x27;Unnamed: 0&#x27;, &#x27;id&#x27;, &#x27;scored_goals_team_h&#x27;, &#x27;conceded_goals_team_h&#x27;,\n",
       "       &#x27;win_team_h&#x27;, &#x27;draw_team_h&#x27;, &#x27;loss_team_h&#x27;, &#x27;win_rate_team_h&#x27;,\n",
       "       &#x27;win_rate_last_5_team_h&#x27;, &#x27;win_rate_h_team_h&#x27;,\n",
       "       &#x27;win_rate_h_last_5_team_h&#x27;, &#x27;draw...\n",
       "       &#x27;best_assists_m_player_playing_player_a&#x27;,\n",
       "       &#x27;best_assists_f_player_playing_player_a&#x27;],\n",
       "      dtype=&#x27;object&#x27;)),\n",
       "                                                 (&#x27;cat&#x27;,\n",
       "                                                  Pipeline(steps=[(&#x27;imputer&#x27;,\n",
       "                                                                   SimpleImputer(fill_value=&#x27;missing&#x27;,\n",
       "                                                                                 strategy=&#x27;constant&#x27;)),\n",
       "                                                                  (&#x27;encoder&#x27;,\n",
       "                                                                   OneHotEncoder(drop=&#x27;first&#x27;,\n",
       "                                                                                 sparse=False))]),\n",
       "                                                  Index([&#x27;season&#x27;], dtype=&#x27;object&#x27;))])),\n",
       "                (&#x27;model&#x27;,\n",
       "                 RandomForestClassifier(max_depth=20, max_features=10,\n",
       "                                        min_samples_leaf=20))])</pre><b>In a Jupyter environment, please rerun this cell to show the HTML representation or trust the notebook. <br />On GitHub, the HTML representation is unable to render, please try loading this page with nbviewer.org.</b></div><div class=\"sk-container\" hidden><div class=\"sk-item sk-dashed-wrapped\"><div class=\"sk-label-container\"><div class=\"sk-label sk-toggleable\"><input class=\"sk-toggleable__control sk-hidden--visually\" id=\"sk-estimator-id-28\" type=\"checkbox\" ><label for=\"sk-estimator-id-28\" class=\"sk-toggleable__label sk-toggleable__label-arrow\">Pipeline</label><div class=\"sk-toggleable__content\"><pre>Pipeline(steps=[(&#x27;preprocessors&#x27;,\n",
       "                 ColumnTransformer(transformers=[(&#x27;num&#x27;,\n",
       "                                                  Pipeline(steps=[(&#x27;imputer&#x27;,\n",
       "                                                                   SimpleImputer()),\n",
       "                                                                  (&#x27;scaler&#x27;,\n",
       "                                                                   MinMaxScaler())]),\n",
       "                                                  Index([&#x27;Unnamed: 0&#x27;, &#x27;id&#x27;, &#x27;scored_goals_team_h&#x27;, &#x27;conceded_goals_team_h&#x27;,\n",
       "       &#x27;win_team_h&#x27;, &#x27;draw_team_h&#x27;, &#x27;loss_team_h&#x27;, &#x27;win_rate_team_h&#x27;,\n",
       "       &#x27;win_rate_last_5_team_h&#x27;, &#x27;win_rate_h_team_h&#x27;,\n",
       "       &#x27;win_rate_h_last_5_team_h&#x27;, &#x27;draw...\n",
       "       &#x27;best_assists_m_player_playing_player_a&#x27;,\n",
       "       &#x27;best_assists_f_player_playing_player_a&#x27;],\n",
       "      dtype=&#x27;object&#x27;)),\n",
       "                                                 (&#x27;cat&#x27;,\n",
       "                                                  Pipeline(steps=[(&#x27;imputer&#x27;,\n",
       "                                                                   SimpleImputer(fill_value=&#x27;missing&#x27;,\n",
       "                                                                                 strategy=&#x27;constant&#x27;)),\n",
       "                                                                  (&#x27;encoder&#x27;,\n",
       "                                                                   OneHotEncoder(drop=&#x27;first&#x27;,\n",
       "                                                                                 sparse=False))]),\n",
       "                                                  Index([&#x27;season&#x27;], dtype=&#x27;object&#x27;))])),\n",
       "                (&#x27;model&#x27;,\n",
       "                 RandomForestClassifier(max_depth=20, max_features=10,\n",
       "                                        min_samples_leaf=20))])</pre></div></div></div><div class=\"sk-serial\"><div class=\"sk-item sk-dashed-wrapped\"><div class=\"sk-label-container\"><div class=\"sk-label sk-toggleable\"><input class=\"sk-toggleable__control sk-hidden--visually\" id=\"sk-estimator-id-29\" type=\"checkbox\" ><label for=\"sk-estimator-id-29\" class=\"sk-toggleable__label sk-toggleable__label-arrow\">preprocessors: ColumnTransformer</label><div class=\"sk-toggleable__content\"><pre>ColumnTransformer(transformers=[(&#x27;num&#x27;,\n",
       "                                 Pipeline(steps=[(&#x27;imputer&#x27;, SimpleImputer()),\n",
       "                                                 (&#x27;scaler&#x27;, MinMaxScaler())]),\n",
       "                                 Index([&#x27;Unnamed: 0&#x27;, &#x27;id&#x27;, &#x27;scored_goals_team_h&#x27;, &#x27;conceded_goals_team_h&#x27;,\n",
       "       &#x27;win_team_h&#x27;, &#x27;draw_team_h&#x27;, &#x27;loss_team_h&#x27;, &#x27;win_rate_team_h&#x27;,\n",
       "       &#x27;win_rate_last_5_team_h&#x27;, &#x27;win_rate_h_team_h&#x27;,\n",
       "       &#x27;win_rate_h_last_5_team_h&#x27;, &#x27;draw_rate_team_h&#x27;,\n",
       "       &#x27;draw_rate_last_5_t...\n",
       "       &#x27;best_assists_player_playing_player_a&#x27;,\n",
       "       &#x27;best_assists_d_player_playing_player_a&#x27;,\n",
       "       &#x27;best_assists_m_player_playing_player_a&#x27;,\n",
       "       &#x27;best_assists_f_player_playing_player_a&#x27;],\n",
       "      dtype=&#x27;object&#x27;)),\n",
       "                                (&#x27;cat&#x27;,\n",
       "                                 Pipeline(steps=[(&#x27;imputer&#x27;,\n",
       "                                                  SimpleImputer(fill_value=&#x27;missing&#x27;,\n",
       "                                                                strategy=&#x27;constant&#x27;)),\n",
       "                                                 (&#x27;encoder&#x27;,\n",
       "                                                  OneHotEncoder(drop=&#x27;first&#x27;,\n",
       "                                                                sparse=False))]),\n",
       "                                 Index([&#x27;season&#x27;], dtype=&#x27;object&#x27;))])</pre></div></div></div><div class=\"sk-parallel\"><div class=\"sk-parallel-item\"><div class=\"sk-item\"><div class=\"sk-label-container\"><div class=\"sk-label sk-toggleable\"><input class=\"sk-toggleable__control sk-hidden--visually\" id=\"sk-estimator-id-30\" type=\"checkbox\" ><label for=\"sk-estimator-id-30\" class=\"sk-toggleable__label sk-toggleable__label-arrow\">num</label><div class=\"sk-toggleable__content\"><pre>Index([&#x27;Unnamed: 0&#x27;, &#x27;id&#x27;, &#x27;scored_goals_team_h&#x27;, &#x27;conceded_goals_team_h&#x27;,\n",
       "       &#x27;win_team_h&#x27;, &#x27;draw_team_h&#x27;, &#x27;loss_team_h&#x27;, &#x27;win_rate_team_h&#x27;,\n",
       "       &#x27;win_rate_last_5_team_h&#x27;, &#x27;win_rate_h_team_h&#x27;,\n",
       "       &#x27;win_rate_h_last_5_team_h&#x27;, &#x27;draw_rate_team_h&#x27;,\n",
       "       &#x27;draw_rate_last_5_team_h&#x27;, &#x27;draw_rate_h_team_h&#x27;,\n",
       "       &#x27;draw_rate_h_last_5_team_h&#x27;, &#x27;loss_rate_team_h&#x27;,\n",
       "       &#x27;loss_rate_last_5_team_h&#x27;, &#x27;loss_rate_h_team_h&#x27;,\n",
       "       &#x27;loss_rate_h_last_5_team_h&#x27;, &#x27;avg_scored_goals_team_h&#x27;,\n",
       "       &#x27;avg_scored_goals_last_5_team_h&#x27;, &#x27;avg_scored_goals_h_team_h&#x27;,\n",
       "       &#x27;avg_scored_goals_h_last_5_team_h&#x27;, &#x27;avg_conceded_goals_team_h&#x27;,\n",
       "       &#x27;avg_conceded_goals_last_5_team_h&#x27;, &#x27;avg_conceded_goals_h_team_h&#x27;,\n",
       "       &#x27;avg_conceded_goals_h_last_5_team_h&#x27;, &#x27;scored_goals_team_a&#x27;,\n",
       "       &#x27;conceded_goals_team_a&#x27;, &#x27;win_team_a&#x27;, &#x27;draw_team_a&#x27;, &#x27;loss_team_a&#x27;,\n",
       "       &#x27;win_rate_team_a&#x27;, &#x27;win_rate_last_5_team_a&#x27;, &#x27;win_rate_a_team_a&#x27;,\n",
       "       &#x27;win_rate_a_last_5_team_a&#x27;, &#x27;draw_rate_team_a&#x27;,\n",
       "       &#x27;draw_rate_last_5_team_a&#x27;, &#x27;draw_rate_a_team_a&#x27;,\n",
       "       &#x27;draw_rate_a_last_5_team_a&#x27;, &#x27;loss_rate_team_a&#x27;,\n",
       "       &#x27;loss_rate_last_5_team_a&#x27;, &#x27;loss_rate_a_team_a&#x27;,\n",
       "       &#x27;loss_rate_a_last_5_team_a&#x27;, &#x27;avg_scored_goals_team_a&#x27;,\n",
       "       &#x27;avg_scored_goals_last_5_team_a&#x27;, &#x27;avg_scored_goals_a_team_a&#x27;,\n",
       "       &#x27;avg_scored_goals_a_last_5_team_a&#x27;, &#x27;avg_conceded_goals_team_a&#x27;,\n",
       "       &#x27;avg_conceded_goals_last_5_team_a&#x27;, &#x27;avg_conceded_goals_a_team_a&#x27;,\n",
       "       &#x27;avg_conceded_goals_a_last_5_team_a&#x27;, &#x27;max_value_player_h&#x27;,\n",
       "       &#x27;max_value_position_g_player_h&#x27;, &#x27;max_value_position_d_player_h&#x27;,\n",
       "       &#x27;max_value_position_m_player_h&#x27;, &#x27;max_value_position_f_player_h&#x27;,\n",
       "       &#x27;avg_goals_per_hour_5_player_h&#x27;, &#x27;avg_goals_per_hour_10_player_h&#x27;,\n",
       "       &#x27;avg_assists_per_hour_5_player_h&#x27;, &#x27;avg_assists_per_hour_10_player_h&#x27;,\n",
       "       &#x27;avg_goals_conceded_per_hour_5_player_h&#x27;,\n",
       "       &#x27;avg_goals_conceded_per_hour_10_player_h&#x27;,\n",
       "       &#x27;most_valuable_player_playing_player_h&#x27;,\n",
       "       &#x27;most_valuable_g_player_playing_player_h&#x27;,\n",
       "       &#x27;most_valuable_f_player_playing_player_h&#x27;,\n",
       "       &#x27;most_valuable_m_player_playing_player_h&#x27;,\n",
       "       &#x27;best_goal_scorer_playing_player_h&#x27;,\n",
       "       &#x27;best_m_goal_scorer_playing_player_h&#x27;,\n",
       "       &#x27;best_f_goal_scorer_playing_player_h&#x27;,\n",
       "       &#x27;best_assists_player_playing_player_h&#x27;,\n",
       "       &#x27;best_assists_d_player_playing_player_h&#x27;,\n",
       "       &#x27;best_assists_m_player_playing_player_h&#x27;,\n",
       "       &#x27;best_assists_f_player_playing_player_h&#x27;, &#x27;max_value_player_a&#x27;,\n",
       "       &#x27;max_value_position_g_player_a&#x27;, &#x27;max_value_position_d_player_a&#x27;,\n",
       "       &#x27;max_value_position_m_player_a&#x27;, &#x27;max_value_position_f_player_a&#x27;,\n",
       "       &#x27;avg_goals_per_hour_5_player_a&#x27;, &#x27;avg_goals_per_hour_10_player_a&#x27;,\n",
       "       &#x27;avg_assists_per_hour_5_player_a&#x27;, &#x27;avg_assists_per_hour_10_player_a&#x27;,\n",
       "       &#x27;avg_goals_conceded_per_hour_5_player_a&#x27;,\n",
       "       &#x27;avg_goals_conceded_per_hour_10_player_a&#x27;,\n",
       "       &#x27;most_valuable_player_playing_player_a&#x27;,\n",
       "       &#x27;most_valuable_g_player_playing_player_a&#x27;,\n",
       "       &#x27;most_valuable_f_player_playing_player_a&#x27;,\n",
       "       &#x27;most_valuable_m_player_playing_player_a&#x27;,\n",
       "       &#x27;best_goal_scorer_playing_player_a&#x27;,\n",
       "       &#x27;best_m_goal_scorer_playing_player_a&#x27;,\n",
       "       &#x27;best_f_goal_scorer_playing_player_a&#x27;,\n",
       "       &#x27;best_assists_player_playing_player_a&#x27;,\n",
       "       &#x27;best_assists_d_player_playing_player_a&#x27;,\n",
       "       &#x27;best_assists_m_player_playing_player_a&#x27;,\n",
       "       &#x27;best_assists_f_player_playing_player_a&#x27;],\n",
       "      dtype=&#x27;object&#x27;)</pre></div></div></div><div class=\"sk-serial\"><div class=\"sk-item\"><div class=\"sk-serial\"><div class=\"sk-item\"><div class=\"sk-estimator sk-toggleable\"><input class=\"sk-toggleable__control sk-hidden--visually\" id=\"sk-estimator-id-31\" type=\"checkbox\" ><label for=\"sk-estimator-id-31\" class=\"sk-toggleable__label sk-toggleable__label-arrow\">SimpleImputer</label><div class=\"sk-toggleable__content\"><pre>SimpleImputer()</pre></div></div></div><div class=\"sk-item\"><div class=\"sk-estimator sk-toggleable\"><input class=\"sk-toggleable__control sk-hidden--visually\" id=\"sk-estimator-id-32\" type=\"checkbox\" ><label for=\"sk-estimator-id-32\" class=\"sk-toggleable__label sk-toggleable__label-arrow\">MinMaxScaler</label><div class=\"sk-toggleable__content\"><pre>MinMaxScaler()</pre></div></div></div></div></div></div></div></div><div class=\"sk-parallel-item\"><div class=\"sk-item\"><div class=\"sk-label-container\"><div class=\"sk-label sk-toggleable\"><input class=\"sk-toggleable__control sk-hidden--visually\" id=\"sk-estimator-id-33\" type=\"checkbox\" ><label for=\"sk-estimator-id-33\" class=\"sk-toggleable__label sk-toggleable__label-arrow\">cat</label><div class=\"sk-toggleable__content\"><pre>Index([&#x27;season&#x27;], dtype=&#x27;object&#x27;)</pre></div></div></div><div class=\"sk-serial\"><div class=\"sk-item\"><div class=\"sk-serial\"><div class=\"sk-item\"><div class=\"sk-estimator sk-toggleable\"><input class=\"sk-toggleable__control sk-hidden--visually\" id=\"sk-estimator-id-34\" type=\"checkbox\" ><label for=\"sk-estimator-id-34\" class=\"sk-toggleable__label sk-toggleable__label-arrow\">SimpleImputer</label><div class=\"sk-toggleable__content\"><pre>SimpleImputer(fill_value=&#x27;missing&#x27;, strategy=&#x27;constant&#x27;)</pre></div></div></div><div class=\"sk-item\"><div class=\"sk-estimator sk-toggleable\"><input class=\"sk-toggleable__control sk-hidden--visually\" id=\"sk-estimator-id-35\" type=\"checkbox\" ><label for=\"sk-estimator-id-35\" class=\"sk-toggleable__label sk-toggleable__label-arrow\">OneHotEncoder</label><div class=\"sk-toggleable__content\"><pre>OneHotEncoder(drop=&#x27;first&#x27;, sparse=False)</pre></div></div></div></div></div></div></div></div></div></div><div class=\"sk-item\"><div class=\"sk-estimator sk-toggleable\"><input class=\"sk-toggleable__control sk-hidden--visually\" id=\"sk-estimator-id-36\" type=\"checkbox\" ><label for=\"sk-estimator-id-36\" class=\"sk-toggleable__label sk-toggleable__label-arrow\">RandomForestClassifier</label><div class=\"sk-toggleable__content\"><pre>RandomForestClassifier(max_depth=20, max_features=10, min_samples_leaf=20)</pre></div></div></div></div></div></div></div>"
      ],
      "text/plain": [
       "Pipeline(steps=[('preprocessors',\n",
       "                 ColumnTransformer(transformers=[('num',\n",
       "                                                  Pipeline(steps=[('imputer',\n",
       "                                                                   SimpleImputer()),\n",
       "                                                                  ('scaler',\n",
       "                                                                   MinMaxScaler())]),\n",
       "                                                  Index(['Unnamed: 0', 'id', 'scored_goals_team_h', 'conceded_goals_team_h',\n",
       "       'win_team_h', 'draw_team_h', 'loss_team_h', 'win_rate_team_h',\n",
       "       'win_rate_last_5_team_h', 'win_rate_h_team_h',\n",
       "       'win_rate_h_last_5_team_h', 'draw...\n",
       "       'best_assists_m_player_playing_player_a',\n",
       "       'best_assists_f_player_playing_player_a'],\n",
       "      dtype='object')),\n",
       "                                                 ('cat',\n",
       "                                                  Pipeline(steps=[('imputer',\n",
       "                                                                   SimpleImputer(fill_value='missing',\n",
       "                                                                                 strategy='constant')),\n",
       "                                                                  ('encoder',\n",
       "                                                                   OneHotEncoder(drop='first',\n",
       "                                                                                 sparse=False))]),\n",
       "                                                  Index(['season'], dtype='object'))])),\n",
       "                ('model',\n",
       "                 RandomForestClassifier(max_depth=20, max_features=10,\n",
       "                                        min_samples_leaf=20))])"
      ]
     },
     "execution_count": 65,
     "metadata": {},
     "output_type": "execute_result"
    }
   ],
   "source": [
    "pipe_rf.fit(X_train, y_train)"
   ]
  },
  {
   "cell_type": "code",
   "execution_count": 66,
   "id": "c9445c08",
   "metadata": {},
   "outputs": [
    {
     "name": "stdout",
     "output_type": "stream",
     "text": [
      "Train ROC-AUC: 0.8702\n",
      "Test ROC-AUC: 0.6269\n"
     ]
    }
   ],
   "source": [
    "print(f\"Train ROC-AUC: {calculate_roc_auc(pipe_rf, X_train, y_train):.4f}\")\n",
    "print(f\"Test ROC-AUC: {calculate_roc_auc(pipe_rf, X_test, y_test):.4f}\")"
   ]
  },
  {
   "cell_type": "code",
   "execution_count": 67,
   "id": "27a55182",
   "metadata": {},
   "outputs": [
    {
     "data": {
      "text/plain": [
       "array([0.31140663, 0.39799478, 0.52974422, 0.26014915, 0.15560718,\n",
       "       0.30894774, 0.39296814, 0.1631963 , 0.40562718])"
      ]
     },
     "execution_count": 67,
     "metadata": {},
     "output_type": "execute_result"
    }
   ],
   "source": [
    "pipe_rf.predict_proba(score[features])[:, 1]"
   ]
  },
  {
   "cell_type": "code",
   "execution_count": 68,
   "id": "abf774e4",
   "metadata": {},
   "outputs": [],
   "source": [
    "result[\"away_win_probability\"] = pipe_rf.predict_proba(score[features])[:, 1]"
   ]
  },
  {
   "cell_type": "code",
   "execution_count": 69,
   "id": "e1f066cd",
   "metadata": {},
   "outputs": [
    {
     "data": {
      "text/html": [
       "<div>\n",
       "<style scoped>\n",
       "    .dataframe tbody tr th:only-of-type {\n",
       "        vertical-align: middle;\n",
       "    }\n",
       "\n",
       "    .dataframe tbody tr th {\n",
       "        vertical-align: top;\n",
       "    }\n",
       "\n",
       "    .dataframe thead th {\n",
       "        text-align: right;\n",
       "    }\n",
       "</style>\n",
       "<table border=\"1\" class=\"dataframe\">\n",
       "  <thead>\n",
       "    <tr style=\"text-align: right;\">\n",
       "      <th></th>\n",
       "      <th>id</th>\n",
       "      <th>team_h</th>\n",
       "      <th>team_name_home</th>\n",
       "      <th>team_a</th>\n",
       "      <th>team_name_away</th>\n",
       "      <th>match_day</th>\n",
       "      <th>home_win_probability</th>\n",
       "      <th>draw_probability</th>\n",
       "      <th>away_win_probability</th>\n",
       "    </tr>\n",
       "  </thead>\n",
       "  <tbody>\n",
       "    <tr>\n",
       "      <th>787</th>\n",
       "      <td>71</td>\n",
       "      <td>2</td>\n",
       "      <td>AVL</td>\n",
       "      <td>17</td>\n",
       "      <td>SOU</td>\n",
       "      <td>2022-09-16</td>\n",
       "      <td>0.425565</td>\n",
       "      <td>0.210958</td>\n",
       "      <td>0.311407</td>\n",
       "    </tr>\n",
       "    <tr>\n",
       "      <th>788</th>\n",
       "      <td>78</td>\n",
       "      <td>16</td>\n",
       "      <td>NFO</td>\n",
       "      <td>9</td>\n",
       "      <td>FUL</td>\n",
       "      <td>2022-09-16</td>\n",
       "      <td>0.334529</td>\n",
       "      <td>0.320021</td>\n",
       "      <td>0.397995</td>\n",
       "    </tr>\n",
       "    <tr>\n",
       "      <th>789</th>\n",
       "      <td>80</td>\n",
       "      <td>20</td>\n",
       "      <td>WOL</td>\n",
       "      <td>13</td>\n",
       "      <td>MCI</td>\n",
       "      <td>2022-09-17</td>\n",
       "      <td>0.132014</td>\n",
       "      <td>0.487497</td>\n",
       "      <td>0.529744</td>\n",
       "    </tr>\n",
       "    <tr>\n",
       "      <th>790</th>\n",
       "      <td>77</td>\n",
       "      <td>15</td>\n",
       "      <td>NEW</td>\n",
       "      <td>3</td>\n",
       "      <td>BOU</td>\n",
       "      <td>2022-09-17</td>\n",
       "      <td>0.448759</td>\n",
       "      <td>0.355370</td>\n",
       "      <td>0.260149</td>\n",
       "    </tr>\n",
       "    <tr>\n",
       "      <th>791</th>\n",
       "      <td>79</td>\n",
       "      <td>18</td>\n",
       "      <td>TOT</td>\n",
       "      <td>10</td>\n",
       "      <td>LEI</td>\n",
       "      <td>2022-09-17</td>\n",
       "      <td>0.625795</td>\n",
       "      <td>0.245188</td>\n",
       "      <td>0.155607</td>\n",
       "    </tr>\n",
       "    <tr>\n",
       "      <th>792</th>\n",
       "      <td>72</td>\n",
       "      <td>4</td>\n",
       "      <td>BRE</td>\n",
       "      <td>1</td>\n",
       "      <td>ARS</td>\n",
       "      <td>2022-09-18</td>\n",
       "      <td>0.408945</td>\n",
       "      <td>0.322005</td>\n",
       "      <td>0.308948</td>\n",
       "    </tr>\n",
       "    <tr>\n",
       "      <th>793</th>\n",
       "      <td>75</td>\n",
       "      <td>8</td>\n",
       "      <td>EVE</td>\n",
       "      <td>19</td>\n",
       "      <td>WHU</td>\n",
       "      <td>2022-09-18</td>\n",
       "      <td>0.370265</td>\n",
       "      <td>0.300424</td>\n",
       "      <td>0.392968</td>\n",
       "    </tr>\n",
       "    <tr>\n",
       "      <th>794</th>\n",
       "      <td>76</td>\n",
       "      <td>14</td>\n",
       "      <td>MUN</td>\n",
       "      <td>11</td>\n",
       "      <td>LEE</td>\n",
       "      <td>2022-09-18</td>\n",
       "      <td>0.664127</td>\n",
       "      <td>0.313693</td>\n",
       "      <td>0.163196</td>\n",
       "    </tr>\n",
       "    <tr>\n",
       "      <th>795</th>\n",
       "      <td>74</td>\n",
       "      <td>6</td>\n",
       "      <td>CHE</td>\n",
       "      <td>12</td>\n",
       "      <td>LIV</td>\n",
       "      <td>2022-09-18</td>\n",
       "      <td>0.308407</td>\n",
       "      <td>0.306061</td>\n",
       "      <td>0.405627</td>\n",
       "    </tr>\n",
       "  </tbody>\n",
       "</table>\n",
       "</div>"
      ],
      "text/plain": [
       "     id  team_h team_name_home  team_a team_name_away   match_day  \\\n",
       "787  71       2            AVL      17            SOU  2022-09-16   \n",
       "788  78      16            NFO       9            FUL  2022-09-16   \n",
       "789  80      20            WOL      13            MCI  2022-09-17   \n",
       "790  77      15            NEW       3            BOU  2022-09-17   \n",
       "791  79      18            TOT      10            LEI  2022-09-17   \n",
       "792  72       4            BRE       1            ARS  2022-09-18   \n",
       "793  75       8            EVE      19            WHU  2022-09-18   \n",
       "794  76      14            MUN      11            LEE  2022-09-18   \n",
       "795  74       6            CHE      12            LIV  2022-09-18   \n",
       "\n",
       "     home_win_probability  draw_probability  away_win_probability  \n",
       "787              0.425565          0.210958              0.311407  \n",
       "788              0.334529          0.320021              0.397995  \n",
       "789              0.132014          0.487497              0.529744  \n",
       "790              0.448759          0.355370              0.260149  \n",
       "791              0.625795          0.245188              0.155607  \n",
       "792              0.408945          0.322005              0.308948  \n",
       "793              0.370265          0.300424              0.392968  \n",
       "794              0.664127          0.313693              0.163196  \n",
       "795              0.308407          0.306061              0.405627  "
      ]
     },
     "execution_count": 69,
     "metadata": {},
     "output_type": "execute_result"
    }
   ],
   "source": [
    "result"
   ]
  },
  {
   "cell_type": "markdown",
   "id": "3fdb70a3",
   "metadata": {},
   "source": [
    "## Adjust score"
   ]
  },
  {
   "cell_type": "code",
   "execution_count": 70,
   "id": "4049e336",
   "metadata": {},
   "outputs": [],
   "source": [
    "result[\"home_win_probability_adj\"] = result[\"home_win_probability\"] / (result[\"home_win_probability\"] + result[\"draw_probability\"] + result[\"away_win_probability\"])\n",
    "result[\"draw_probability_adj\"] = result[\"draw_probability\"] / (result[\"home_win_probability\"] + result[\"draw_probability\"] + result[\"away_win_probability\"])\n",
    "result[\"away_win_probability_adj\"] = result[\"away_win_probability\"] / (result[\"home_win_probability\"] + result[\"draw_probability\"] + result[\"away_win_probability\"])"
   ]
  },
  {
   "cell_type": "code",
   "execution_count": 71,
   "id": "80dcf749",
   "metadata": {},
   "outputs": [
    {
     "data": {
      "text/html": [
       "<div>\n",
       "<style scoped>\n",
       "    .dataframe tbody tr th:only-of-type {\n",
       "        vertical-align: middle;\n",
       "    }\n",
       "\n",
       "    .dataframe tbody tr th {\n",
       "        vertical-align: top;\n",
       "    }\n",
       "\n",
       "    .dataframe thead th {\n",
       "        text-align: right;\n",
       "    }\n",
       "</style>\n",
       "<table border=\"1\" class=\"dataframe\">\n",
       "  <thead>\n",
       "    <tr style=\"text-align: right;\">\n",
       "      <th></th>\n",
       "      <th>match_day</th>\n",
       "      <th>team_name_home</th>\n",
       "      <th>team_name_away</th>\n",
       "      <th>home_win_probability_adj</th>\n",
       "      <th>draw_probability_adj</th>\n",
       "      <th>away_win_probability_adj</th>\n",
       "    </tr>\n",
       "  </thead>\n",
       "  <tbody>\n",
       "    <tr>\n",
       "      <th>787</th>\n",
       "      <td>2022-09-16</td>\n",
       "      <td>AVL</td>\n",
       "      <td>SOU</td>\n",
       "      <td>0.448941</td>\n",
       "      <td>0.222546</td>\n",
       "      <td>0.328512</td>\n",
       "    </tr>\n",
       "    <tr>\n",
       "      <th>788</th>\n",
       "      <td>2022-09-16</td>\n",
       "      <td>NFO</td>\n",
       "      <td>FUL</td>\n",
       "      <td>0.317829</td>\n",
       "      <td>0.304045</td>\n",
       "      <td>0.378126</td>\n",
       "    </tr>\n",
       "    <tr>\n",
       "      <th>789</th>\n",
       "      <td>2022-09-17</td>\n",
       "      <td>WOL</td>\n",
       "      <td>MCI</td>\n",
       "      <td>0.114869</td>\n",
       "      <td>0.424185</td>\n",
       "      <td>0.460946</td>\n",
       "    </tr>\n",
       "    <tr>\n",
       "      <th>790</th>\n",
       "      <td>2022-09-17</td>\n",
       "      <td>NEW</td>\n",
       "      <td>BOU</td>\n",
       "      <td>0.421656</td>\n",
       "      <td>0.333907</td>\n",
       "      <td>0.244437</td>\n",
       "    </tr>\n",
       "    <tr>\n",
       "      <th>791</th>\n",
       "      <td>2022-09-17</td>\n",
       "      <td>TOT</td>\n",
       "      <td>LEI</td>\n",
       "      <td>0.609586</td>\n",
       "      <td>0.238838</td>\n",
       "      <td>0.151577</td>\n",
       "    </tr>\n",
       "    <tr>\n",
       "      <th>792</th>\n",
       "      <td>2022-09-18</td>\n",
       "      <td>BRE</td>\n",
       "      <td>ARS</td>\n",
       "      <td>0.393255</td>\n",
       "      <td>0.309651</td>\n",
       "      <td>0.297094</td>\n",
       "    </tr>\n",
       "    <tr>\n",
       "      <th>793</th>\n",
       "      <td>2022-09-18</td>\n",
       "      <td>EVE</td>\n",
       "      <td>WHU</td>\n",
       "      <td>0.348106</td>\n",
       "      <td>0.282444</td>\n",
       "      <td>0.369450</td>\n",
       "    </tr>\n",
       "    <tr>\n",
       "      <th>794</th>\n",
       "      <td>2022-09-18</td>\n",
       "      <td>MUN</td>\n",
       "      <td>LEE</td>\n",
       "      <td>0.582049</td>\n",
       "      <td>0.274924</td>\n",
       "      <td>0.143027</td>\n",
       "    </tr>\n",
       "    <tr>\n",
       "      <th>795</th>\n",
       "      <td>2022-09-18</td>\n",
       "      <td>CHE</td>\n",
       "      <td>LIV</td>\n",
       "      <td>0.302332</td>\n",
       "      <td>0.300031</td>\n",
       "      <td>0.397637</td>\n",
       "    </tr>\n",
       "  </tbody>\n",
       "</table>\n",
       "</div>"
      ],
      "text/plain": [
       "      match_day team_name_home team_name_away  home_win_probability_adj  \\\n",
       "787  2022-09-16            AVL            SOU                  0.448941   \n",
       "788  2022-09-16            NFO            FUL                  0.317829   \n",
       "789  2022-09-17            WOL            MCI                  0.114869   \n",
       "790  2022-09-17            NEW            BOU                  0.421656   \n",
       "791  2022-09-17            TOT            LEI                  0.609586   \n",
       "792  2022-09-18            BRE            ARS                  0.393255   \n",
       "793  2022-09-18            EVE            WHU                  0.348106   \n",
       "794  2022-09-18            MUN            LEE                  0.582049   \n",
       "795  2022-09-18            CHE            LIV                  0.302332   \n",
       "\n",
       "     draw_probability_adj  away_win_probability_adj  \n",
       "787              0.222546                  0.328512  \n",
       "788              0.304045                  0.378126  \n",
       "789              0.424185                  0.460946  \n",
       "790              0.333907                  0.244437  \n",
       "791              0.238838                  0.151577  \n",
       "792              0.309651                  0.297094  \n",
       "793              0.282444                  0.369450  \n",
       "794              0.274924                  0.143027  \n",
       "795              0.300031                  0.397637  "
      ]
     },
     "execution_count": 71,
     "metadata": {},
     "output_type": "execute_result"
    }
   ],
   "source": [
    "result[[\"match_day\", \"team_name_home\", \"team_name_away\", \"home_win_probability_adj\", \"draw_probability_adj\", \"away_win_probability_adj\"]]"
   ]
  },
  {
   "cell_type": "code",
   "execution_count": 72,
   "id": "f1b6414a",
   "metadata": {},
   "outputs": [
    {
     "data": {
      "text/plain": [
       "0.4078780177890724"
      ]
     },
     "execution_count": 72,
     "metadata": {},
     "output_type": "execute_result"
    }
   ],
   "source": [
    "X.result_home_win.mean()"
   ]
  },
  {
   "cell_type": "code",
   "execution_count": 73,
   "id": "74dbfc07",
   "metadata": {},
   "outputs": [
    {
     "data": {
      "text/plain": [
       "0.23761118170266837"
      ]
     },
     "execution_count": 73,
     "metadata": {},
     "output_type": "execute_result"
    }
   ],
   "source": [
    "X.result_draw.mean()"
   ]
  },
  {
   "cell_type": "code",
   "execution_count": 74,
   "id": "cb2ee684",
   "metadata": {},
   "outputs": [
    {
     "data": {
      "text/plain": [
       "0.3545108005082592"
      ]
     },
     "execution_count": 74,
     "metadata": {},
     "output_type": "execute_result"
    }
   ],
   "source": [
    "X.result_away_win.mean()"
   ]
  },
  {
   "cell_type": "markdown",
   "id": "5081bf81",
   "metadata": {},
   "source": [
    "Play on games when probability * odds > 1"
   ]
  },
  {
   "cell_type": "code",
   "execution_count": null,
   "id": "1e073538",
   "metadata": {},
   "outputs": [],
   "source": []
  }
 ],
 "metadata": {
  "kernelspec": {
   "display_name": "Python 3.10.7 64-bit (microsoft store)",
   "language": "python",
   "name": "python3"
  },
  "language_info": {
   "codemirror_mode": {
    "name": "ipython",
    "version": 3
   },
   "file_extension": ".py",
   "mimetype": "text/x-python",
   "name": "python",
   "nbconvert_exporter": "python",
   "pygments_lexer": "ipython3",
   "version": "3.10.7"
  },
  "vscode": {
   "interpreter": {
    "hash": "f112950c38ad72dbb2e27d92ba4d8863a5d2f923498579fa7794dd5d536ea2ce"
   }
  }
 },
 "nbformat": 4,
 "nbformat_minor": 5
}
