{
 "cells": [
  {
   "cell_type": "markdown",
   "id": "4804eee0",
   "metadata": {},
   "source": [
    "## Import packages and set working directory"
   ]
  },
  {
   "cell_type": "code",
   "execution_count": 1,
   "id": "86d39010",
   "metadata": {},
   "outputs": [],
   "source": [
    "import os\n",
    "import pandas as pd\n",
    "import numpy as np"
   ]
  },
  {
   "cell_type": "code",
   "execution_count": 2,
   "id": "9ad196cb",
   "metadata": {},
   "outputs": [
    {
     "data": {
      "text/plain": [
       "'C:\\\\Users\\\\mbe158'"
      ]
     },
     "execution_count": 2,
     "metadata": {},
     "output_type": "execute_result"
    }
   ],
   "source": [
    "# Get the current working directory\n",
    "os.getcwd()"
   ]
  },
  {
   "cell_type": "code",
   "execution_count": 3,
   "id": "9ae100dc",
   "metadata": {},
   "outputs": [
    {
     "name": "stdout",
     "output_type": "stream",
     "text": [
      "Current working directory: C:\\Users\\mbe158\\Marcus tutorial\\FPL\n"
     ]
    }
   ],
   "source": [
    "# Change the current working directory\n",
    "os.chdir('C:\\\\Users\\\\mbe158\\\\Marcus tutorial\\\\FPL')\n",
    "\n",
    "# Print the current working directory\n",
    "print(\"Current working directory: {0}\".format(os.getcwd()))"
   ]
  },
  {
   "cell_type": "markdown",
   "id": "b9f5dfb9",
   "metadata": {},
   "source": [
    "## Importing and checking data"
   ]
  },
  {
   "cell_type": "code",
   "execution_count": 4,
   "id": "6aec8862",
   "metadata": {},
   "outputs": [],
   "source": [
    "df = pd.read_csv(\"train_score.csv\", sep = \";\", decimal=\",\")"
   ]
  },
  {
   "cell_type": "code",
   "execution_count": 5,
   "id": "9db72f77",
   "metadata": {},
   "outputs": [],
   "source": [
    "#pd.set_option('display.max_rows', None)\n",
    "pd.set_option('display.max_rows', 10)"
   ]
  },
  {
   "cell_type": "markdown",
   "id": "6c1eace6",
   "metadata": {},
   "source": [
    "Checking columns data types"
   ]
  },
  {
   "cell_type": "code",
   "execution_count": 6,
   "id": "20f89f80",
   "metadata": {},
   "outputs": [
    {
     "data": {
      "text/plain": [
       "Unnamed: 0                                 int64\n",
       "id                                         int64\n",
       "team_h                                     int64\n",
       "team_a                                     int64\n",
       "result                                    object\n",
       "                                           ...  \n",
       "best_assists_m_player_playing_player_a     int64\n",
       "best_assists_f_player_playing_player_a     int64\n",
       "team_name_home                            object\n",
       "team_name_away                            object\n",
       "season                                    object\n",
       "Length: 103, dtype: object"
      ]
     },
     "execution_count": 6,
     "metadata": {},
     "output_type": "execute_result"
    }
   ],
   "source": [
    "df.dtypes #.to_dict()"
   ]
  },
  {
   "cell_type": "markdown",
   "id": "3294f0ea",
   "metadata": {},
   "source": [
    "Checking number of NA is each column"
   ]
  },
  {
   "cell_type": "code",
   "execution_count": 7,
   "id": "0651b5e2",
   "metadata": {},
   "outputs": [
    {
     "name": "stdout",
     "output_type": "stream",
     "text": [
      "Unnamed: 0                                0\n",
      "id                                        0\n",
      "team_h                                    0\n",
      "team_a                                    0\n",
      "result                                    9\n",
      "                                         ..\n",
      "best_assists_m_player_playing_player_a    0\n",
      "best_assists_f_player_playing_player_a    0\n",
      "team_name_home                            0\n",
      "team_name_away                            0\n",
      "season                                    0\n",
      "Length: 103, dtype: int64\n"
     ]
    }
   ],
   "source": [
    "print(df.isnull().sum())"
   ]
  },
  {
   "cell_type": "markdown",
   "id": "f25794d0",
   "metadata": {},
   "source": [
    "Following features has NA:\n",
    "- win_rate_h_team_h\n",
    "- win_rate_h_last_5_team_h\n",
    "- draw_rate_h_team_h\n",
    "- draw_rate_h_last_5_team_h\n",
    "- loss_rate_h_team_h\n",
    "- loss_rate_h_last_5_team_h\n",
    "- avg_scored_goals_h_team_h\n",
    "- avg_scored_goals_h_last_5_team_h\n",
    "- avg_conceded_goals_h_team_h\n",
    "- avg_conceded_goals_h_last_5_team_h\n",
    "- win_rate_a_team_a\n",
    "- win_rate_a_last_5_team_a\n",
    "- draw_rate_a_team_a\n",
    "- draw_rate_a_last_5_team_a\n",
    "- loss_rate_a_team_a\n",
    "- loss_rate_a_last_5_team_a\n",
    "- avg_scored_goals_a_team_a\n",
    "- avg_scored_goals_a_last_5_team_a\n",
    "- avg_conceded_goals_a_team_a\n",
    "- avg_conceded_goals_a_last_5_team_a\n"
   ]
  },
  {
   "cell_type": "code",
   "execution_count": 8,
   "id": "e83a00ef",
   "metadata": {},
   "outputs": [],
   "source": [
    "pd.set_option('display.max_rows', 10)"
   ]
  },
  {
   "cell_type": "code",
   "execution_count": 9,
   "id": "20494339",
   "metadata": {},
   "outputs": [],
   "source": [
    "# pd.set_option('display.max_columns', 101)"
   ]
  },
  {
   "cell_type": "markdown",
   "id": "b197d0a2",
   "metadata": {},
   "source": [
    "## Fixing targets and creating train- and score-datasets"
   ]
  },
  {
   "cell_type": "code",
   "execution_count": 10,
   "id": "5f3689ed",
   "metadata": {},
   "outputs": [],
   "source": [
    "X = df.loc[df.result.notna()].copy()\n",
    "score = df.loc[df.result.isna()].copy()"
   ]
  },
  {
   "cell_type": "code",
   "execution_count": 11,
   "id": "fee37322",
   "metadata": {},
   "outputs": [],
   "source": [
    "X[\"result_home_win\"] = np.where(X.result == \"1\", 1, 0)\n",
    "X[\"result_draw\"] = np.where(X.result == \"X\", 1, 0)\n",
    "X[\"result_away_win\"] = np.where(X.result == \"2\", 1, 0)"
   ]
  },
  {
   "cell_type": "markdown",
   "id": "c7f063e3",
   "metadata": {},
   "source": [
    "## ML"
   ]
  },
  {
   "cell_type": "code",
   "execution_count": 12,
   "id": "6de5a86e",
   "metadata": {},
   "outputs": [],
   "source": [
    "# Data manipulation\n",
    "import numpy as np\n",
    "import pandas as pd\n",
    "# pd.options.display.precision = 4\n",
    "# pd.options.mode.chained_assignment = None  \n",
    "\n",
    "# Machine learning pipeline\n",
    "from sklearn.model_selection import train_test_split\n",
    "from sklearn.base import BaseEstimator, TransformerMixin\n",
    "from sklearn.impute import SimpleImputer\n",
    "from sklearn.preprocessing import OneHotEncoder, MinMaxScaler\n",
    "from sklearn.compose import ColumnTransformer\n",
    "from sklearn.pipeline import Pipeline\n",
    "from sklearn.linear_model import LogisticRegression\n",
    "from sklearn.ensemble import GradientBoostingClassifier, RandomForestClassifier\n",
    "from sklearn.tree import DecisionTreeClassifier\n",
    "from sklearn.metrics import roc_auc_score\n",
    "from sklearn import set_config\n",
    "from sklearn.model_selection import KFold, cross_val_score\n",
    "\n",
    "set_config(display = \"diagram\")\n",
    "\n",
    "seed = 134680"
   ]
  },
  {
   "cell_type": "code",
   "execution_count": 13,
   "id": "8cef2420",
   "metadata": {},
   "outputs": [],
   "source": [
    "features = X.columns.drop(['team_h', 'team_a', 'result', 'match_day', 'result_draw', 'result_away_win', 'result_home_win', 'team_name_home', 'team_name_away'])"
   ]
  },
  {
   "cell_type": "code",
   "execution_count": 14,
   "id": "f4107030",
   "metadata": {},
   "outputs": [
    {
     "name": "stdout",
     "output_type": "stream",
     "text": [
      "Numerical features: Unnamed: 0, id, scored_goals_team_h, conceded_goals_team_h, win_team_h, draw_team_h, loss_team_h, win_rate_team_h, win_rate_last_5_team_h, win_rate_h_team_h, win_rate_h_last_5_team_h, draw_rate_team_h, draw_rate_last_5_team_h, draw_rate_h_team_h, draw_rate_h_last_5_team_h, loss_rate_team_h, loss_rate_last_5_team_h, loss_rate_h_team_h, loss_rate_h_last_5_team_h, avg_scored_goals_team_h, avg_scored_goals_last_5_team_h, avg_scored_goals_h_team_h, avg_scored_goals_h_last_5_team_h, avg_conceded_goals_team_h, avg_conceded_goals_last_5_team_h, avg_conceded_goals_h_team_h, avg_conceded_goals_h_last_5_team_h, scored_goals_team_a, conceded_goals_team_a, win_team_a, draw_team_a, loss_team_a, win_rate_team_a, win_rate_last_5_team_a, win_rate_a_team_a, win_rate_a_last_5_team_a, draw_rate_team_a, draw_rate_last_5_team_a, draw_rate_a_team_a, draw_rate_a_last_5_team_a, loss_rate_team_a, loss_rate_last_5_team_a, loss_rate_a_team_a, loss_rate_a_last_5_team_a, avg_scored_goals_team_a, avg_scored_goals_last_5_team_a, avg_scored_goals_a_team_a, avg_scored_goals_a_last_5_team_a, avg_conceded_goals_team_a, avg_conceded_goals_last_5_team_a, avg_conceded_goals_a_team_a, avg_conceded_goals_a_last_5_team_a, max_value_player_h, max_value_position_g_player_h, max_value_position_d_player_h, max_value_position_m_player_h, max_value_position_f_player_h, avg_goals_per_hour_5_player_h, avg_goals_per_hour_10_player_h, avg_assists_per_hour_5_player_h, avg_assists_per_hour_10_player_h, avg_goals_conceded_per_hour_5_player_h, avg_goals_conceded_per_hour_10_player_h, most_valuable_player_playing_player_h, most_valuable_g_player_playing_player_h, most_valuable_f_player_playing_player_h, most_valuable_m_player_playing_player_h, best_goal_scorer_playing_player_h, best_m_goal_scorer_playing_player_h, best_f_goal_scorer_playing_player_h, best_assists_player_playing_player_h, best_assists_d_player_playing_player_h, best_assists_m_player_playing_player_h, best_assists_f_player_playing_player_h, max_value_player_a, max_value_position_g_player_a, max_value_position_d_player_a, max_value_position_m_player_a, max_value_position_f_player_a, avg_goals_per_hour_5_player_a, avg_goals_per_hour_10_player_a, avg_assists_per_hour_5_player_a, avg_assists_per_hour_10_player_a, avg_goals_conceded_per_hour_5_player_a, avg_goals_conceded_per_hour_10_player_a, most_valuable_player_playing_player_a, most_valuable_g_player_playing_player_a, most_valuable_f_player_playing_player_a, most_valuable_m_player_playing_player_a, best_goal_scorer_playing_player_a, best_m_goal_scorer_playing_player_a, best_f_goal_scorer_playing_player_a, best_assists_player_playing_player_a, best_assists_d_player_playing_player_a, best_assists_m_player_playing_player_a, best_assists_f_player_playing_player_a\n"
     ]
    }
   ],
   "source": [
    "numerical = X[features].select_dtypes('number').columns\n",
    "print(f\"Numerical features: {', '.join(numerical)}\")"
   ]
  },
  {
   "cell_type": "code",
   "execution_count": 15,
   "id": "954e3342",
   "metadata": {},
   "outputs": [
    {
     "name": "stdout",
     "output_type": "stream",
     "text": [
      "Categorical features: season\n"
     ]
    }
   ],
   "source": [
    "categorical = pd.Index(np.setdiff1d(features, numerical))\n",
    "print(f\"Categorical features: {', '.join(categorical)}\")"
   ]
  },
  {
   "cell_type": "code",
   "execution_count": 16,
   "id": "035819c4",
   "metadata": {},
   "outputs": [],
   "source": [
    "numerical_pipe = Pipeline([\n",
    "    ('imputer', SimpleImputer(strategy = 'mean')),\n",
    "    ('scaler', MinMaxScaler())\n",
    "])\n",
    "\n",
    "categorical_pipe = Pipeline([\n",
    "    ('imputer', SimpleImputer(strategy = 'constant', fill_value = 'missing')),\n",
    "    ('encoder', OneHotEncoder(drop = 'first', handle_unknown = 'error', sparse = False))\n",
    "])\n",
    "\n",
    "preprocessors = ColumnTransformer(transformers = [\n",
    "    ('num', numerical_pipe, numerical),\n",
    "    ('cat', categorical_pipe, categorical)\n",
    "])\n",
    "\n",
    "pipe_to_cv = Pipeline([\n",
    "    ('preprocessors', preprocessors)\n",
    "])"
   ]
  },
  {
   "cell_type": "markdown",
   "id": "affb8a50",
   "metadata": {},
   "source": [
    "### Predicting home-win"
   ]
  },
  {
   "cell_type": "code",
   "execution_count": 17,
   "id": "5cbf8348",
   "metadata": {},
   "outputs": [],
   "source": [
    "target = 'result_home_win'"
   ]
  },
  {
   "cell_type": "markdown",
   "id": "8d19d5c1",
   "metadata": {},
   "source": [
    "#### CV"
   ]
  },
  {
   "cell_type": "code",
   "execution_count": 18,
   "id": "0700ed03",
   "metadata": {},
   "outputs": [],
   "source": [
    "fit_to_csv = pipe_to_cv.fit(X[features])"
   ]
  },
  {
   "cell_type": "code",
   "execution_count": 19,
   "id": "5fdac7ec",
   "metadata": {},
   "outputs": [],
   "source": [
    "X_to_csv = pipe_to_cv.transform(X[features])"
   ]
  },
  {
   "cell_type": "code",
   "execution_count": 20,
   "id": "5ff695f7",
   "metadata": {},
   "outputs": [],
   "source": [
    "from sklearn.model_selection import GridSearchCV\n",
    "\n",
    "# Create the parameter grid based on the results of random search \n",
    "param_grid = {\n",
    "    'bootstrap': [True],\n",
    "    'max_depth': [20, 40, 60],\n",
    "    'max_features': [2, 3, 5, 10, 20],\n",
    "    'min_samples_leaf': [3, 4, 5, 10, 20],\n",
    "    'n_estimators': [10, 50, 100]\n",
    "}\n",
    "\n",
    "# Create a based model\n",
    "rf = RandomForestClassifier()\n",
    "\n",
    "# Instantiate the grid search model\n",
    "grid_search = GridSearchCV(estimator = rf, param_grid = param_grid, \n",
    "                          cv = 3, n_jobs = -1, verbose = 2)"
   ]
  },
  {
   "cell_type": "code",
   "execution_count": 21,
   "id": "1bf58656",
   "metadata": {},
   "outputs": [
    {
     "name": "stdout",
     "output_type": "stream",
     "text": [
      "Fitting 3 folds for each of 225 candidates, totalling 675 fits\n"
     ]
    },
    {
     "data": {
      "text/html": [
       "<style>#sk-a42e0e2c-ed66-45cb-aab7-165d39520adf {color: black;background-color: white;}#sk-a42e0e2c-ed66-45cb-aab7-165d39520adf pre{padding: 0;}#sk-a42e0e2c-ed66-45cb-aab7-165d39520adf div.sk-toggleable {background-color: white;}#sk-a42e0e2c-ed66-45cb-aab7-165d39520adf label.sk-toggleable__label {cursor: pointer;display: block;width: 100%;margin-bottom: 0;padding: 0.2em 0.3em;box-sizing: border-box;text-align: center;}#sk-a42e0e2c-ed66-45cb-aab7-165d39520adf div.sk-toggleable__content {max-height: 0;max-width: 0;overflow: hidden;text-align: left;background-color: #f0f8ff;}#sk-a42e0e2c-ed66-45cb-aab7-165d39520adf div.sk-toggleable__content pre {margin: 0.2em;color: black;border-radius: 0.25em;background-color: #f0f8ff;}#sk-a42e0e2c-ed66-45cb-aab7-165d39520adf input.sk-toggleable__control:checked~div.sk-toggleable__content {max-height: 200px;max-width: 100%;overflow: auto;}#sk-a42e0e2c-ed66-45cb-aab7-165d39520adf div.sk-estimator input.sk-toggleable__control:checked~label.sk-toggleable__label {background-color: #d4ebff;}#sk-a42e0e2c-ed66-45cb-aab7-165d39520adf div.sk-label input.sk-toggleable__control:checked~label.sk-toggleable__label {background-color: #d4ebff;}#sk-a42e0e2c-ed66-45cb-aab7-165d39520adf input.sk-hidden--visually {border: 0;clip: rect(1px 1px 1px 1px);clip: rect(1px, 1px, 1px, 1px);height: 1px;margin: -1px;overflow: hidden;padding: 0;position: absolute;width: 1px;}#sk-a42e0e2c-ed66-45cb-aab7-165d39520adf div.sk-estimator {font-family: monospace;background-color: #f0f8ff;margin: 0.25em 0.25em;border: 1px dotted black;border-radius: 0.25em;box-sizing: border-box;}#sk-a42e0e2c-ed66-45cb-aab7-165d39520adf div.sk-estimator:hover {background-color: #d4ebff;}#sk-a42e0e2c-ed66-45cb-aab7-165d39520adf div.sk-parallel-item::after {content: \"\";width: 100%;border-bottom: 1px solid gray;flex-grow: 1;}#sk-a42e0e2c-ed66-45cb-aab7-165d39520adf div.sk-label:hover label.sk-toggleable__label {background-color: #d4ebff;}#sk-a42e0e2c-ed66-45cb-aab7-165d39520adf div.sk-serial::before {content: \"\";position: absolute;border-left: 1px solid gray;box-sizing: border-box;top: 2em;bottom: 0;left: 50%;}#sk-a42e0e2c-ed66-45cb-aab7-165d39520adf div.sk-serial {display: flex;flex-direction: column;align-items: center;background-color: white;}#sk-a42e0e2c-ed66-45cb-aab7-165d39520adf div.sk-item {z-index: 1;}#sk-a42e0e2c-ed66-45cb-aab7-165d39520adf div.sk-parallel {display: flex;align-items: stretch;justify-content: center;background-color: white;}#sk-a42e0e2c-ed66-45cb-aab7-165d39520adf div.sk-parallel-item {display: flex;flex-direction: column;position: relative;background-color: white;}#sk-a42e0e2c-ed66-45cb-aab7-165d39520adf div.sk-parallel-item:first-child::after {align-self: flex-end;width: 50%;}#sk-a42e0e2c-ed66-45cb-aab7-165d39520adf div.sk-parallel-item:last-child::after {align-self: flex-start;width: 50%;}#sk-a42e0e2c-ed66-45cb-aab7-165d39520adf div.sk-parallel-item:only-child::after {width: 0;}#sk-a42e0e2c-ed66-45cb-aab7-165d39520adf div.sk-dashed-wrapped {border: 1px dashed gray;margin: 0.2em;box-sizing: border-box;padding-bottom: 0.1em;background-color: white;position: relative;}#sk-a42e0e2c-ed66-45cb-aab7-165d39520adf div.sk-label label {font-family: monospace;font-weight: bold;background-color: white;display: inline-block;line-height: 1.2em;}#sk-a42e0e2c-ed66-45cb-aab7-165d39520adf div.sk-label-container {position: relative;z-index: 2;text-align: center;}#sk-a42e0e2c-ed66-45cb-aab7-165d39520adf div.sk-container {display: inline-block;position: relative;}</style><div id=\"sk-a42e0e2c-ed66-45cb-aab7-165d39520adf\" class\"sk-top-container\"><div class=\"sk-container\"><div class=\"sk-item sk-dashed-wrapped\"><div class=\"sk-label-container\"><div class=\"sk-label sk-toggleable\"><input class=\"sk-toggleable__control sk-hidden--visually\" id=\"daffb5e8-d676-4c79-9bd0-167837803419\" type=\"checkbox\" ><label class=\"sk-toggleable__label\" for=\"daffb5e8-d676-4c79-9bd0-167837803419\">GridSearchCV</label><div class=\"sk-toggleable__content\"><pre>GridSearchCV(cv=3, estimator=RandomForestClassifier(), n_jobs=-1,\n",
       "             param_grid={'bootstrap': [True], 'max_depth': [20, 40, 60],\n",
       "                         'max_features': [2, 3, 5, 10, 20],\n",
       "                         'min_samples_leaf': [3, 4, 5, 10, 20],\n",
       "                         'n_estimators': [10, 50, 100]},\n",
       "             verbose=2)</pre></div></div></div><div class=\"sk-parallel\"><div class=\"sk-parallel-item\"><div class=\"sk-item\"><div class=\"sk-serial\"><div class=\"sk-item\"><div class=\"sk-estimator sk-toggleable\"><input class=\"sk-toggleable__control sk-hidden--visually\" id=\"caf1c594-9318-4e10-a772-782c7147b920\" type=\"checkbox\" ><label class=\"sk-toggleable__label\" for=\"caf1c594-9318-4e10-a772-782c7147b920\">RandomForestClassifier</label><div class=\"sk-toggleable__content\"><pre>RandomForestClassifier()</pre></div></div></div></div></div></div></div></div></div></div>"
      ],
      "text/plain": [
       "GridSearchCV(cv=3, estimator=RandomForestClassifier(), n_jobs=-1,\n",
       "             param_grid={'bootstrap': [True], 'max_depth': [20, 40, 60],\n",
       "                         'max_features': [2, 3, 5, 10, 20],\n",
       "                         'min_samples_leaf': [3, 4, 5, 10, 20],\n",
       "                         'n_estimators': [10, 50, 100]},\n",
       "             verbose=2)"
      ]
     },
     "execution_count": 21,
     "metadata": {},
     "output_type": "execute_result"
    }
   ],
   "source": [
    "grid_search.fit(X_to_csv, X[target])"
   ]
  },
  {
   "cell_type": "code",
   "execution_count": 22,
   "id": "45d14114",
   "metadata": {},
   "outputs": [
    {
     "data": {
      "text/plain": [
       "{'bootstrap': True,\n",
       " 'max_depth': 40,\n",
       " 'max_features': 10,\n",
       " 'min_samples_leaf': 10,\n",
       " 'n_estimators': 100}"
      ]
     },
     "execution_count": 22,
     "metadata": {},
     "output_type": "execute_result"
    }
   ],
   "source": [
    "grid_search.best_params_"
   ]
  },
  {
   "cell_type": "markdown",
   "id": "f80e53a2",
   "metadata": {},
   "source": [
    "#### Final model"
   ]
  },
  {
   "cell_type": "code",
   "execution_count": 23,
   "id": "76594671",
   "metadata": {},
   "outputs": [],
   "source": [
    "pipe_rf = Pipeline([\n",
    "    ('preprocessors', preprocessors),\n",
    "    #('model', RandomForestClassifier(bootstrap = True, max_depth = 40, max_features = 5, min_samples_leaf = 5, n_estimators = 100))\n",
    "    ('model', RandomForestClassifier(**grid_search.best_params_))\n",
    "])"
   ]
  },
  {
   "cell_type": "code",
   "execution_count": 24,
   "id": "2052b44b",
   "metadata": {},
   "outputs": [],
   "source": [
    "X_train, X_test, y_train, y_test = train_test_split(X[features], \n",
    "                                                    X[target], \n",
    "                                                    test_size = .2, \n",
    "                                                    random_state = seed, \n",
    "                                                    stratify = X[target])"
   ]
  },
  {
   "cell_type": "code",
   "execution_count": 25,
   "id": "a0c1c018",
   "metadata": {},
   "outputs": [
    {
     "data": {
      "text/html": [
       "<style>#sk-b9dba6d8-d2be-4597-8d34-9ca70d4f90f5 {color: black;background-color: white;}#sk-b9dba6d8-d2be-4597-8d34-9ca70d4f90f5 pre{padding: 0;}#sk-b9dba6d8-d2be-4597-8d34-9ca70d4f90f5 div.sk-toggleable {background-color: white;}#sk-b9dba6d8-d2be-4597-8d34-9ca70d4f90f5 label.sk-toggleable__label {cursor: pointer;display: block;width: 100%;margin-bottom: 0;padding: 0.2em 0.3em;box-sizing: border-box;text-align: center;}#sk-b9dba6d8-d2be-4597-8d34-9ca70d4f90f5 div.sk-toggleable__content {max-height: 0;max-width: 0;overflow: hidden;text-align: left;background-color: #f0f8ff;}#sk-b9dba6d8-d2be-4597-8d34-9ca70d4f90f5 div.sk-toggleable__content pre {margin: 0.2em;color: black;border-radius: 0.25em;background-color: #f0f8ff;}#sk-b9dba6d8-d2be-4597-8d34-9ca70d4f90f5 input.sk-toggleable__control:checked~div.sk-toggleable__content {max-height: 200px;max-width: 100%;overflow: auto;}#sk-b9dba6d8-d2be-4597-8d34-9ca70d4f90f5 div.sk-estimator input.sk-toggleable__control:checked~label.sk-toggleable__label {background-color: #d4ebff;}#sk-b9dba6d8-d2be-4597-8d34-9ca70d4f90f5 div.sk-label input.sk-toggleable__control:checked~label.sk-toggleable__label {background-color: #d4ebff;}#sk-b9dba6d8-d2be-4597-8d34-9ca70d4f90f5 input.sk-hidden--visually {border: 0;clip: rect(1px 1px 1px 1px);clip: rect(1px, 1px, 1px, 1px);height: 1px;margin: -1px;overflow: hidden;padding: 0;position: absolute;width: 1px;}#sk-b9dba6d8-d2be-4597-8d34-9ca70d4f90f5 div.sk-estimator {font-family: monospace;background-color: #f0f8ff;margin: 0.25em 0.25em;border: 1px dotted black;border-radius: 0.25em;box-sizing: border-box;}#sk-b9dba6d8-d2be-4597-8d34-9ca70d4f90f5 div.sk-estimator:hover {background-color: #d4ebff;}#sk-b9dba6d8-d2be-4597-8d34-9ca70d4f90f5 div.sk-parallel-item::after {content: \"\";width: 100%;border-bottom: 1px solid gray;flex-grow: 1;}#sk-b9dba6d8-d2be-4597-8d34-9ca70d4f90f5 div.sk-label:hover label.sk-toggleable__label {background-color: #d4ebff;}#sk-b9dba6d8-d2be-4597-8d34-9ca70d4f90f5 div.sk-serial::before {content: \"\";position: absolute;border-left: 1px solid gray;box-sizing: border-box;top: 2em;bottom: 0;left: 50%;}#sk-b9dba6d8-d2be-4597-8d34-9ca70d4f90f5 div.sk-serial {display: flex;flex-direction: column;align-items: center;background-color: white;}#sk-b9dba6d8-d2be-4597-8d34-9ca70d4f90f5 div.sk-item {z-index: 1;}#sk-b9dba6d8-d2be-4597-8d34-9ca70d4f90f5 div.sk-parallel {display: flex;align-items: stretch;justify-content: center;background-color: white;}#sk-b9dba6d8-d2be-4597-8d34-9ca70d4f90f5 div.sk-parallel-item {display: flex;flex-direction: column;position: relative;background-color: white;}#sk-b9dba6d8-d2be-4597-8d34-9ca70d4f90f5 div.sk-parallel-item:first-child::after {align-self: flex-end;width: 50%;}#sk-b9dba6d8-d2be-4597-8d34-9ca70d4f90f5 div.sk-parallel-item:last-child::after {align-self: flex-start;width: 50%;}#sk-b9dba6d8-d2be-4597-8d34-9ca70d4f90f5 div.sk-parallel-item:only-child::after {width: 0;}#sk-b9dba6d8-d2be-4597-8d34-9ca70d4f90f5 div.sk-dashed-wrapped {border: 1px dashed gray;margin: 0.2em;box-sizing: border-box;padding-bottom: 0.1em;background-color: white;position: relative;}#sk-b9dba6d8-d2be-4597-8d34-9ca70d4f90f5 div.sk-label label {font-family: monospace;font-weight: bold;background-color: white;display: inline-block;line-height: 1.2em;}#sk-b9dba6d8-d2be-4597-8d34-9ca70d4f90f5 div.sk-label-container {position: relative;z-index: 2;text-align: center;}#sk-b9dba6d8-d2be-4597-8d34-9ca70d4f90f5 div.sk-container {display: inline-block;position: relative;}</style><div id=\"sk-b9dba6d8-d2be-4597-8d34-9ca70d4f90f5\" class\"sk-top-container\"><div class=\"sk-container\"><div class=\"sk-item sk-dashed-wrapped\"><div class=\"sk-label-container\"><div class=\"sk-label sk-toggleable\"><input class=\"sk-toggleable__control sk-hidden--visually\" id=\"c79d3a4c-27cf-47b3-bc45-74270d4d4e8d\" type=\"checkbox\" ><label class=\"sk-toggleable__label\" for=\"c79d3a4c-27cf-47b3-bc45-74270d4d4e8d\">Pipeline</label><div class=\"sk-toggleable__content\"><pre>Pipeline(steps=[('preprocessors',\n",
       "                 ColumnTransformer(transformers=[('num',\n",
       "                                                  Pipeline(steps=[('imputer',\n",
       "                                                                   SimpleImputer()),\n",
       "                                                                  ('scaler',\n",
       "                                                                   MinMaxScaler())]),\n",
       "                                                  Index(['Unnamed: 0', 'id', 'scored_goals_team_h', 'conceded_goals_team_h',\n",
       "       'win_team_h', 'draw_team_h', 'loss_team_h', 'win_rate_team_h',\n",
       "       'win_rate_last_5_team_h', 'win_rate_h_team_h',\n",
       "       'win_rate_h_last_5_team_h', 'draw...\n",
       "       'best_assists_m_player_playing_player_a',\n",
       "       'best_assists_f_player_playing_player_a'],\n",
       "      dtype='object')),\n",
       "                                                 ('cat',\n",
       "                                                  Pipeline(steps=[('imputer',\n",
       "                                                                   SimpleImputer(fill_value='missing',\n",
       "                                                                                 strategy='constant')),\n",
       "                                                                  ('encoder',\n",
       "                                                                   OneHotEncoder(drop='first',\n",
       "                                                                                 sparse=False))]),\n",
       "                                                  Index(['season'], dtype='object'))])),\n",
       "                ('model',\n",
       "                 RandomForestClassifier(max_depth=40, max_features=10,\n",
       "                                        min_samples_leaf=10))])</pre></div></div></div><div class=\"sk-serial\"><div class=\"sk-item sk-dashed-wrapped\"><div class=\"sk-label-container\"><div class=\"sk-label sk-toggleable\"><input class=\"sk-toggleable__control sk-hidden--visually\" id=\"ccde4bbe-dbae-4616-85b2-f57c039285be\" type=\"checkbox\" ><label class=\"sk-toggleable__label\" for=\"ccde4bbe-dbae-4616-85b2-f57c039285be\">preprocessors: ColumnTransformer</label><div class=\"sk-toggleable__content\"><pre>ColumnTransformer(transformers=[('num',\n",
       "                                 Pipeline(steps=[('imputer', SimpleImputer()),\n",
       "                                                 ('scaler', MinMaxScaler())]),\n",
       "                                 Index(['Unnamed: 0', 'id', 'scored_goals_team_h', 'conceded_goals_team_h',\n",
       "       'win_team_h', 'draw_team_h', 'loss_team_h', 'win_rate_team_h',\n",
       "       'win_rate_last_5_team_h', 'win_rate_h_team_h',\n",
       "       'win_rate_h_last_5_team_h', 'draw_rate_team_h',\n",
       "       'draw_rate_last_5_t...\n",
       "       'best_assists_player_playing_player_a',\n",
       "       'best_assists_d_player_playing_player_a',\n",
       "       'best_assists_m_player_playing_player_a',\n",
       "       'best_assists_f_player_playing_player_a'],\n",
       "      dtype='object')),\n",
       "                                ('cat',\n",
       "                                 Pipeline(steps=[('imputer',\n",
       "                                                  SimpleImputer(fill_value='missing',\n",
       "                                                                strategy='constant')),\n",
       "                                                 ('encoder',\n",
       "                                                  OneHotEncoder(drop='first',\n",
       "                                                                sparse=False))]),\n",
       "                                 Index(['season'], dtype='object'))])</pre></div></div></div><div class=\"sk-parallel\"><div class=\"sk-parallel-item\"><div class=\"sk-item\"><div class=\"sk-label-container\"><div class=\"sk-label sk-toggleable\"><input class=\"sk-toggleable__control sk-hidden--visually\" id=\"4794518c-d588-411f-9375-6c8730bd2019\" type=\"checkbox\" ><label class=\"sk-toggleable__label\" for=\"4794518c-d588-411f-9375-6c8730bd2019\">num</label><div class=\"sk-toggleable__content\"><pre>Index(['Unnamed: 0', 'id', 'scored_goals_team_h', 'conceded_goals_team_h',\n",
       "       'win_team_h', 'draw_team_h', 'loss_team_h', 'win_rate_team_h',\n",
       "       'win_rate_last_5_team_h', 'win_rate_h_team_h',\n",
       "       'win_rate_h_last_5_team_h', 'draw_rate_team_h',\n",
       "       'draw_rate_last_5_team_h', 'draw_rate_h_team_h',\n",
       "       'draw_rate_h_last_5_team_h', 'loss_rate_team_h',\n",
       "       'loss_rate_last_5_team_h', 'loss_rate_h_team_h',\n",
       "       'loss_rate_h_last_5_team_h', 'avg_scored_goals_team_h',\n",
       "       'avg_scored_goals_last_5_team_h', 'avg_scored_goals_h_team_h',\n",
       "       'avg_scored_goals_h_last_5_team_h', 'avg_conceded_goals_team_h',\n",
       "       'avg_conceded_goals_last_5_team_h', 'avg_conceded_goals_h_team_h',\n",
       "       'avg_conceded_goals_h_last_5_team_h', 'scored_goals_team_a',\n",
       "       'conceded_goals_team_a', 'win_team_a', 'draw_team_a', 'loss_team_a',\n",
       "       'win_rate_team_a', 'win_rate_last_5_team_a', 'win_rate_a_team_a',\n",
       "       'win_rate_a_last_5_team_a', 'draw_rate_team_a',\n",
       "       'draw_rate_last_5_team_a', 'draw_rate_a_team_a',\n",
       "       'draw_rate_a_last_5_team_a', 'loss_rate_team_a',\n",
       "       'loss_rate_last_5_team_a', 'loss_rate_a_team_a',\n",
       "       'loss_rate_a_last_5_team_a', 'avg_scored_goals_team_a',\n",
       "       'avg_scored_goals_last_5_team_a', 'avg_scored_goals_a_team_a',\n",
       "       'avg_scored_goals_a_last_5_team_a', 'avg_conceded_goals_team_a',\n",
       "       'avg_conceded_goals_last_5_team_a', 'avg_conceded_goals_a_team_a',\n",
       "       'avg_conceded_goals_a_last_5_team_a', 'max_value_player_h',\n",
       "       'max_value_position_g_player_h', 'max_value_position_d_player_h',\n",
       "       'max_value_position_m_player_h', 'max_value_position_f_player_h',\n",
       "       'avg_goals_per_hour_5_player_h', 'avg_goals_per_hour_10_player_h',\n",
       "       'avg_assists_per_hour_5_player_h', 'avg_assists_per_hour_10_player_h',\n",
       "       'avg_goals_conceded_per_hour_5_player_h',\n",
       "       'avg_goals_conceded_per_hour_10_player_h',\n",
       "       'most_valuable_player_playing_player_h',\n",
       "       'most_valuable_g_player_playing_player_h',\n",
       "       'most_valuable_f_player_playing_player_h',\n",
       "       'most_valuable_m_player_playing_player_h',\n",
       "       'best_goal_scorer_playing_player_h',\n",
       "       'best_m_goal_scorer_playing_player_h',\n",
       "       'best_f_goal_scorer_playing_player_h',\n",
       "       'best_assists_player_playing_player_h',\n",
       "       'best_assists_d_player_playing_player_h',\n",
       "       'best_assists_m_player_playing_player_h',\n",
       "       'best_assists_f_player_playing_player_h', 'max_value_player_a',\n",
       "       'max_value_position_g_player_a', 'max_value_position_d_player_a',\n",
       "       'max_value_position_m_player_a', 'max_value_position_f_player_a',\n",
       "       'avg_goals_per_hour_5_player_a', 'avg_goals_per_hour_10_player_a',\n",
       "       'avg_assists_per_hour_5_player_a', 'avg_assists_per_hour_10_player_a',\n",
       "       'avg_goals_conceded_per_hour_5_player_a',\n",
       "       'avg_goals_conceded_per_hour_10_player_a',\n",
       "       'most_valuable_player_playing_player_a',\n",
       "       'most_valuable_g_player_playing_player_a',\n",
       "       'most_valuable_f_player_playing_player_a',\n",
       "       'most_valuable_m_player_playing_player_a',\n",
       "       'best_goal_scorer_playing_player_a',\n",
       "       'best_m_goal_scorer_playing_player_a',\n",
       "       'best_f_goal_scorer_playing_player_a',\n",
       "       'best_assists_player_playing_player_a',\n",
       "       'best_assists_d_player_playing_player_a',\n",
       "       'best_assists_m_player_playing_player_a',\n",
       "       'best_assists_f_player_playing_player_a'],\n",
       "      dtype='object')</pre></div></div></div><div class=\"sk-serial\"><div class=\"sk-item\"><div class=\"sk-serial\"><div class=\"sk-item\"><div class=\"sk-estimator sk-toggleable\"><input class=\"sk-toggleable__control sk-hidden--visually\" id=\"55a4d054-b3b8-4945-8211-ec172916ff6b\" type=\"checkbox\" ><label class=\"sk-toggleable__label\" for=\"55a4d054-b3b8-4945-8211-ec172916ff6b\">SimpleImputer</label><div class=\"sk-toggleable__content\"><pre>SimpleImputer()</pre></div></div></div><div class=\"sk-item\"><div class=\"sk-estimator sk-toggleable\"><input class=\"sk-toggleable__control sk-hidden--visually\" id=\"50df0e8c-445d-41c0-86c4-5417734c55b0\" type=\"checkbox\" ><label class=\"sk-toggleable__label\" for=\"50df0e8c-445d-41c0-86c4-5417734c55b0\">MinMaxScaler</label><div class=\"sk-toggleable__content\"><pre>MinMaxScaler()</pre></div></div></div></div></div></div></div></div><div class=\"sk-parallel-item\"><div class=\"sk-item\"><div class=\"sk-label-container\"><div class=\"sk-label sk-toggleable\"><input class=\"sk-toggleable__control sk-hidden--visually\" id=\"cccf81f4-a4e5-4940-aec4-f4d5379199b5\" type=\"checkbox\" ><label class=\"sk-toggleable__label\" for=\"cccf81f4-a4e5-4940-aec4-f4d5379199b5\">cat</label><div class=\"sk-toggleable__content\"><pre>Index(['season'], dtype='object')</pre></div></div></div><div class=\"sk-serial\"><div class=\"sk-item\"><div class=\"sk-serial\"><div class=\"sk-item\"><div class=\"sk-estimator sk-toggleable\"><input class=\"sk-toggleable__control sk-hidden--visually\" id=\"e55a6a79-2a8a-4c3c-aeea-8e003c74cf21\" type=\"checkbox\" ><label class=\"sk-toggleable__label\" for=\"e55a6a79-2a8a-4c3c-aeea-8e003c74cf21\">SimpleImputer</label><div class=\"sk-toggleable__content\"><pre>SimpleImputer(fill_value='missing', strategy='constant')</pre></div></div></div><div class=\"sk-item\"><div class=\"sk-estimator sk-toggleable\"><input class=\"sk-toggleable__control sk-hidden--visually\" id=\"05f89664-126f-4abc-8d05-c6a5f9327f8b\" type=\"checkbox\" ><label class=\"sk-toggleable__label\" for=\"05f89664-126f-4abc-8d05-c6a5f9327f8b\">OneHotEncoder</label><div class=\"sk-toggleable__content\"><pre>OneHotEncoder(drop='first', sparse=False)</pre></div></div></div></div></div></div></div></div></div></div><div class=\"sk-item\"><div class=\"sk-estimator sk-toggleable\"><input class=\"sk-toggleable__control sk-hidden--visually\" id=\"e1c16db0-3fad-4db1-b1d1-59849551e305\" type=\"checkbox\" ><label class=\"sk-toggleable__label\" for=\"e1c16db0-3fad-4db1-b1d1-59849551e305\">RandomForestClassifier</label><div class=\"sk-toggleable__content\"><pre>RandomForestClassifier(max_depth=40, max_features=10, min_samples_leaf=10)</pre></div></div></div></div></div></div></div>"
      ],
      "text/plain": [
       "Pipeline(steps=[('preprocessors',\n",
       "                 ColumnTransformer(transformers=[('num',\n",
       "                                                  Pipeline(steps=[('imputer',\n",
       "                                                                   SimpleImputer()),\n",
       "                                                                  ('scaler',\n",
       "                                                                   MinMaxScaler())]),\n",
       "                                                  Index(['Unnamed: 0', 'id', 'scored_goals_team_h', 'conceded_goals_team_h',\n",
       "       'win_team_h', 'draw_team_h', 'loss_team_h', 'win_rate_team_h',\n",
       "       'win_rate_last_5_team_h', 'win_rate_h_team_h',\n",
       "       'win_rate_h_last_5_team_h', 'draw...\n",
       "       'best_assists_m_player_playing_player_a',\n",
       "       'best_assists_f_player_playing_player_a'],\n",
       "      dtype='object')),\n",
       "                                                 ('cat',\n",
       "                                                  Pipeline(steps=[('imputer',\n",
       "                                                                   SimpleImputer(fill_value='missing',\n",
       "                                                                                 strategy='constant')),\n",
       "                                                                  ('encoder',\n",
       "                                                                   OneHotEncoder(drop='first',\n",
       "                                                                                 sparse=False))]),\n",
       "                                                  Index(['season'], dtype='object'))])),\n",
       "                ('model',\n",
       "                 RandomForestClassifier(max_depth=40, max_features=10,\n",
       "                                        min_samples_leaf=10))])"
      ]
     },
     "execution_count": 25,
     "metadata": {},
     "output_type": "execute_result"
    }
   ],
   "source": [
    "pipe_rf.fit(X_train, y_train)"
   ]
  },
  {
   "cell_type": "code",
   "execution_count": 26,
   "id": "0bd13607",
   "metadata": {},
   "outputs": [
    {
     "name": "stdout",
     "output_type": "stream",
     "text": [
      "Train ROC-AUC: 0.9413\n",
      "Test ROC-AUC: 0.7365\n"
     ]
    }
   ],
   "source": [
    "def calculate_roc_auc(model_pipe, X, y):\n",
    "    \"\"\"Calculate roc auc score. \n",
    "    \n",
    "    Parameters:\n",
    "    ===========\n",
    "    model_pipe: sklearn model or pipeline\n",
    "    X: features\n",
    "    y: true target\n",
    "    \"\"\"\n",
    "    y_proba = model_pipe.predict_proba(X)[:,1]\n",
    "    return roc_auc_score(y, y_proba)\n",
    "\n",
    "print(f\"Train ROC-AUC: {calculate_roc_auc(pipe_rf, X_train, y_train):.4f}\")\n",
    "print(f\"Test ROC-AUC: {calculate_roc_auc(pipe_rf, X_test, y_test):.4f}\")"
   ]
  },
  {
   "cell_type": "code",
   "execution_count": 27,
   "id": "3a9742b0",
   "metadata": {},
   "outputs": [
    {
     "data": {
      "text/plain": [
       "array([0.40424471, 0.17730758, 0.42963332, 0.48810978, 0.51818202,\n",
       "       0.30887908, 0.67932637, 0.37462727, 0.11063665])"
      ]
     },
     "execution_count": 27,
     "metadata": {},
     "output_type": "execute_result"
    }
   ],
   "source": [
    "pipe_rf.predict_proba(score[features])[:, 1]"
   ]
  },
  {
   "cell_type": "code",
   "execution_count": 28,
   "id": "1e4abd02",
   "metadata": {},
   "outputs": [],
   "source": [
    "result = score[[\"id\", \"team_h\", \"team_name_home\", \"team_a\", \"team_name_away\", \"match_day\"]].copy()\n",
    "result[\"home_win_probability\"] = pipe_rf.predict_proba(score[features])[:, 1]"
   ]
  },
  {
   "cell_type": "code",
   "execution_count": 29,
   "id": "5d901a9a",
   "metadata": {},
   "outputs": [
    {
     "data": {
      "text/html": [
       "<div>\n",
       "<style scoped>\n",
       "    .dataframe tbody tr th:only-of-type {\n",
       "        vertical-align: middle;\n",
       "    }\n",
       "\n",
       "    .dataframe tbody tr th {\n",
       "        vertical-align: top;\n",
       "    }\n",
       "\n",
       "    .dataframe thead th {\n",
       "        text-align: right;\n",
       "    }\n",
       "</style>\n",
       "<table border=\"1\" class=\"dataframe\">\n",
       "  <thead>\n",
       "    <tr style=\"text-align: right;\">\n",
       "      <th></th>\n",
       "      <th>id</th>\n",
       "      <th>team_h</th>\n",
       "      <th>team_name_home</th>\n",
       "      <th>team_a</th>\n",
       "      <th>team_name_away</th>\n",
       "      <th>match_day</th>\n",
       "      <th>home_win_probability</th>\n",
       "    </tr>\n",
       "  </thead>\n",
       "  <tbody>\n",
       "    <tr>\n",
       "      <th>776</th>\n",
       "      <td>46</td>\n",
       "      <td>10</td>\n",
       "      <td>LEI</td>\n",
       "      <td>14</td>\n",
       "      <td>MUN</td>\n",
       "      <td>2022-09-01</td>\n",
       "      <td>0.404245</td>\n",
       "    </tr>\n",
       "    <tr>\n",
       "      <th>777</th>\n",
       "      <td>55</td>\n",
       "      <td>8</td>\n",
       "      <td>EVE</td>\n",
       "      <td>12</td>\n",
       "      <td>LIV</td>\n",
       "      <td>2022-09-03</td>\n",
       "      <td>0.177308</td>\n",
       "    </tr>\n",
       "    <tr>\n",
       "      <th>778</th>\n",
       "      <td>52</td>\n",
       "      <td>4</td>\n",
       "      <td>BRE</td>\n",
       "      <td>11</td>\n",
       "      <td>LEE</td>\n",
       "      <td>2022-09-03</td>\n",
       "      <td>0.429633</td>\n",
       "    </tr>\n",
       "    <tr>\n",
       "      <th>779</th>\n",
       "      <td>54</td>\n",
       "      <td>6</td>\n",
       "      <td>CHE</td>\n",
       "      <td>19</td>\n",
       "      <td>WHU</td>\n",
       "      <td>2022-09-03</td>\n",
       "      <td>0.488110</td>\n",
       "    </tr>\n",
       "    <tr>\n",
       "      <th>780</th>\n",
       "      <td>57</td>\n",
       "      <td>15</td>\n",
       "      <td>NEW</td>\n",
       "      <td>7</td>\n",
       "      <td>CRY</td>\n",
       "      <td>2022-09-03</td>\n",
       "      <td>0.518182</td>\n",
       "    </tr>\n",
       "    <tr>\n",
       "      <th>781</th>\n",
       "      <td>58</td>\n",
       "      <td>16</td>\n",
       "      <td>NFO</td>\n",
       "      <td>3</td>\n",
       "      <td>BOU</td>\n",
       "      <td>2022-09-03</td>\n",
       "      <td>0.308879</td>\n",
       "    </tr>\n",
       "    <tr>\n",
       "      <th>782</th>\n",
       "      <td>59</td>\n",
       "      <td>18</td>\n",
       "      <td>TOT</td>\n",
       "      <td>9</td>\n",
       "      <td>FUL</td>\n",
       "      <td>2022-09-03</td>\n",
       "      <td>0.679326</td>\n",
       "    </tr>\n",
       "    <tr>\n",
       "      <th>783</th>\n",
       "      <td>60</td>\n",
       "      <td>20</td>\n",
       "      <td>WOL</td>\n",
       "      <td>17</td>\n",
       "      <td>SOU</td>\n",
       "      <td>2022-09-03</td>\n",
       "      <td>0.374627</td>\n",
       "    </tr>\n",
       "    <tr>\n",
       "      <th>784</th>\n",
       "      <td>51</td>\n",
       "      <td>2</td>\n",
       "      <td>AVL</td>\n",
       "      <td>13</td>\n",
       "      <td>MCI</td>\n",
       "      <td>2022-09-03</td>\n",
       "      <td>0.110637</td>\n",
       "    </tr>\n",
       "  </tbody>\n",
       "</table>\n",
       "</div>"
      ],
      "text/plain": [
       "     id  team_h team_name_home  team_a team_name_away   match_day  \\\n",
       "776  46      10            LEI      14            MUN  2022-09-01   \n",
       "777  55       8            EVE      12            LIV  2022-09-03   \n",
       "778  52       4            BRE      11            LEE  2022-09-03   \n",
       "779  54       6            CHE      19            WHU  2022-09-03   \n",
       "780  57      15            NEW       7            CRY  2022-09-03   \n",
       "781  58      16            NFO       3            BOU  2022-09-03   \n",
       "782  59      18            TOT       9            FUL  2022-09-03   \n",
       "783  60      20            WOL      17            SOU  2022-09-03   \n",
       "784  51       2            AVL      13            MCI  2022-09-03   \n",
       "\n",
       "     home_win_probability  \n",
       "776              0.404245  \n",
       "777              0.177308  \n",
       "778              0.429633  \n",
       "779              0.488110  \n",
       "780              0.518182  \n",
       "781              0.308879  \n",
       "782              0.679326  \n",
       "783              0.374627  \n",
       "784              0.110637  "
      ]
     },
     "execution_count": 29,
     "metadata": {},
     "output_type": "execute_result"
    }
   ],
   "source": [
    "result"
   ]
  },
  {
   "cell_type": "markdown",
   "id": "8d6b0c35",
   "metadata": {},
   "source": [
    "### Predicting draw\n"
   ]
  },
  {
   "cell_type": "code",
   "execution_count": 30,
   "id": "2e25b40f",
   "metadata": {},
   "outputs": [],
   "source": [
    "target = 'result_draw'"
   ]
  },
  {
   "cell_type": "markdown",
   "id": "cba444a4",
   "metadata": {},
   "source": [
    "#### CV"
   ]
  },
  {
   "cell_type": "code",
   "execution_count": 31,
   "id": "34769ece",
   "metadata": {},
   "outputs": [],
   "source": [
    "fit_to_csv = pipe_to_cv.fit(X[features])"
   ]
  },
  {
   "cell_type": "code",
   "execution_count": 32,
   "id": "e636967e",
   "metadata": {},
   "outputs": [],
   "source": [
    "X_to_csv = pipe_to_cv.transform(X[features])"
   ]
  },
  {
   "cell_type": "code",
   "execution_count": 33,
   "id": "fc580b23",
   "metadata": {},
   "outputs": [],
   "source": [
    "from sklearn.model_selection import GridSearchCV\n",
    "\n",
    "# Create the parameter grid based on the results of random search \n",
    "param_grid = {\n",
    "    'bootstrap': [True],\n",
    "    'max_depth': [20, 40, 60],\n",
    "    'max_features': [2, 3, 5, 10, 20],\n",
    "    'min_samples_leaf': [3, 4, 5, 10, 20],\n",
    "    'n_estimators': [10, 50, 100]\n",
    "}\n",
    "\n",
    "# Create a based model\n",
    "rf = RandomForestClassifier()\n",
    "\n",
    "# Instantiate the grid search model\n",
    "grid_search = GridSearchCV(estimator = rf, param_grid = param_grid, \n",
    "                          cv = 3, n_jobs = -1, verbose = 2)"
   ]
  },
  {
   "cell_type": "code",
   "execution_count": 34,
   "id": "0ba3b063",
   "metadata": {},
   "outputs": [
    {
     "name": "stdout",
     "output_type": "stream",
     "text": [
      "Fitting 3 folds for each of 225 candidates, totalling 675 fits\n"
     ]
    },
    {
     "data": {
      "text/html": [
       "<style>#sk-29ebc410-09bd-41e6-9ad6-f57e5e4f4cc7 {color: black;background-color: white;}#sk-29ebc410-09bd-41e6-9ad6-f57e5e4f4cc7 pre{padding: 0;}#sk-29ebc410-09bd-41e6-9ad6-f57e5e4f4cc7 div.sk-toggleable {background-color: white;}#sk-29ebc410-09bd-41e6-9ad6-f57e5e4f4cc7 label.sk-toggleable__label {cursor: pointer;display: block;width: 100%;margin-bottom: 0;padding: 0.2em 0.3em;box-sizing: border-box;text-align: center;}#sk-29ebc410-09bd-41e6-9ad6-f57e5e4f4cc7 div.sk-toggleable__content {max-height: 0;max-width: 0;overflow: hidden;text-align: left;background-color: #f0f8ff;}#sk-29ebc410-09bd-41e6-9ad6-f57e5e4f4cc7 div.sk-toggleable__content pre {margin: 0.2em;color: black;border-radius: 0.25em;background-color: #f0f8ff;}#sk-29ebc410-09bd-41e6-9ad6-f57e5e4f4cc7 input.sk-toggleable__control:checked~div.sk-toggleable__content {max-height: 200px;max-width: 100%;overflow: auto;}#sk-29ebc410-09bd-41e6-9ad6-f57e5e4f4cc7 div.sk-estimator input.sk-toggleable__control:checked~label.sk-toggleable__label {background-color: #d4ebff;}#sk-29ebc410-09bd-41e6-9ad6-f57e5e4f4cc7 div.sk-label input.sk-toggleable__control:checked~label.sk-toggleable__label {background-color: #d4ebff;}#sk-29ebc410-09bd-41e6-9ad6-f57e5e4f4cc7 input.sk-hidden--visually {border: 0;clip: rect(1px 1px 1px 1px);clip: rect(1px, 1px, 1px, 1px);height: 1px;margin: -1px;overflow: hidden;padding: 0;position: absolute;width: 1px;}#sk-29ebc410-09bd-41e6-9ad6-f57e5e4f4cc7 div.sk-estimator {font-family: monospace;background-color: #f0f8ff;margin: 0.25em 0.25em;border: 1px dotted black;border-radius: 0.25em;box-sizing: border-box;}#sk-29ebc410-09bd-41e6-9ad6-f57e5e4f4cc7 div.sk-estimator:hover {background-color: #d4ebff;}#sk-29ebc410-09bd-41e6-9ad6-f57e5e4f4cc7 div.sk-parallel-item::after {content: \"\";width: 100%;border-bottom: 1px solid gray;flex-grow: 1;}#sk-29ebc410-09bd-41e6-9ad6-f57e5e4f4cc7 div.sk-label:hover label.sk-toggleable__label {background-color: #d4ebff;}#sk-29ebc410-09bd-41e6-9ad6-f57e5e4f4cc7 div.sk-serial::before {content: \"\";position: absolute;border-left: 1px solid gray;box-sizing: border-box;top: 2em;bottom: 0;left: 50%;}#sk-29ebc410-09bd-41e6-9ad6-f57e5e4f4cc7 div.sk-serial {display: flex;flex-direction: column;align-items: center;background-color: white;}#sk-29ebc410-09bd-41e6-9ad6-f57e5e4f4cc7 div.sk-item {z-index: 1;}#sk-29ebc410-09bd-41e6-9ad6-f57e5e4f4cc7 div.sk-parallel {display: flex;align-items: stretch;justify-content: center;background-color: white;}#sk-29ebc410-09bd-41e6-9ad6-f57e5e4f4cc7 div.sk-parallel-item {display: flex;flex-direction: column;position: relative;background-color: white;}#sk-29ebc410-09bd-41e6-9ad6-f57e5e4f4cc7 div.sk-parallel-item:first-child::after {align-self: flex-end;width: 50%;}#sk-29ebc410-09bd-41e6-9ad6-f57e5e4f4cc7 div.sk-parallel-item:last-child::after {align-self: flex-start;width: 50%;}#sk-29ebc410-09bd-41e6-9ad6-f57e5e4f4cc7 div.sk-parallel-item:only-child::after {width: 0;}#sk-29ebc410-09bd-41e6-9ad6-f57e5e4f4cc7 div.sk-dashed-wrapped {border: 1px dashed gray;margin: 0.2em;box-sizing: border-box;padding-bottom: 0.1em;background-color: white;position: relative;}#sk-29ebc410-09bd-41e6-9ad6-f57e5e4f4cc7 div.sk-label label {font-family: monospace;font-weight: bold;background-color: white;display: inline-block;line-height: 1.2em;}#sk-29ebc410-09bd-41e6-9ad6-f57e5e4f4cc7 div.sk-label-container {position: relative;z-index: 2;text-align: center;}#sk-29ebc410-09bd-41e6-9ad6-f57e5e4f4cc7 div.sk-container {display: inline-block;position: relative;}</style><div id=\"sk-29ebc410-09bd-41e6-9ad6-f57e5e4f4cc7\" class\"sk-top-container\"><div class=\"sk-container\"><div class=\"sk-item sk-dashed-wrapped\"><div class=\"sk-label-container\"><div class=\"sk-label sk-toggleable\"><input class=\"sk-toggleable__control sk-hidden--visually\" id=\"ed962215-8ae1-4206-9a56-5b971b41f24e\" type=\"checkbox\" ><label class=\"sk-toggleable__label\" for=\"ed962215-8ae1-4206-9a56-5b971b41f24e\">GridSearchCV</label><div class=\"sk-toggleable__content\"><pre>GridSearchCV(cv=3, estimator=RandomForestClassifier(), n_jobs=-1,\n",
       "             param_grid={'bootstrap': [True], 'max_depth': [20, 40, 60],\n",
       "                         'max_features': [2, 3, 5, 10, 20],\n",
       "                         'min_samples_leaf': [3, 4, 5, 10, 20],\n",
       "                         'n_estimators': [10, 50, 100]},\n",
       "             verbose=2)</pre></div></div></div><div class=\"sk-parallel\"><div class=\"sk-parallel-item\"><div class=\"sk-item\"><div class=\"sk-serial\"><div class=\"sk-item\"><div class=\"sk-estimator sk-toggleable\"><input class=\"sk-toggleable__control sk-hidden--visually\" id=\"09cc517e-95df-43ba-a0ee-8c0e5000d2c3\" type=\"checkbox\" ><label class=\"sk-toggleable__label\" for=\"09cc517e-95df-43ba-a0ee-8c0e5000d2c3\">RandomForestClassifier</label><div class=\"sk-toggleable__content\"><pre>RandomForestClassifier()</pre></div></div></div></div></div></div></div></div></div></div>"
      ],
      "text/plain": [
       "GridSearchCV(cv=3, estimator=RandomForestClassifier(), n_jobs=-1,\n",
       "             param_grid={'bootstrap': [True], 'max_depth': [20, 40, 60],\n",
       "                         'max_features': [2, 3, 5, 10, 20],\n",
       "                         'min_samples_leaf': [3, 4, 5, 10, 20],\n",
       "                         'n_estimators': [10, 50, 100]},\n",
       "             verbose=2)"
      ]
     },
     "execution_count": 34,
     "metadata": {},
     "output_type": "execute_result"
    }
   ],
   "source": [
    "grid_search.fit(X_to_csv, X[target])"
   ]
  },
  {
   "cell_type": "code",
   "execution_count": 35,
   "id": "00571ab5",
   "metadata": {},
   "outputs": [
    {
     "data": {
      "text/plain": [
       "{'bootstrap': True,\n",
       " 'max_depth': 20,\n",
       " 'max_features': 2,\n",
       " 'min_samples_leaf': 3,\n",
       " 'n_estimators': 50}"
      ]
     },
     "execution_count": 35,
     "metadata": {},
     "output_type": "execute_result"
    }
   ],
   "source": [
    "grid_search.best_params_"
   ]
  },
  {
   "cell_type": "markdown",
   "id": "c7393b26",
   "metadata": {},
   "source": [
    "#### Final model"
   ]
  },
  {
   "cell_type": "code",
   "execution_count": 36,
   "id": "75d56b70",
   "metadata": {},
   "outputs": [],
   "source": [
    "pipe_rf = Pipeline([\n",
    "    ('preprocessors', preprocessors),\n",
    "    #('model', RandomForestClassifier(bootstrap = True, max_depth = 40, max_features = 5, min_samples_leaf = 5, n_estimators = 100))\n",
    "    ('model', RandomForestClassifier(**grid_search.best_params_))])"
   ]
  },
  {
   "cell_type": "code",
   "execution_count": 37,
   "id": "31ad1a19",
   "metadata": {},
   "outputs": [],
   "source": [
    "X_train, X_test, y_train, y_test = train_test_split(X[features], \n",
    "                                                    X[target], \n",
    "                                                    test_size = .2, \n",
    "                                                    random_state = seed, \n",
    "                                                    stratify = X[target])"
   ]
  },
  {
   "cell_type": "code",
   "execution_count": 38,
   "id": "4ce8c366",
   "metadata": {},
   "outputs": [
    {
     "data": {
      "text/html": [
       "<style>#sk-39f77ce6-98bf-4a25-9ba1-9b689870717f {color: black;background-color: white;}#sk-39f77ce6-98bf-4a25-9ba1-9b689870717f pre{padding: 0;}#sk-39f77ce6-98bf-4a25-9ba1-9b689870717f div.sk-toggleable {background-color: white;}#sk-39f77ce6-98bf-4a25-9ba1-9b689870717f label.sk-toggleable__label {cursor: pointer;display: block;width: 100%;margin-bottom: 0;padding: 0.2em 0.3em;box-sizing: border-box;text-align: center;}#sk-39f77ce6-98bf-4a25-9ba1-9b689870717f div.sk-toggleable__content {max-height: 0;max-width: 0;overflow: hidden;text-align: left;background-color: #f0f8ff;}#sk-39f77ce6-98bf-4a25-9ba1-9b689870717f div.sk-toggleable__content pre {margin: 0.2em;color: black;border-radius: 0.25em;background-color: #f0f8ff;}#sk-39f77ce6-98bf-4a25-9ba1-9b689870717f input.sk-toggleable__control:checked~div.sk-toggleable__content {max-height: 200px;max-width: 100%;overflow: auto;}#sk-39f77ce6-98bf-4a25-9ba1-9b689870717f div.sk-estimator input.sk-toggleable__control:checked~label.sk-toggleable__label {background-color: #d4ebff;}#sk-39f77ce6-98bf-4a25-9ba1-9b689870717f div.sk-label input.sk-toggleable__control:checked~label.sk-toggleable__label {background-color: #d4ebff;}#sk-39f77ce6-98bf-4a25-9ba1-9b689870717f input.sk-hidden--visually {border: 0;clip: rect(1px 1px 1px 1px);clip: rect(1px, 1px, 1px, 1px);height: 1px;margin: -1px;overflow: hidden;padding: 0;position: absolute;width: 1px;}#sk-39f77ce6-98bf-4a25-9ba1-9b689870717f div.sk-estimator {font-family: monospace;background-color: #f0f8ff;margin: 0.25em 0.25em;border: 1px dotted black;border-radius: 0.25em;box-sizing: border-box;}#sk-39f77ce6-98bf-4a25-9ba1-9b689870717f div.sk-estimator:hover {background-color: #d4ebff;}#sk-39f77ce6-98bf-4a25-9ba1-9b689870717f div.sk-parallel-item::after {content: \"\";width: 100%;border-bottom: 1px solid gray;flex-grow: 1;}#sk-39f77ce6-98bf-4a25-9ba1-9b689870717f div.sk-label:hover label.sk-toggleable__label {background-color: #d4ebff;}#sk-39f77ce6-98bf-4a25-9ba1-9b689870717f div.sk-serial::before {content: \"\";position: absolute;border-left: 1px solid gray;box-sizing: border-box;top: 2em;bottom: 0;left: 50%;}#sk-39f77ce6-98bf-4a25-9ba1-9b689870717f div.sk-serial {display: flex;flex-direction: column;align-items: center;background-color: white;}#sk-39f77ce6-98bf-4a25-9ba1-9b689870717f div.sk-item {z-index: 1;}#sk-39f77ce6-98bf-4a25-9ba1-9b689870717f div.sk-parallel {display: flex;align-items: stretch;justify-content: center;background-color: white;}#sk-39f77ce6-98bf-4a25-9ba1-9b689870717f div.sk-parallel-item {display: flex;flex-direction: column;position: relative;background-color: white;}#sk-39f77ce6-98bf-4a25-9ba1-9b689870717f div.sk-parallel-item:first-child::after {align-self: flex-end;width: 50%;}#sk-39f77ce6-98bf-4a25-9ba1-9b689870717f div.sk-parallel-item:last-child::after {align-self: flex-start;width: 50%;}#sk-39f77ce6-98bf-4a25-9ba1-9b689870717f div.sk-parallel-item:only-child::after {width: 0;}#sk-39f77ce6-98bf-4a25-9ba1-9b689870717f div.sk-dashed-wrapped {border: 1px dashed gray;margin: 0.2em;box-sizing: border-box;padding-bottom: 0.1em;background-color: white;position: relative;}#sk-39f77ce6-98bf-4a25-9ba1-9b689870717f div.sk-label label {font-family: monospace;font-weight: bold;background-color: white;display: inline-block;line-height: 1.2em;}#sk-39f77ce6-98bf-4a25-9ba1-9b689870717f div.sk-label-container {position: relative;z-index: 2;text-align: center;}#sk-39f77ce6-98bf-4a25-9ba1-9b689870717f div.sk-container {display: inline-block;position: relative;}</style><div id=\"sk-39f77ce6-98bf-4a25-9ba1-9b689870717f\" class\"sk-top-container\"><div class=\"sk-container\"><div class=\"sk-item sk-dashed-wrapped\"><div class=\"sk-label-container\"><div class=\"sk-label sk-toggleable\"><input class=\"sk-toggleable__control sk-hidden--visually\" id=\"7fd89ef1-001b-4c18-8f8c-f197f3da6cb5\" type=\"checkbox\" ><label class=\"sk-toggleable__label\" for=\"7fd89ef1-001b-4c18-8f8c-f197f3da6cb5\">Pipeline</label><div class=\"sk-toggleable__content\"><pre>Pipeline(steps=[('preprocessors',\n",
       "                 ColumnTransformer(transformers=[('num',\n",
       "                                                  Pipeline(steps=[('imputer',\n",
       "                                                                   SimpleImputer()),\n",
       "                                                                  ('scaler',\n",
       "                                                                   MinMaxScaler())]),\n",
       "                                                  Index(['Unnamed: 0', 'id', 'scored_goals_team_h', 'conceded_goals_team_h',\n",
       "       'win_team_h', 'draw_team_h', 'loss_team_h', 'win_rate_team_h',\n",
       "       'win_rate_last_5_team_h', 'win_rate_h_team_h',\n",
       "       'win_rate_h_last_5_team_h', 'draw...\n",
       "       'best_assists_m_player_playing_player_a',\n",
       "       'best_assists_f_player_playing_player_a'],\n",
       "      dtype='object')),\n",
       "                                                 ('cat',\n",
       "                                                  Pipeline(steps=[('imputer',\n",
       "                                                                   SimpleImputer(fill_value='missing',\n",
       "                                                                                 strategy='constant')),\n",
       "                                                                  ('encoder',\n",
       "                                                                   OneHotEncoder(drop='first',\n",
       "                                                                                 sparse=False))]),\n",
       "                                                  Index(['season'], dtype='object'))])),\n",
       "                ('model',\n",
       "                 RandomForestClassifier(max_depth=20, max_features=2,\n",
       "                                        min_samples_leaf=3, n_estimators=50))])</pre></div></div></div><div class=\"sk-serial\"><div class=\"sk-item sk-dashed-wrapped\"><div class=\"sk-label-container\"><div class=\"sk-label sk-toggleable\"><input class=\"sk-toggleable__control sk-hidden--visually\" id=\"11347405-dac5-4ba0-8ce3-7146c3aed164\" type=\"checkbox\" ><label class=\"sk-toggleable__label\" for=\"11347405-dac5-4ba0-8ce3-7146c3aed164\">preprocessors: ColumnTransformer</label><div class=\"sk-toggleable__content\"><pre>ColumnTransformer(transformers=[('num',\n",
       "                                 Pipeline(steps=[('imputer', SimpleImputer()),\n",
       "                                                 ('scaler', MinMaxScaler())]),\n",
       "                                 Index(['Unnamed: 0', 'id', 'scored_goals_team_h', 'conceded_goals_team_h',\n",
       "       'win_team_h', 'draw_team_h', 'loss_team_h', 'win_rate_team_h',\n",
       "       'win_rate_last_5_team_h', 'win_rate_h_team_h',\n",
       "       'win_rate_h_last_5_team_h', 'draw_rate_team_h',\n",
       "       'draw_rate_last_5_t...\n",
       "       'best_assists_player_playing_player_a',\n",
       "       'best_assists_d_player_playing_player_a',\n",
       "       'best_assists_m_player_playing_player_a',\n",
       "       'best_assists_f_player_playing_player_a'],\n",
       "      dtype='object')),\n",
       "                                ('cat',\n",
       "                                 Pipeline(steps=[('imputer',\n",
       "                                                  SimpleImputer(fill_value='missing',\n",
       "                                                                strategy='constant')),\n",
       "                                                 ('encoder',\n",
       "                                                  OneHotEncoder(drop='first',\n",
       "                                                                sparse=False))]),\n",
       "                                 Index(['season'], dtype='object'))])</pre></div></div></div><div class=\"sk-parallel\"><div class=\"sk-parallel-item\"><div class=\"sk-item\"><div class=\"sk-label-container\"><div class=\"sk-label sk-toggleable\"><input class=\"sk-toggleable__control sk-hidden--visually\" id=\"67fff331-5e3d-49c0-9909-c141ee4eb032\" type=\"checkbox\" ><label class=\"sk-toggleable__label\" for=\"67fff331-5e3d-49c0-9909-c141ee4eb032\">num</label><div class=\"sk-toggleable__content\"><pre>Index(['Unnamed: 0', 'id', 'scored_goals_team_h', 'conceded_goals_team_h',\n",
       "       'win_team_h', 'draw_team_h', 'loss_team_h', 'win_rate_team_h',\n",
       "       'win_rate_last_5_team_h', 'win_rate_h_team_h',\n",
       "       'win_rate_h_last_5_team_h', 'draw_rate_team_h',\n",
       "       'draw_rate_last_5_team_h', 'draw_rate_h_team_h',\n",
       "       'draw_rate_h_last_5_team_h', 'loss_rate_team_h',\n",
       "       'loss_rate_last_5_team_h', 'loss_rate_h_team_h',\n",
       "       'loss_rate_h_last_5_team_h', 'avg_scored_goals_team_h',\n",
       "       'avg_scored_goals_last_5_team_h', 'avg_scored_goals_h_team_h',\n",
       "       'avg_scored_goals_h_last_5_team_h', 'avg_conceded_goals_team_h',\n",
       "       'avg_conceded_goals_last_5_team_h', 'avg_conceded_goals_h_team_h',\n",
       "       'avg_conceded_goals_h_last_5_team_h', 'scored_goals_team_a',\n",
       "       'conceded_goals_team_a', 'win_team_a', 'draw_team_a', 'loss_team_a',\n",
       "       'win_rate_team_a', 'win_rate_last_5_team_a', 'win_rate_a_team_a',\n",
       "       'win_rate_a_last_5_team_a', 'draw_rate_team_a',\n",
       "       'draw_rate_last_5_team_a', 'draw_rate_a_team_a',\n",
       "       'draw_rate_a_last_5_team_a', 'loss_rate_team_a',\n",
       "       'loss_rate_last_5_team_a', 'loss_rate_a_team_a',\n",
       "       'loss_rate_a_last_5_team_a', 'avg_scored_goals_team_a',\n",
       "       'avg_scored_goals_last_5_team_a', 'avg_scored_goals_a_team_a',\n",
       "       'avg_scored_goals_a_last_5_team_a', 'avg_conceded_goals_team_a',\n",
       "       'avg_conceded_goals_last_5_team_a', 'avg_conceded_goals_a_team_a',\n",
       "       'avg_conceded_goals_a_last_5_team_a', 'max_value_player_h',\n",
       "       'max_value_position_g_player_h', 'max_value_position_d_player_h',\n",
       "       'max_value_position_m_player_h', 'max_value_position_f_player_h',\n",
       "       'avg_goals_per_hour_5_player_h', 'avg_goals_per_hour_10_player_h',\n",
       "       'avg_assists_per_hour_5_player_h', 'avg_assists_per_hour_10_player_h',\n",
       "       'avg_goals_conceded_per_hour_5_player_h',\n",
       "       'avg_goals_conceded_per_hour_10_player_h',\n",
       "       'most_valuable_player_playing_player_h',\n",
       "       'most_valuable_g_player_playing_player_h',\n",
       "       'most_valuable_f_player_playing_player_h',\n",
       "       'most_valuable_m_player_playing_player_h',\n",
       "       'best_goal_scorer_playing_player_h',\n",
       "       'best_m_goal_scorer_playing_player_h',\n",
       "       'best_f_goal_scorer_playing_player_h',\n",
       "       'best_assists_player_playing_player_h',\n",
       "       'best_assists_d_player_playing_player_h',\n",
       "       'best_assists_m_player_playing_player_h',\n",
       "       'best_assists_f_player_playing_player_h', 'max_value_player_a',\n",
       "       'max_value_position_g_player_a', 'max_value_position_d_player_a',\n",
       "       'max_value_position_m_player_a', 'max_value_position_f_player_a',\n",
       "       'avg_goals_per_hour_5_player_a', 'avg_goals_per_hour_10_player_a',\n",
       "       'avg_assists_per_hour_5_player_a', 'avg_assists_per_hour_10_player_a',\n",
       "       'avg_goals_conceded_per_hour_5_player_a',\n",
       "       'avg_goals_conceded_per_hour_10_player_a',\n",
       "       'most_valuable_player_playing_player_a',\n",
       "       'most_valuable_g_player_playing_player_a',\n",
       "       'most_valuable_f_player_playing_player_a',\n",
       "       'most_valuable_m_player_playing_player_a',\n",
       "       'best_goal_scorer_playing_player_a',\n",
       "       'best_m_goal_scorer_playing_player_a',\n",
       "       'best_f_goal_scorer_playing_player_a',\n",
       "       'best_assists_player_playing_player_a',\n",
       "       'best_assists_d_player_playing_player_a',\n",
       "       'best_assists_m_player_playing_player_a',\n",
       "       'best_assists_f_player_playing_player_a'],\n",
       "      dtype='object')</pre></div></div></div><div class=\"sk-serial\"><div class=\"sk-item\"><div class=\"sk-serial\"><div class=\"sk-item\"><div class=\"sk-estimator sk-toggleable\"><input class=\"sk-toggleable__control sk-hidden--visually\" id=\"4460cd07-cd08-4883-ba0d-c721e0e9b1c6\" type=\"checkbox\" ><label class=\"sk-toggleable__label\" for=\"4460cd07-cd08-4883-ba0d-c721e0e9b1c6\">SimpleImputer</label><div class=\"sk-toggleable__content\"><pre>SimpleImputer()</pre></div></div></div><div class=\"sk-item\"><div class=\"sk-estimator sk-toggleable\"><input class=\"sk-toggleable__control sk-hidden--visually\" id=\"0b1dba73-bff9-4b4e-b8e9-e0e1c259fc62\" type=\"checkbox\" ><label class=\"sk-toggleable__label\" for=\"0b1dba73-bff9-4b4e-b8e9-e0e1c259fc62\">MinMaxScaler</label><div class=\"sk-toggleable__content\"><pre>MinMaxScaler()</pre></div></div></div></div></div></div></div></div><div class=\"sk-parallel-item\"><div class=\"sk-item\"><div class=\"sk-label-container\"><div class=\"sk-label sk-toggleable\"><input class=\"sk-toggleable__control sk-hidden--visually\" id=\"d0391c4c-c104-45da-9b3d-c784a1d84d99\" type=\"checkbox\" ><label class=\"sk-toggleable__label\" for=\"d0391c4c-c104-45da-9b3d-c784a1d84d99\">cat</label><div class=\"sk-toggleable__content\"><pre>Index(['season'], dtype='object')</pre></div></div></div><div class=\"sk-serial\"><div class=\"sk-item\"><div class=\"sk-serial\"><div class=\"sk-item\"><div class=\"sk-estimator sk-toggleable\"><input class=\"sk-toggleable__control sk-hidden--visually\" id=\"52919a16-6992-434e-9323-c8ecb1be7519\" type=\"checkbox\" ><label class=\"sk-toggleable__label\" for=\"52919a16-6992-434e-9323-c8ecb1be7519\">SimpleImputer</label><div class=\"sk-toggleable__content\"><pre>SimpleImputer(fill_value='missing', strategy='constant')</pre></div></div></div><div class=\"sk-item\"><div class=\"sk-estimator sk-toggleable\"><input class=\"sk-toggleable__control sk-hidden--visually\" id=\"17bb0bf9-728c-48e0-a91e-66fb33a87bcf\" type=\"checkbox\" ><label class=\"sk-toggleable__label\" for=\"17bb0bf9-728c-48e0-a91e-66fb33a87bcf\">OneHotEncoder</label><div class=\"sk-toggleable__content\"><pre>OneHotEncoder(drop='first', sparse=False)</pre></div></div></div></div></div></div></div></div></div></div><div class=\"sk-item\"><div class=\"sk-estimator sk-toggleable\"><input class=\"sk-toggleable__control sk-hidden--visually\" id=\"db3afa6a-94d4-4820-bf2f-9e10ce87b8a8\" type=\"checkbox\" ><label class=\"sk-toggleable__label\" for=\"db3afa6a-94d4-4820-bf2f-9e10ce87b8a8\">RandomForestClassifier</label><div class=\"sk-toggleable__content\"><pre>RandomForestClassifier(max_depth=20, max_features=2, min_samples_leaf=3,\n",
       "                       n_estimators=50)</pre></div></div></div></div></div></div></div>"
      ],
      "text/plain": [
       "Pipeline(steps=[('preprocessors',\n",
       "                 ColumnTransformer(transformers=[('num',\n",
       "                                                  Pipeline(steps=[('imputer',\n",
       "                                                                   SimpleImputer()),\n",
       "                                                                  ('scaler',\n",
       "                                                                   MinMaxScaler())]),\n",
       "                                                  Index(['Unnamed: 0', 'id', 'scored_goals_team_h', 'conceded_goals_team_h',\n",
       "       'win_team_h', 'draw_team_h', 'loss_team_h', 'win_rate_team_h',\n",
       "       'win_rate_last_5_team_h', 'win_rate_h_team_h',\n",
       "       'win_rate_h_last_5_team_h', 'draw...\n",
       "       'best_assists_m_player_playing_player_a',\n",
       "       'best_assists_f_player_playing_player_a'],\n",
       "      dtype='object')),\n",
       "                                                 ('cat',\n",
       "                                                  Pipeline(steps=[('imputer',\n",
       "                                                                   SimpleImputer(fill_value='missing',\n",
       "                                                                                 strategy='constant')),\n",
       "                                                                  ('encoder',\n",
       "                                                                   OneHotEncoder(drop='first',\n",
       "                                                                                 sparse=False))]),\n",
       "                                                  Index(['season'], dtype='object'))])),\n",
       "                ('model',\n",
       "                 RandomForestClassifier(max_depth=20, max_features=2,\n",
       "                                        min_samples_leaf=3, n_estimators=50))])"
      ]
     },
     "execution_count": 38,
     "metadata": {},
     "output_type": "execute_result"
    }
   ],
   "source": [
    "pipe_rf.fit(X_train, y_train)"
   ]
  },
  {
   "cell_type": "code",
   "execution_count": 39,
   "id": "8fff5913",
   "metadata": {},
   "outputs": [
    {
     "name": "stdout",
     "output_type": "stream",
     "text": [
      "Train ROC-AUC: 0.9997\n",
      "Test ROC-AUC: 0.5360\n"
     ]
    }
   ],
   "source": [
    "def calculate_roc_auc(model_pipe, X, y):\n",
    "    \"\"\"Calculate roc auc score. \n",
    "    \n",
    "    Parameters:\n",
    "    ===========\n",
    "    model_pipe: sklearn model or pipeline\n",
    "    X: features\n",
    "    y: true target\n",
    "    \"\"\"\n",
    "    y_proba = model_pipe.predict_proba(X)[:,1]\n",
    "    return roc_auc_score(y, y_proba)\n",
    "\n",
    "print(f\"Train ROC-AUC: {calculate_roc_auc(pipe_rf, X_train, y_train):.4f}\")\n",
    "print(f\"Test ROC-AUC: {calculate_roc_auc(pipe_rf, X_test, y_test):.4f}\")"
   ]
  },
  {
   "cell_type": "code",
   "execution_count": 40,
   "id": "5f652b43",
   "metadata": {},
   "outputs": [
    {
     "data": {
      "text/plain": [
       "array([0.26754618, 0.34035481, 0.30989105, 0.22915079, 0.30988312,\n",
       "       0.41458034, 0.13077074, 0.32311111, 0.45454798])"
      ]
     },
     "execution_count": 40,
     "metadata": {},
     "output_type": "execute_result"
    }
   ],
   "source": [
    "pipe_rf.predict_proba(score[features])[:, 1]"
   ]
  },
  {
   "cell_type": "code",
   "execution_count": 41,
   "id": "4f3bf3c9",
   "metadata": {},
   "outputs": [],
   "source": [
    "result[\"draw_probability\"] = pipe_rf.predict_proba(score[features])[:, 1]"
   ]
  },
  {
   "cell_type": "code",
   "execution_count": 42,
   "id": "7cf3affd",
   "metadata": {},
   "outputs": [
    {
     "data": {
      "text/html": [
       "<div>\n",
       "<style scoped>\n",
       "    .dataframe tbody tr th:only-of-type {\n",
       "        vertical-align: middle;\n",
       "    }\n",
       "\n",
       "    .dataframe tbody tr th {\n",
       "        vertical-align: top;\n",
       "    }\n",
       "\n",
       "    .dataframe thead th {\n",
       "        text-align: right;\n",
       "    }\n",
       "</style>\n",
       "<table border=\"1\" class=\"dataframe\">\n",
       "  <thead>\n",
       "    <tr style=\"text-align: right;\">\n",
       "      <th></th>\n",
       "      <th>id</th>\n",
       "      <th>team_h</th>\n",
       "      <th>team_name_home</th>\n",
       "      <th>team_a</th>\n",
       "      <th>team_name_away</th>\n",
       "      <th>match_day</th>\n",
       "      <th>home_win_probability</th>\n",
       "      <th>draw_probability</th>\n",
       "    </tr>\n",
       "  </thead>\n",
       "  <tbody>\n",
       "    <tr>\n",
       "      <th>776</th>\n",
       "      <td>46</td>\n",
       "      <td>10</td>\n",
       "      <td>LEI</td>\n",
       "      <td>14</td>\n",
       "      <td>MUN</td>\n",
       "      <td>2022-09-01</td>\n",
       "      <td>0.404245</td>\n",
       "      <td>0.267546</td>\n",
       "    </tr>\n",
       "    <tr>\n",
       "      <th>777</th>\n",
       "      <td>55</td>\n",
       "      <td>8</td>\n",
       "      <td>EVE</td>\n",
       "      <td>12</td>\n",
       "      <td>LIV</td>\n",
       "      <td>2022-09-03</td>\n",
       "      <td>0.177308</td>\n",
       "      <td>0.340355</td>\n",
       "    </tr>\n",
       "    <tr>\n",
       "      <th>778</th>\n",
       "      <td>52</td>\n",
       "      <td>4</td>\n",
       "      <td>BRE</td>\n",
       "      <td>11</td>\n",
       "      <td>LEE</td>\n",
       "      <td>2022-09-03</td>\n",
       "      <td>0.429633</td>\n",
       "      <td>0.309891</td>\n",
       "    </tr>\n",
       "    <tr>\n",
       "      <th>779</th>\n",
       "      <td>54</td>\n",
       "      <td>6</td>\n",
       "      <td>CHE</td>\n",
       "      <td>19</td>\n",
       "      <td>WHU</td>\n",
       "      <td>2022-09-03</td>\n",
       "      <td>0.488110</td>\n",
       "      <td>0.229151</td>\n",
       "    </tr>\n",
       "    <tr>\n",
       "      <th>780</th>\n",
       "      <td>57</td>\n",
       "      <td>15</td>\n",
       "      <td>NEW</td>\n",
       "      <td>7</td>\n",
       "      <td>CRY</td>\n",
       "      <td>2022-09-03</td>\n",
       "      <td>0.518182</td>\n",
       "      <td>0.309883</td>\n",
       "    </tr>\n",
       "    <tr>\n",
       "      <th>781</th>\n",
       "      <td>58</td>\n",
       "      <td>16</td>\n",
       "      <td>NFO</td>\n",
       "      <td>3</td>\n",
       "      <td>BOU</td>\n",
       "      <td>2022-09-03</td>\n",
       "      <td>0.308879</td>\n",
       "      <td>0.414580</td>\n",
       "    </tr>\n",
       "    <tr>\n",
       "      <th>782</th>\n",
       "      <td>59</td>\n",
       "      <td>18</td>\n",
       "      <td>TOT</td>\n",
       "      <td>9</td>\n",
       "      <td>FUL</td>\n",
       "      <td>2022-09-03</td>\n",
       "      <td>0.679326</td>\n",
       "      <td>0.130771</td>\n",
       "    </tr>\n",
       "    <tr>\n",
       "      <th>783</th>\n",
       "      <td>60</td>\n",
       "      <td>20</td>\n",
       "      <td>WOL</td>\n",
       "      <td>17</td>\n",
       "      <td>SOU</td>\n",
       "      <td>2022-09-03</td>\n",
       "      <td>0.374627</td>\n",
       "      <td>0.323111</td>\n",
       "    </tr>\n",
       "    <tr>\n",
       "      <th>784</th>\n",
       "      <td>51</td>\n",
       "      <td>2</td>\n",
       "      <td>AVL</td>\n",
       "      <td>13</td>\n",
       "      <td>MCI</td>\n",
       "      <td>2022-09-03</td>\n",
       "      <td>0.110637</td>\n",
       "      <td>0.454548</td>\n",
       "    </tr>\n",
       "  </tbody>\n",
       "</table>\n",
       "</div>"
      ],
      "text/plain": [
       "     id  team_h team_name_home  team_a team_name_away   match_day  \\\n",
       "776  46      10            LEI      14            MUN  2022-09-01   \n",
       "777  55       8            EVE      12            LIV  2022-09-03   \n",
       "778  52       4            BRE      11            LEE  2022-09-03   \n",
       "779  54       6            CHE      19            WHU  2022-09-03   \n",
       "780  57      15            NEW       7            CRY  2022-09-03   \n",
       "781  58      16            NFO       3            BOU  2022-09-03   \n",
       "782  59      18            TOT       9            FUL  2022-09-03   \n",
       "783  60      20            WOL      17            SOU  2022-09-03   \n",
       "784  51       2            AVL      13            MCI  2022-09-03   \n",
       "\n",
       "     home_win_probability  draw_probability  \n",
       "776              0.404245          0.267546  \n",
       "777              0.177308          0.340355  \n",
       "778              0.429633          0.309891  \n",
       "779              0.488110          0.229151  \n",
       "780              0.518182          0.309883  \n",
       "781              0.308879          0.414580  \n",
       "782              0.679326          0.130771  \n",
       "783              0.374627          0.323111  \n",
       "784              0.110637          0.454548  "
      ]
     },
     "execution_count": 42,
     "metadata": {},
     "output_type": "execute_result"
    }
   ],
   "source": [
    "result"
   ]
  },
  {
   "cell_type": "markdown",
   "id": "bfbcfcc7",
   "metadata": {},
   "source": [
    "### Predicting away-win"
   ]
  },
  {
   "cell_type": "code",
   "execution_count": 43,
   "id": "a8853857",
   "metadata": {},
   "outputs": [],
   "source": [
    "target = 'result_away_win'"
   ]
  },
  {
   "cell_type": "markdown",
   "id": "86194bda",
   "metadata": {},
   "source": [
    "#### CV"
   ]
  },
  {
   "cell_type": "code",
   "execution_count": 44,
   "id": "ee6fc234",
   "metadata": {},
   "outputs": [],
   "source": [
    "fit_to_csv = pipe_to_cv.fit(X[features])"
   ]
  },
  {
   "cell_type": "code",
   "execution_count": 45,
   "id": "fd78bf77",
   "metadata": {},
   "outputs": [],
   "source": [
    "X_to_csv = pipe_to_cv.transform(X[features])"
   ]
  },
  {
   "cell_type": "code",
   "execution_count": 46,
   "id": "14cd04c8",
   "metadata": {},
   "outputs": [],
   "source": [
    "from sklearn.model_selection import GridSearchCV\n",
    "\n",
    "# Create the parameter grid based on the results of random search \n",
    "param_grid = {\n",
    "    'bootstrap': [True],\n",
    "    'max_depth': [20, 40, 60],\n",
    "    'max_features': [2, 3, 5, 10, 20],\n",
    "    'min_samples_leaf': [3, 4, 5, 10, 20],\n",
    "    'n_estimators': [10, 50, 100]\n",
    "}\n",
    "\n",
    "# Create a based model\n",
    "rf = RandomForestClassifier()\n",
    "\n",
    "# Instantiate the grid search model\n",
    "grid_search = GridSearchCV(estimator = rf, param_grid = param_grid, \n",
    "                          cv = 3, n_jobs = -1, verbose = 2)"
   ]
  },
  {
   "cell_type": "code",
   "execution_count": 47,
   "id": "a7c7a995",
   "metadata": {},
   "outputs": [
    {
     "name": "stdout",
     "output_type": "stream",
     "text": [
      "Fitting 3 folds for each of 225 candidates, totalling 675 fits\n"
     ]
    },
    {
     "data": {
      "text/html": [
       "<style>#sk-887abbba-5fd9-4dfa-89d1-19a4bbcc2ee2 {color: black;background-color: white;}#sk-887abbba-5fd9-4dfa-89d1-19a4bbcc2ee2 pre{padding: 0;}#sk-887abbba-5fd9-4dfa-89d1-19a4bbcc2ee2 div.sk-toggleable {background-color: white;}#sk-887abbba-5fd9-4dfa-89d1-19a4bbcc2ee2 label.sk-toggleable__label {cursor: pointer;display: block;width: 100%;margin-bottom: 0;padding: 0.2em 0.3em;box-sizing: border-box;text-align: center;}#sk-887abbba-5fd9-4dfa-89d1-19a4bbcc2ee2 div.sk-toggleable__content {max-height: 0;max-width: 0;overflow: hidden;text-align: left;background-color: #f0f8ff;}#sk-887abbba-5fd9-4dfa-89d1-19a4bbcc2ee2 div.sk-toggleable__content pre {margin: 0.2em;color: black;border-radius: 0.25em;background-color: #f0f8ff;}#sk-887abbba-5fd9-4dfa-89d1-19a4bbcc2ee2 input.sk-toggleable__control:checked~div.sk-toggleable__content {max-height: 200px;max-width: 100%;overflow: auto;}#sk-887abbba-5fd9-4dfa-89d1-19a4bbcc2ee2 div.sk-estimator input.sk-toggleable__control:checked~label.sk-toggleable__label {background-color: #d4ebff;}#sk-887abbba-5fd9-4dfa-89d1-19a4bbcc2ee2 div.sk-label input.sk-toggleable__control:checked~label.sk-toggleable__label {background-color: #d4ebff;}#sk-887abbba-5fd9-4dfa-89d1-19a4bbcc2ee2 input.sk-hidden--visually {border: 0;clip: rect(1px 1px 1px 1px);clip: rect(1px, 1px, 1px, 1px);height: 1px;margin: -1px;overflow: hidden;padding: 0;position: absolute;width: 1px;}#sk-887abbba-5fd9-4dfa-89d1-19a4bbcc2ee2 div.sk-estimator {font-family: monospace;background-color: #f0f8ff;margin: 0.25em 0.25em;border: 1px dotted black;border-radius: 0.25em;box-sizing: border-box;}#sk-887abbba-5fd9-4dfa-89d1-19a4bbcc2ee2 div.sk-estimator:hover {background-color: #d4ebff;}#sk-887abbba-5fd9-4dfa-89d1-19a4bbcc2ee2 div.sk-parallel-item::after {content: \"\";width: 100%;border-bottom: 1px solid gray;flex-grow: 1;}#sk-887abbba-5fd9-4dfa-89d1-19a4bbcc2ee2 div.sk-label:hover label.sk-toggleable__label {background-color: #d4ebff;}#sk-887abbba-5fd9-4dfa-89d1-19a4bbcc2ee2 div.sk-serial::before {content: \"\";position: absolute;border-left: 1px solid gray;box-sizing: border-box;top: 2em;bottom: 0;left: 50%;}#sk-887abbba-5fd9-4dfa-89d1-19a4bbcc2ee2 div.sk-serial {display: flex;flex-direction: column;align-items: center;background-color: white;}#sk-887abbba-5fd9-4dfa-89d1-19a4bbcc2ee2 div.sk-item {z-index: 1;}#sk-887abbba-5fd9-4dfa-89d1-19a4bbcc2ee2 div.sk-parallel {display: flex;align-items: stretch;justify-content: center;background-color: white;}#sk-887abbba-5fd9-4dfa-89d1-19a4bbcc2ee2 div.sk-parallel-item {display: flex;flex-direction: column;position: relative;background-color: white;}#sk-887abbba-5fd9-4dfa-89d1-19a4bbcc2ee2 div.sk-parallel-item:first-child::after {align-self: flex-end;width: 50%;}#sk-887abbba-5fd9-4dfa-89d1-19a4bbcc2ee2 div.sk-parallel-item:last-child::after {align-self: flex-start;width: 50%;}#sk-887abbba-5fd9-4dfa-89d1-19a4bbcc2ee2 div.sk-parallel-item:only-child::after {width: 0;}#sk-887abbba-5fd9-4dfa-89d1-19a4bbcc2ee2 div.sk-dashed-wrapped {border: 1px dashed gray;margin: 0.2em;box-sizing: border-box;padding-bottom: 0.1em;background-color: white;position: relative;}#sk-887abbba-5fd9-4dfa-89d1-19a4bbcc2ee2 div.sk-label label {font-family: monospace;font-weight: bold;background-color: white;display: inline-block;line-height: 1.2em;}#sk-887abbba-5fd9-4dfa-89d1-19a4bbcc2ee2 div.sk-label-container {position: relative;z-index: 2;text-align: center;}#sk-887abbba-5fd9-4dfa-89d1-19a4bbcc2ee2 div.sk-container {display: inline-block;position: relative;}</style><div id=\"sk-887abbba-5fd9-4dfa-89d1-19a4bbcc2ee2\" class\"sk-top-container\"><div class=\"sk-container\"><div class=\"sk-item sk-dashed-wrapped\"><div class=\"sk-label-container\"><div class=\"sk-label sk-toggleable\"><input class=\"sk-toggleable__control sk-hidden--visually\" id=\"fc2f2953-f344-49f6-afa6-19462d9abc8e\" type=\"checkbox\" ><label class=\"sk-toggleable__label\" for=\"fc2f2953-f344-49f6-afa6-19462d9abc8e\">GridSearchCV</label><div class=\"sk-toggleable__content\"><pre>GridSearchCV(cv=3, estimator=RandomForestClassifier(), n_jobs=-1,\n",
       "             param_grid={'bootstrap': [True], 'max_depth': [20, 40, 60],\n",
       "                         'max_features': [2, 3, 5, 10, 20],\n",
       "                         'min_samples_leaf': [3, 4, 5, 10, 20],\n",
       "                         'n_estimators': [10, 50, 100]},\n",
       "             verbose=2)</pre></div></div></div><div class=\"sk-parallel\"><div class=\"sk-parallel-item\"><div class=\"sk-item\"><div class=\"sk-serial\"><div class=\"sk-item\"><div class=\"sk-estimator sk-toggleable\"><input class=\"sk-toggleable__control sk-hidden--visually\" id=\"1193f6f6-f305-433a-988e-db301d63c4f8\" type=\"checkbox\" ><label class=\"sk-toggleable__label\" for=\"1193f6f6-f305-433a-988e-db301d63c4f8\">RandomForestClassifier</label><div class=\"sk-toggleable__content\"><pre>RandomForestClassifier()</pre></div></div></div></div></div></div></div></div></div></div>"
      ],
      "text/plain": [
       "GridSearchCV(cv=3, estimator=RandomForestClassifier(), n_jobs=-1,\n",
       "             param_grid={'bootstrap': [True], 'max_depth': [20, 40, 60],\n",
       "                         'max_features': [2, 3, 5, 10, 20],\n",
       "                         'min_samples_leaf': [3, 4, 5, 10, 20],\n",
       "                         'n_estimators': [10, 50, 100]},\n",
       "             verbose=2)"
      ]
     },
     "execution_count": 47,
     "metadata": {},
     "output_type": "execute_result"
    }
   ],
   "source": [
    "grid_search.fit(X_to_csv, X[target])"
   ]
  },
  {
   "cell_type": "code",
   "execution_count": 48,
   "id": "524500d6",
   "metadata": {},
   "outputs": [
    {
     "data": {
      "text/plain": [
       "{'bootstrap': True,\n",
       " 'max_depth': 20,\n",
       " 'max_features': 5,\n",
       " 'min_samples_leaf': 10,\n",
       " 'n_estimators': 10}"
      ]
     },
     "execution_count": 48,
     "metadata": {},
     "output_type": "execute_result"
    }
   ],
   "source": [
    "grid_search.best_params_"
   ]
  },
  {
   "cell_type": "markdown",
   "id": "175e6f12",
   "metadata": {},
   "source": [
    "#### Final model"
   ]
  },
  {
   "cell_type": "code",
   "execution_count": 49,
   "id": "982116bb",
   "metadata": {},
   "outputs": [],
   "source": [
    "pipe_rf = Pipeline([\n",
    "    ('preprocessors', preprocessors),\n",
    "    #('model', RandomForestClassifier(bootstrap = True, max_depth = 40, max_features = 5, min_samples_leaf = 5, n_estimators = 100))\n",
    "    ('model', RandomForestClassifier(**grid_search.best_params_))])"
   ]
  },
  {
   "cell_type": "code",
   "execution_count": 50,
   "id": "fce22b4b",
   "metadata": {},
   "outputs": [],
   "source": [
    "X_train, X_test, y_train, y_test = train_test_split(X[features], \n",
    "                                                    X[target], \n",
    "                                                    test_size = .2, \n",
    "                                                    random_state = seed, \n",
    "                                                    stratify = X[target])"
   ]
  },
  {
   "cell_type": "code",
   "execution_count": 51,
   "id": "549743f1",
   "metadata": {},
   "outputs": [
    {
     "data": {
      "text/html": [
       "<style>#sk-094ecb19-9b81-4c6c-8aa6-d91c9dff3d0f {color: black;background-color: white;}#sk-094ecb19-9b81-4c6c-8aa6-d91c9dff3d0f pre{padding: 0;}#sk-094ecb19-9b81-4c6c-8aa6-d91c9dff3d0f div.sk-toggleable {background-color: white;}#sk-094ecb19-9b81-4c6c-8aa6-d91c9dff3d0f label.sk-toggleable__label {cursor: pointer;display: block;width: 100%;margin-bottom: 0;padding: 0.2em 0.3em;box-sizing: border-box;text-align: center;}#sk-094ecb19-9b81-4c6c-8aa6-d91c9dff3d0f div.sk-toggleable__content {max-height: 0;max-width: 0;overflow: hidden;text-align: left;background-color: #f0f8ff;}#sk-094ecb19-9b81-4c6c-8aa6-d91c9dff3d0f div.sk-toggleable__content pre {margin: 0.2em;color: black;border-radius: 0.25em;background-color: #f0f8ff;}#sk-094ecb19-9b81-4c6c-8aa6-d91c9dff3d0f input.sk-toggleable__control:checked~div.sk-toggleable__content {max-height: 200px;max-width: 100%;overflow: auto;}#sk-094ecb19-9b81-4c6c-8aa6-d91c9dff3d0f div.sk-estimator input.sk-toggleable__control:checked~label.sk-toggleable__label {background-color: #d4ebff;}#sk-094ecb19-9b81-4c6c-8aa6-d91c9dff3d0f div.sk-label input.sk-toggleable__control:checked~label.sk-toggleable__label {background-color: #d4ebff;}#sk-094ecb19-9b81-4c6c-8aa6-d91c9dff3d0f input.sk-hidden--visually {border: 0;clip: rect(1px 1px 1px 1px);clip: rect(1px, 1px, 1px, 1px);height: 1px;margin: -1px;overflow: hidden;padding: 0;position: absolute;width: 1px;}#sk-094ecb19-9b81-4c6c-8aa6-d91c9dff3d0f div.sk-estimator {font-family: monospace;background-color: #f0f8ff;margin: 0.25em 0.25em;border: 1px dotted black;border-radius: 0.25em;box-sizing: border-box;}#sk-094ecb19-9b81-4c6c-8aa6-d91c9dff3d0f div.sk-estimator:hover {background-color: #d4ebff;}#sk-094ecb19-9b81-4c6c-8aa6-d91c9dff3d0f div.sk-parallel-item::after {content: \"\";width: 100%;border-bottom: 1px solid gray;flex-grow: 1;}#sk-094ecb19-9b81-4c6c-8aa6-d91c9dff3d0f div.sk-label:hover label.sk-toggleable__label {background-color: #d4ebff;}#sk-094ecb19-9b81-4c6c-8aa6-d91c9dff3d0f div.sk-serial::before {content: \"\";position: absolute;border-left: 1px solid gray;box-sizing: border-box;top: 2em;bottom: 0;left: 50%;}#sk-094ecb19-9b81-4c6c-8aa6-d91c9dff3d0f div.sk-serial {display: flex;flex-direction: column;align-items: center;background-color: white;}#sk-094ecb19-9b81-4c6c-8aa6-d91c9dff3d0f div.sk-item {z-index: 1;}#sk-094ecb19-9b81-4c6c-8aa6-d91c9dff3d0f div.sk-parallel {display: flex;align-items: stretch;justify-content: center;background-color: white;}#sk-094ecb19-9b81-4c6c-8aa6-d91c9dff3d0f div.sk-parallel-item {display: flex;flex-direction: column;position: relative;background-color: white;}#sk-094ecb19-9b81-4c6c-8aa6-d91c9dff3d0f div.sk-parallel-item:first-child::after {align-self: flex-end;width: 50%;}#sk-094ecb19-9b81-4c6c-8aa6-d91c9dff3d0f div.sk-parallel-item:last-child::after {align-self: flex-start;width: 50%;}#sk-094ecb19-9b81-4c6c-8aa6-d91c9dff3d0f div.sk-parallel-item:only-child::after {width: 0;}#sk-094ecb19-9b81-4c6c-8aa6-d91c9dff3d0f div.sk-dashed-wrapped {border: 1px dashed gray;margin: 0.2em;box-sizing: border-box;padding-bottom: 0.1em;background-color: white;position: relative;}#sk-094ecb19-9b81-4c6c-8aa6-d91c9dff3d0f div.sk-label label {font-family: monospace;font-weight: bold;background-color: white;display: inline-block;line-height: 1.2em;}#sk-094ecb19-9b81-4c6c-8aa6-d91c9dff3d0f div.sk-label-container {position: relative;z-index: 2;text-align: center;}#sk-094ecb19-9b81-4c6c-8aa6-d91c9dff3d0f div.sk-container {display: inline-block;position: relative;}</style><div id=\"sk-094ecb19-9b81-4c6c-8aa6-d91c9dff3d0f\" class\"sk-top-container\"><div class=\"sk-container\"><div class=\"sk-item sk-dashed-wrapped\"><div class=\"sk-label-container\"><div class=\"sk-label sk-toggleable\"><input class=\"sk-toggleable__control sk-hidden--visually\" id=\"3af564d8-e4be-44f1-8afe-b983896dd3fc\" type=\"checkbox\" ><label class=\"sk-toggleable__label\" for=\"3af564d8-e4be-44f1-8afe-b983896dd3fc\">Pipeline</label><div class=\"sk-toggleable__content\"><pre>Pipeline(steps=[('preprocessors',\n",
       "                 ColumnTransformer(transformers=[('num',\n",
       "                                                  Pipeline(steps=[('imputer',\n",
       "                                                                   SimpleImputer()),\n",
       "                                                                  ('scaler',\n",
       "                                                                   MinMaxScaler())]),\n",
       "                                                  Index(['Unnamed: 0', 'id', 'scored_goals_team_h', 'conceded_goals_team_h',\n",
       "       'win_team_h', 'draw_team_h', 'loss_team_h', 'win_rate_team_h',\n",
       "       'win_rate_last_5_team_h', 'win_rate_h_team_h',\n",
       "       'win_rate_h_last_5_team_h', 'draw...\n",
       "       'best_assists_m_player_playing_player_a',\n",
       "       'best_assists_f_player_playing_player_a'],\n",
       "      dtype='object')),\n",
       "                                                 ('cat',\n",
       "                                                  Pipeline(steps=[('imputer',\n",
       "                                                                   SimpleImputer(fill_value='missing',\n",
       "                                                                                 strategy='constant')),\n",
       "                                                                  ('encoder',\n",
       "                                                                   OneHotEncoder(drop='first',\n",
       "                                                                                 sparse=False))]),\n",
       "                                                  Index(['season'], dtype='object'))])),\n",
       "                ('model',\n",
       "                 RandomForestClassifier(max_depth=20, max_features=5,\n",
       "                                        min_samples_leaf=10,\n",
       "                                        n_estimators=10))])</pre></div></div></div><div class=\"sk-serial\"><div class=\"sk-item sk-dashed-wrapped\"><div class=\"sk-label-container\"><div class=\"sk-label sk-toggleable\"><input class=\"sk-toggleable__control sk-hidden--visually\" id=\"711e4e0f-995f-409b-aae4-57f597fb0ce2\" type=\"checkbox\" ><label class=\"sk-toggleable__label\" for=\"711e4e0f-995f-409b-aae4-57f597fb0ce2\">preprocessors: ColumnTransformer</label><div class=\"sk-toggleable__content\"><pre>ColumnTransformer(transformers=[('num',\n",
       "                                 Pipeline(steps=[('imputer', SimpleImputer()),\n",
       "                                                 ('scaler', MinMaxScaler())]),\n",
       "                                 Index(['Unnamed: 0', 'id', 'scored_goals_team_h', 'conceded_goals_team_h',\n",
       "       'win_team_h', 'draw_team_h', 'loss_team_h', 'win_rate_team_h',\n",
       "       'win_rate_last_5_team_h', 'win_rate_h_team_h',\n",
       "       'win_rate_h_last_5_team_h', 'draw_rate_team_h',\n",
       "       'draw_rate_last_5_t...\n",
       "       'best_assists_player_playing_player_a',\n",
       "       'best_assists_d_player_playing_player_a',\n",
       "       'best_assists_m_player_playing_player_a',\n",
       "       'best_assists_f_player_playing_player_a'],\n",
       "      dtype='object')),\n",
       "                                ('cat',\n",
       "                                 Pipeline(steps=[('imputer',\n",
       "                                                  SimpleImputer(fill_value='missing',\n",
       "                                                                strategy='constant')),\n",
       "                                                 ('encoder',\n",
       "                                                  OneHotEncoder(drop='first',\n",
       "                                                                sparse=False))]),\n",
       "                                 Index(['season'], dtype='object'))])</pre></div></div></div><div class=\"sk-parallel\"><div class=\"sk-parallel-item\"><div class=\"sk-item\"><div class=\"sk-label-container\"><div class=\"sk-label sk-toggleable\"><input class=\"sk-toggleable__control sk-hidden--visually\" id=\"eeeb25f3-7424-410a-ba8d-54d5b35122ba\" type=\"checkbox\" ><label class=\"sk-toggleable__label\" for=\"eeeb25f3-7424-410a-ba8d-54d5b35122ba\">num</label><div class=\"sk-toggleable__content\"><pre>Index(['Unnamed: 0', 'id', 'scored_goals_team_h', 'conceded_goals_team_h',\n",
       "       'win_team_h', 'draw_team_h', 'loss_team_h', 'win_rate_team_h',\n",
       "       'win_rate_last_5_team_h', 'win_rate_h_team_h',\n",
       "       'win_rate_h_last_5_team_h', 'draw_rate_team_h',\n",
       "       'draw_rate_last_5_team_h', 'draw_rate_h_team_h',\n",
       "       'draw_rate_h_last_5_team_h', 'loss_rate_team_h',\n",
       "       'loss_rate_last_5_team_h', 'loss_rate_h_team_h',\n",
       "       'loss_rate_h_last_5_team_h', 'avg_scored_goals_team_h',\n",
       "       'avg_scored_goals_last_5_team_h', 'avg_scored_goals_h_team_h',\n",
       "       'avg_scored_goals_h_last_5_team_h', 'avg_conceded_goals_team_h',\n",
       "       'avg_conceded_goals_last_5_team_h', 'avg_conceded_goals_h_team_h',\n",
       "       'avg_conceded_goals_h_last_5_team_h', 'scored_goals_team_a',\n",
       "       'conceded_goals_team_a', 'win_team_a', 'draw_team_a', 'loss_team_a',\n",
       "       'win_rate_team_a', 'win_rate_last_5_team_a', 'win_rate_a_team_a',\n",
       "       'win_rate_a_last_5_team_a', 'draw_rate_team_a',\n",
       "       'draw_rate_last_5_team_a', 'draw_rate_a_team_a',\n",
       "       'draw_rate_a_last_5_team_a', 'loss_rate_team_a',\n",
       "       'loss_rate_last_5_team_a', 'loss_rate_a_team_a',\n",
       "       'loss_rate_a_last_5_team_a', 'avg_scored_goals_team_a',\n",
       "       'avg_scored_goals_last_5_team_a', 'avg_scored_goals_a_team_a',\n",
       "       'avg_scored_goals_a_last_5_team_a', 'avg_conceded_goals_team_a',\n",
       "       'avg_conceded_goals_last_5_team_a', 'avg_conceded_goals_a_team_a',\n",
       "       'avg_conceded_goals_a_last_5_team_a', 'max_value_player_h',\n",
       "       'max_value_position_g_player_h', 'max_value_position_d_player_h',\n",
       "       'max_value_position_m_player_h', 'max_value_position_f_player_h',\n",
       "       'avg_goals_per_hour_5_player_h', 'avg_goals_per_hour_10_player_h',\n",
       "       'avg_assists_per_hour_5_player_h', 'avg_assists_per_hour_10_player_h',\n",
       "       'avg_goals_conceded_per_hour_5_player_h',\n",
       "       'avg_goals_conceded_per_hour_10_player_h',\n",
       "       'most_valuable_player_playing_player_h',\n",
       "       'most_valuable_g_player_playing_player_h',\n",
       "       'most_valuable_f_player_playing_player_h',\n",
       "       'most_valuable_m_player_playing_player_h',\n",
       "       'best_goal_scorer_playing_player_h',\n",
       "       'best_m_goal_scorer_playing_player_h',\n",
       "       'best_f_goal_scorer_playing_player_h',\n",
       "       'best_assists_player_playing_player_h',\n",
       "       'best_assists_d_player_playing_player_h',\n",
       "       'best_assists_m_player_playing_player_h',\n",
       "       'best_assists_f_player_playing_player_h', 'max_value_player_a',\n",
       "       'max_value_position_g_player_a', 'max_value_position_d_player_a',\n",
       "       'max_value_position_m_player_a', 'max_value_position_f_player_a',\n",
       "       'avg_goals_per_hour_5_player_a', 'avg_goals_per_hour_10_player_a',\n",
       "       'avg_assists_per_hour_5_player_a', 'avg_assists_per_hour_10_player_a',\n",
       "       'avg_goals_conceded_per_hour_5_player_a',\n",
       "       'avg_goals_conceded_per_hour_10_player_a',\n",
       "       'most_valuable_player_playing_player_a',\n",
       "       'most_valuable_g_player_playing_player_a',\n",
       "       'most_valuable_f_player_playing_player_a',\n",
       "       'most_valuable_m_player_playing_player_a',\n",
       "       'best_goal_scorer_playing_player_a',\n",
       "       'best_m_goal_scorer_playing_player_a',\n",
       "       'best_f_goal_scorer_playing_player_a',\n",
       "       'best_assists_player_playing_player_a',\n",
       "       'best_assists_d_player_playing_player_a',\n",
       "       'best_assists_m_player_playing_player_a',\n",
       "       'best_assists_f_player_playing_player_a'],\n",
       "      dtype='object')</pre></div></div></div><div class=\"sk-serial\"><div class=\"sk-item\"><div class=\"sk-serial\"><div class=\"sk-item\"><div class=\"sk-estimator sk-toggleable\"><input class=\"sk-toggleable__control sk-hidden--visually\" id=\"befbb554-eb66-41e7-8307-768a3bcd037b\" type=\"checkbox\" ><label class=\"sk-toggleable__label\" for=\"befbb554-eb66-41e7-8307-768a3bcd037b\">SimpleImputer</label><div class=\"sk-toggleable__content\"><pre>SimpleImputer()</pre></div></div></div><div class=\"sk-item\"><div class=\"sk-estimator sk-toggleable\"><input class=\"sk-toggleable__control sk-hidden--visually\" id=\"d2a9885f-3ac3-4c32-aad6-df57b3d0d1e7\" type=\"checkbox\" ><label class=\"sk-toggleable__label\" for=\"d2a9885f-3ac3-4c32-aad6-df57b3d0d1e7\">MinMaxScaler</label><div class=\"sk-toggleable__content\"><pre>MinMaxScaler()</pre></div></div></div></div></div></div></div></div><div class=\"sk-parallel-item\"><div class=\"sk-item\"><div class=\"sk-label-container\"><div class=\"sk-label sk-toggleable\"><input class=\"sk-toggleable__control sk-hidden--visually\" id=\"876553c2-e9a1-4428-a046-fd151618a880\" type=\"checkbox\" ><label class=\"sk-toggleable__label\" for=\"876553c2-e9a1-4428-a046-fd151618a880\">cat</label><div class=\"sk-toggleable__content\"><pre>Index(['season'], dtype='object')</pre></div></div></div><div class=\"sk-serial\"><div class=\"sk-item\"><div class=\"sk-serial\"><div class=\"sk-item\"><div class=\"sk-estimator sk-toggleable\"><input class=\"sk-toggleable__control sk-hidden--visually\" id=\"6ebbb4cd-61f4-45e9-88fa-f619d6945888\" type=\"checkbox\" ><label class=\"sk-toggleable__label\" for=\"6ebbb4cd-61f4-45e9-88fa-f619d6945888\">SimpleImputer</label><div class=\"sk-toggleable__content\"><pre>SimpleImputer(fill_value='missing', strategy='constant')</pre></div></div></div><div class=\"sk-item\"><div class=\"sk-estimator sk-toggleable\"><input class=\"sk-toggleable__control sk-hidden--visually\" id=\"cad38ebb-7ab6-43a7-9e81-cf6dba3f11a7\" type=\"checkbox\" ><label class=\"sk-toggleable__label\" for=\"cad38ebb-7ab6-43a7-9e81-cf6dba3f11a7\">OneHotEncoder</label><div class=\"sk-toggleable__content\"><pre>OneHotEncoder(drop='first', sparse=False)</pre></div></div></div></div></div></div></div></div></div></div><div class=\"sk-item\"><div class=\"sk-estimator sk-toggleable\"><input class=\"sk-toggleable__control sk-hidden--visually\" id=\"f2e993c3-136b-4aad-9e6f-7b18189147db\" type=\"checkbox\" ><label class=\"sk-toggleable__label\" for=\"f2e993c3-136b-4aad-9e6f-7b18189147db\">RandomForestClassifier</label><div class=\"sk-toggleable__content\"><pre>RandomForestClassifier(max_depth=20, max_features=5, min_samples_leaf=10,\n",
       "                       n_estimators=10)</pre></div></div></div></div></div></div></div>"
      ],
      "text/plain": [
       "Pipeline(steps=[('preprocessors',\n",
       "                 ColumnTransformer(transformers=[('num',\n",
       "                                                  Pipeline(steps=[('imputer',\n",
       "                                                                   SimpleImputer()),\n",
       "                                                                  ('scaler',\n",
       "                                                                   MinMaxScaler())]),\n",
       "                                                  Index(['Unnamed: 0', 'id', 'scored_goals_team_h', 'conceded_goals_team_h',\n",
       "       'win_team_h', 'draw_team_h', 'loss_team_h', 'win_rate_team_h',\n",
       "       'win_rate_last_5_team_h', 'win_rate_h_team_h',\n",
       "       'win_rate_h_last_5_team_h', 'draw...\n",
       "       'best_assists_m_player_playing_player_a',\n",
       "       'best_assists_f_player_playing_player_a'],\n",
       "      dtype='object')),\n",
       "                                                 ('cat',\n",
       "                                                  Pipeline(steps=[('imputer',\n",
       "                                                                   SimpleImputer(fill_value='missing',\n",
       "                                                                                 strategy='constant')),\n",
       "                                                                  ('encoder',\n",
       "                                                                   OneHotEncoder(drop='first',\n",
       "                                                                                 sparse=False))]),\n",
       "                                                  Index(['season'], dtype='object'))])),\n",
       "                ('model',\n",
       "                 RandomForestClassifier(max_depth=20, max_features=5,\n",
       "                                        min_samples_leaf=10,\n",
       "                                        n_estimators=10))])"
      ]
     },
     "execution_count": 51,
     "metadata": {},
     "output_type": "execute_result"
    }
   ],
   "source": [
    "pipe_rf.fit(X_train, y_train)"
   ]
  },
  {
   "cell_type": "code",
   "execution_count": 52,
   "id": "c9445c08",
   "metadata": {},
   "outputs": [
    {
     "name": "stdout",
     "output_type": "stream",
     "text": [
      "Train ROC-AUC: 0.9019\n",
      "Test ROC-AUC: 0.5563\n"
     ]
    }
   ],
   "source": [
    "def calculate_roc_auc(model_pipe, X, y):\n",
    "    \"\"\"Calculate roc auc score. \n",
    "    \n",
    "    Parameters:\n",
    "    ===========\n",
    "    model_pipe: sklearn model or pipeline\n",
    "    X: features\n",
    "    y: true target\n",
    "    \"\"\"\n",
    "    y_proba = model_pipe.predict_proba(X)[:,1]\n",
    "    return roc_auc_score(y, y_proba)\n",
    "\n",
    "print(f\"Train ROC-AUC: {calculate_roc_auc(pipe_rf, X_train, y_train):.4f}\")\n",
    "print(f\"Test ROC-AUC: {calculate_roc_auc(pipe_rf, X_test, y_test):.4f}\")"
   ]
  },
  {
   "cell_type": "code",
   "execution_count": 53,
   "id": "27a55182",
   "metadata": {},
   "outputs": [
    {
     "data": {
      "text/plain": [
       "array([0.30818918, 0.46733983, 0.12041928, 0.4064611 , 0.18060893,\n",
       "       0.15746184, 0.10695198, 0.37593995, 0.63877116])"
      ]
     },
     "execution_count": 53,
     "metadata": {},
     "output_type": "execute_result"
    }
   ],
   "source": [
    "pipe_rf.predict_proba(score[features])[:, 1]"
   ]
  },
  {
   "cell_type": "code",
   "execution_count": 54,
   "id": "abf774e4",
   "metadata": {},
   "outputs": [],
   "source": [
    "result[\"away_win_probability\"] = pipe_rf.predict_proba(score[features])[:, 1]"
   ]
  },
  {
   "cell_type": "code",
   "execution_count": 55,
   "id": "e1f066cd",
   "metadata": {},
   "outputs": [
    {
     "data": {
      "text/html": [
       "<div>\n",
       "<style scoped>\n",
       "    .dataframe tbody tr th:only-of-type {\n",
       "        vertical-align: middle;\n",
       "    }\n",
       "\n",
       "    .dataframe tbody tr th {\n",
       "        vertical-align: top;\n",
       "    }\n",
       "\n",
       "    .dataframe thead th {\n",
       "        text-align: right;\n",
       "    }\n",
       "</style>\n",
       "<table border=\"1\" class=\"dataframe\">\n",
       "  <thead>\n",
       "    <tr style=\"text-align: right;\">\n",
       "      <th></th>\n",
       "      <th>id</th>\n",
       "      <th>team_h</th>\n",
       "      <th>team_name_home</th>\n",
       "      <th>team_a</th>\n",
       "      <th>team_name_away</th>\n",
       "      <th>match_day</th>\n",
       "      <th>home_win_probability</th>\n",
       "      <th>draw_probability</th>\n",
       "      <th>away_win_probability</th>\n",
       "    </tr>\n",
       "  </thead>\n",
       "  <tbody>\n",
       "    <tr>\n",
       "      <th>776</th>\n",
       "      <td>46</td>\n",
       "      <td>10</td>\n",
       "      <td>LEI</td>\n",
       "      <td>14</td>\n",
       "      <td>MUN</td>\n",
       "      <td>2022-09-01</td>\n",
       "      <td>0.404245</td>\n",
       "      <td>0.267546</td>\n",
       "      <td>0.308189</td>\n",
       "    </tr>\n",
       "    <tr>\n",
       "      <th>777</th>\n",
       "      <td>55</td>\n",
       "      <td>8</td>\n",
       "      <td>EVE</td>\n",
       "      <td>12</td>\n",
       "      <td>LIV</td>\n",
       "      <td>2022-09-03</td>\n",
       "      <td>0.177308</td>\n",
       "      <td>0.340355</td>\n",
       "      <td>0.467340</td>\n",
       "    </tr>\n",
       "    <tr>\n",
       "      <th>778</th>\n",
       "      <td>52</td>\n",
       "      <td>4</td>\n",
       "      <td>BRE</td>\n",
       "      <td>11</td>\n",
       "      <td>LEE</td>\n",
       "      <td>2022-09-03</td>\n",
       "      <td>0.429633</td>\n",
       "      <td>0.309891</td>\n",
       "      <td>0.120419</td>\n",
       "    </tr>\n",
       "    <tr>\n",
       "      <th>779</th>\n",
       "      <td>54</td>\n",
       "      <td>6</td>\n",
       "      <td>CHE</td>\n",
       "      <td>19</td>\n",
       "      <td>WHU</td>\n",
       "      <td>2022-09-03</td>\n",
       "      <td>0.488110</td>\n",
       "      <td>0.229151</td>\n",
       "      <td>0.406461</td>\n",
       "    </tr>\n",
       "    <tr>\n",
       "      <th>780</th>\n",
       "      <td>57</td>\n",
       "      <td>15</td>\n",
       "      <td>NEW</td>\n",
       "      <td>7</td>\n",
       "      <td>CRY</td>\n",
       "      <td>2022-09-03</td>\n",
       "      <td>0.518182</td>\n",
       "      <td>0.309883</td>\n",
       "      <td>0.180609</td>\n",
       "    </tr>\n",
       "    <tr>\n",
       "      <th>781</th>\n",
       "      <td>58</td>\n",
       "      <td>16</td>\n",
       "      <td>NFO</td>\n",
       "      <td>3</td>\n",
       "      <td>BOU</td>\n",
       "      <td>2022-09-03</td>\n",
       "      <td>0.308879</td>\n",
       "      <td>0.414580</td>\n",
       "      <td>0.157462</td>\n",
       "    </tr>\n",
       "    <tr>\n",
       "      <th>782</th>\n",
       "      <td>59</td>\n",
       "      <td>18</td>\n",
       "      <td>TOT</td>\n",
       "      <td>9</td>\n",
       "      <td>FUL</td>\n",
       "      <td>2022-09-03</td>\n",
       "      <td>0.679326</td>\n",
       "      <td>0.130771</td>\n",
       "      <td>0.106952</td>\n",
       "    </tr>\n",
       "    <tr>\n",
       "      <th>783</th>\n",
       "      <td>60</td>\n",
       "      <td>20</td>\n",
       "      <td>WOL</td>\n",
       "      <td>17</td>\n",
       "      <td>SOU</td>\n",
       "      <td>2022-09-03</td>\n",
       "      <td>0.374627</td>\n",
       "      <td>0.323111</td>\n",
       "      <td>0.375940</td>\n",
       "    </tr>\n",
       "    <tr>\n",
       "      <th>784</th>\n",
       "      <td>51</td>\n",
       "      <td>2</td>\n",
       "      <td>AVL</td>\n",
       "      <td>13</td>\n",
       "      <td>MCI</td>\n",
       "      <td>2022-09-03</td>\n",
       "      <td>0.110637</td>\n",
       "      <td>0.454548</td>\n",
       "      <td>0.638771</td>\n",
       "    </tr>\n",
       "  </tbody>\n",
       "</table>\n",
       "</div>"
      ],
      "text/plain": [
       "     id  team_h team_name_home  team_a team_name_away   match_day  \\\n",
       "776  46      10            LEI      14            MUN  2022-09-01   \n",
       "777  55       8            EVE      12            LIV  2022-09-03   \n",
       "778  52       4            BRE      11            LEE  2022-09-03   \n",
       "779  54       6            CHE      19            WHU  2022-09-03   \n",
       "780  57      15            NEW       7            CRY  2022-09-03   \n",
       "781  58      16            NFO       3            BOU  2022-09-03   \n",
       "782  59      18            TOT       9            FUL  2022-09-03   \n",
       "783  60      20            WOL      17            SOU  2022-09-03   \n",
       "784  51       2            AVL      13            MCI  2022-09-03   \n",
       "\n",
       "     home_win_probability  draw_probability  away_win_probability  \n",
       "776              0.404245          0.267546              0.308189  \n",
       "777              0.177308          0.340355              0.467340  \n",
       "778              0.429633          0.309891              0.120419  \n",
       "779              0.488110          0.229151              0.406461  \n",
       "780              0.518182          0.309883              0.180609  \n",
       "781              0.308879          0.414580              0.157462  \n",
       "782              0.679326          0.130771              0.106952  \n",
       "783              0.374627          0.323111              0.375940  \n",
       "784              0.110637          0.454548              0.638771  "
      ]
     },
     "execution_count": 55,
     "metadata": {},
     "output_type": "execute_result"
    }
   ],
   "source": [
    "result"
   ]
  },
  {
   "cell_type": "markdown",
   "id": "3fdb70a3",
   "metadata": {},
   "source": [
    "## Adjust score"
   ]
  },
  {
   "cell_type": "code",
   "execution_count": 56,
   "id": "4049e336",
   "metadata": {},
   "outputs": [],
   "source": [
    "result[\"home_win_probability_adj\"] = result[\"home_win_probability\"] / (result[\"home_win_probability\"] + result[\"draw_probability\"] + result[\"away_win_probability\"])\n",
    "result[\"draw_probability_adj\"] = result[\"draw_probability\"] / (result[\"home_win_probability\"] + result[\"draw_probability\"] + result[\"away_win_probability\"])\n",
    "result[\"away_win_probability_adj\"] = result[\"away_win_probability\"] / (result[\"home_win_probability\"] + result[\"draw_probability\"] + result[\"away_win_probability\"])"
   ]
  },
  {
   "cell_type": "code",
   "execution_count": 59,
   "id": "80dcf749",
   "metadata": {},
   "outputs": [
    {
     "data": {
      "text/html": [
       "<div>\n",
       "<style scoped>\n",
       "    .dataframe tbody tr th:only-of-type {\n",
       "        vertical-align: middle;\n",
       "    }\n",
       "\n",
       "    .dataframe tbody tr th {\n",
       "        vertical-align: top;\n",
       "    }\n",
       "\n",
       "    .dataframe thead th {\n",
       "        text-align: right;\n",
       "    }\n",
       "</style>\n",
       "<table border=\"1\" class=\"dataframe\">\n",
       "  <thead>\n",
       "    <tr style=\"text-align: right;\">\n",
       "      <th></th>\n",
       "      <th>match_day</th>\n",
       "      <th>team_name_home</th>\n",
       "      <th>team_name_away</th>\n",
       "      <th>home_win_probability_adj</th>\n",
       "      <th>draw_probability_adj</th>\n",
       "      <th>away_win_probability_adj</th>\n",
       "    </tr>\n",
       "  </thead>\n",
       "  <tbody>\n",
       "    <tr>\n",
       "      <th>776</th>\n",
       "      <td>2022-09-01</td>\n",
       "      <td>LEI</td>\n",
       "      <td>MUN</td>\n",
       "      <td>0.412503</td>\n",
       "      <td>0.273012</td>\n",
       "      <td>0.314485</td>\n",
       "    </tr>\n",
       "    <tr>\n",
       "      <th>777</th>\n",
       "      <td>2022-09-03</td>\n",
       "      <td>EVE</td>\n",
       "      <td>LIV</td>\n",
       "      <td>0.180007</td>\n",
       "      <td>0.345537</td>\n",
       "      <td>0.474456</td>\n",
       "    </tr>\n",
       "    <tr>\n",
       "      <th>778</th>\n",
       "      <td>2022-09-03</td>\n",
       "      <td>BRE</td>\n",
       "      <td>LEE</td>\n",
       "      <td>0.499606</td>\n",
       "      <td>0.360362</td>\n",
       "      <td>0.140032</td>\n",
       "    </tr>\n",
       "    <tr>\n",
       "      <th>779</th>\n",
       "      <td>2022-09-03</td>\n",
       "      <td>CHE</td>\n",
       "      <td>WHU</td>\n",
       "      <td>0.434369</td>\n",
       "      <td>0.203921</td>\n",
       "      <td>0.361710</td>\n",
       "    </tr>\n",
       "    <tr>\n",
       "      <th>780</th>\n",
       "      <td>2022-09-03</td>\n",
       "      <td>NEW</td>\n",
       "      <td>CRY</td>\n",
       "      <td>0.513726</td>\n",
       "      <td>0.307218</td>\n",
       "      <td>0.179056</td>\n",
       "    </tr>\n",
       "    <tr>\n",
       "      <th>781</th>\n",
       "      <td>2022-09-03</td>\n",
       "      <td>NFO</td>\n",
       "      <td>BOU</td>\n",
       "      <td>0.350632</td>\n",
       "      <td>0.470621</td>\n",
       "      <td>0.178747</td>\n",
       "    </tr>\n",
       "    <tr>\n",
       "      <th>782</th>\n",
       "      <td>2022-09-03</td>\n",
       "      <td>TOT</td>\n",
       "      <td>FUL</td>\n",
       "      <td>0.740774</td>\n",
       "      <td>0.142600</td>\n",
       "      <td>0.116626</td>\n",
       "    </tr>\n",
       "    <tr>\n",
       "      <th>783</th>\n",
       "      <td>2022-09-03</td>\n",
       "      <td>WOL</td>\n",
       "      <td>SOU</td>\n",
       "      <td>0.348919</td>\n",
       "      <td>0.300938</td>\n",
       "      <td>0.350142</td>\n",
       "    </tr>\n",
       "    <tr>\n",
       "      <th>784</th>\n",
       "      <td>2022-09-03</td>\n",
       "      <td>AVL</td>\n",
       "      <td>MCI</td>\n",
       "      <td>0.091894</td>\n",
       "      <td>0.377545</td>\n",
       "      <td>0.530560</td>\n",
       "    </tr>\n",
       "  </tbody>\n",
       "</table>\n",
       "</div>"
      ],
      "text/plain": [
       "      match_day team_name_home team_name_away  home_win_probability_adj  \\\n",
       "776  2022-09-01            LEI            MUN                  0.412503   \n",
       "777  2022-09-03            EVE            LIV                  0.180007   \n",
       "778  2022-09-03            BRE            LEE                  0.499606   \n",
       "779  2022-09-03            CHE            WHU                  0.434369   \n",
       "780  2022-09-03            NEW            CRY                  0.513726   \n",
       "781  2022-09-03            NFO            BOU                  0.350632   \n",
       "782  2022-09-03            TOT            FUL                  0.740774   \n",
       "783  2022-09-03            WOL            SOU                  0.348919   \n",
       "784  2022-09-03            AVL            MCI                  0.091894   \n",
       "\n",
       "     draw_probability_adj  away_win_probability_adj  \n",
       "776              0.273012                  0.314485  \n",
       "777              0.345537                  0.474456  \n",
       "778              0.360362                  0.140032  \n",
       "779              0.203921                  0.361710  \n",
       "780              0.307218                  0.179056  \n",
       "781              0.470621                  0.178747  \n",
       "782              0.142600                  0.116626  \n",
       "783              0.300938                  0.350142  \n",
       "784              0.377545                  0.530560  "
      ]
     },
     "execution_count": 59,
     "metadata": {},
     "output_type": "execute_result"
    }
   ],
   "source": [
    "result[[\"match_day\", \"team_name_home\", \"team_name_away\", \"home_win_probability_adj\", \"draw_probability_adj\", \"away_win_probability_adj\"]]"
   ]
  },
  {
   "cell_type": "code",
   "execution_count": 63,
   "id": "f1b6414a",
   "metadata": {},
   "outputs": [
    {
     "data": {
      "text/plain": [
       "0.4059278350515464"
      ]
     },
     "execution_count": 63,
     "metadata": {},
     "output_type": "execute_result"
    }
   ],
   "source": [
    "X.result_home_win.mean()"
   ]
  },
  {
   "cell_type": "code",
   "execution_count": 64,
   "id": "74dbfc07",
   "metadata": {},
   "outputs": [
    {
     "data": {
      "text/plain": [
       "0.23711340206185566"
      ]
     },
     "execution_count": 64,
     "metadata": {},
     "output_type": "execute_result"
    }
   ],
   "source": [
    "X.result_draw.mean()"
   ]
  },
  {
   "cell_type": "code",
   "execution_count": 65,
   "id": "cb2ee684",
   "metadata": {},
   "outputs": [
    {
     "data": {
      "text/plain": [
       "0.35695876288659795"
      ]
     },
     "execution_count": 65,
     "metadata": {},
     "output_type": "execute_result"
    }
   ],
   "source": [
    "X.result_away_win.mean()"
   ]
  },
  {
   "cell_type": "markdown",
   "id": "5081bf81",
   "metadata": {},
   "source": [
    "Play on games when probability * odds > 1"
   ]
  },
  {
   "cell_type": "code",
   "execution_count": null,
   "id": "1e073538",
   "metadata": {},
   "outputs": [],
   "source": []
  }
 ],
 "metadata": {
  "kernelspec": {
   "display_name": "Python 3 (ipykernel)",
   "language": "python",
   "name": "python3"
  },
  "language_info": {
   "codemirror_mode": {
    "name": "ipython",
    "version": 3
   },
   "file_extension": ".py",
   "mimetype": "text/x-python",
   "name": "python",
   "nbconvert_exporter": "python",
   "pygments_lexer": "ipython3",
   "version": "3.9.7"
  }
 },
 "nbformat": 4,
 "nbformat_minor": 5
}
